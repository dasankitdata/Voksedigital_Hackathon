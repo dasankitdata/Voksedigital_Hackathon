{
 "cells": [
  {
   "cell_type": "markdown",
   "id": "fe439e5a",
   "metadata": {},
   "source": [
    "# Trail 1 for Hackathon Voksedigital"
   ]
  },
  {
   "cell_type": "markdown",
   "id": "7f907a31",
   "metadata": {},
   "source": [
    "# Reading data and walkthrough"
   ]
  },
  {
   "cell_type": "code",
   "execution_count": 1,
   "id": "41711059",
   "metadata": {},
   "outputs": [],
   "source": [
    "# importing the librarires\n",
    "import pandas as pd\n",
    "import numpy as np\n",
    "import seaborn as sns\n",
    "import matplotlib.pyplot as plt\n",
    "import warnings\n",
    "warnings.filterwarnings('ignore')"
   ]
  },
  {
   "cell_type": "code",
   "execution_count": 2,
   "id": "a14ba7a9",
   "metadata": {},
   "outputs": [],
   "source": [
    "# Reading the training set and testing set\n",
    "df_tr = pd.read_csv('train.csv')\n",
    "df_te = pd.read_csv('test.csv')"
   ]
  },
  {
   "cell_type": "code",
   "execution_count": 3,
   "id": "29021a47",
   "metadata": {},
   "outputs": [
    {
     "data": {
      "text/html": [
       "<div>\n",
       "<style scoped>\n",
       "    .dataframe tbody tr th:only-of-type {\n",
       "        vertical-align: middle;\n",
       "    }\n",
       "\n",
       "    .dataframe tbody tr th {\n",
       "        vertical-align: top;\n",
       "    }\n",
       "\n",
       "    .dataframe thead th {\n",
       "        text-align: right;\n",
       "    }\n",
       "</style>\n",
       "<table border=\"1\" class=\"dataframe\">\n",
       "  <thead>\n",
       "    <tr style=\"text-align: right;\">\n",
       "      <th></th>\n",
       "      <th>ID</th>\n",
       "      <th>year_of_poll</th>\n",
       "      <th>own_self_emp</th>\n",
       "      <th>veteran benefits</th>\n",
       "      <th>currently_enrolled</th>\n",
       "      <th>race</th>\n",
       "      <th>father_country</th>\n",
       "      <th>educ</th>\n",
       "      <th>house_stat</th>\n",
       "      <th>major_ind_code</th>\n",
       "      <th>...</th>\n",
       "      <th>income_filled</th>\n",
       "      <th>weeks_worked</th>\n",
       "      <th>under18</th>\n",
       "      <th>hourly_wage</th>\n",
       "      <th>unemp_reason</th>\n",
       "      <th>citizenship</th>\n",
       "      <th>woker_type</th>\n",
       "      <th>fed_liability</th>\n",
       "      <th>full_partime_job</th>\n",
       "      <th>income</th>\n",
       "    </tr>\n",
       "  </thead>\n",
       "  <tbody>\n",
       "    <tr>\n",
       "      <th>0</th>\n",
       "      <td>0</td>\n",
       "      <td>2004</td>\n",
       "      <td>0</td>\n",
       "      <td>2</td>\n",
       "      <td>High school</td>\n",
       "      <td>White</td>\n",
       "      <td>United-States</td>\n",
       "      <td>Associates degree-academic program</td>\n",
       "      <td>Householder</td>\n",
       "      <td>Business and repair services</td>\n",
       "      <td>...</td>\n",
       "      <td>No</td>\n",
       "      <td>47</td>\n",
       "      <td>NaN</td>\n",
       "      <td>0.0</td>\n",
       "      <td>NaN</td>\n",
       "      <td>NB_US</td>\n",
       "      <td>Pvt</td>\n",
       "      <td>Joint_both_under65</td>\n",
       "      <td>Children/Armed_Forces</td>\n",
       "      <td>More than 50K $</td>\n",
       "    </tr>\n",
       "    <tr>\n",
       "      <th>1</th>\n",
       "      <td>1</td>\n",
       "      <td>2005</td>\n",
       "      <td>0</td>\n",
       "      <td>0</td>\n",
       "      <td>College/University</td>\n",
       "      <td>White</td>\n",
       "      <td>Japan</td>\n",
       "      <td>Children</td>\n",
       "      <td>Child &lt;18 never marr not in subfamily</td>\n",
       "      <td>Not in universe or children</td>\n",
       "      <td>...</td>\n",
       "      <td>No</td>\n",
       "      <td>0</td>\n",
       "      <td>Both_Pr</td>\n",
       "      <td>0.0</td>\n",
       "      <td>NaN</td>\n",
       "      <td>NB_US</td>\n",
       "      <td>NaN</td>\n",
       "      <td>Nonfiler</td>\n",
       "      <td>Children/Armed_Forces</td>\n",
       "      <td>More than 50K $</td>\n",
       "    </tr>\n",
       "    <tr>\n",
       "      <th>2</th>\n",
       "      <td>2</td>\n",
       "      <td>2004</td>\n",
       "      <td>0</td>\n",
       "      <td>2</td>\n",
       "      <td>NaN</td>\n",
       "      <td>White</td>\n",
       "      <td>United-States</td>\n",
       "      <td>Some college but no degree</td>\n",
       "      <td>Secondary individual</td>\n",
       "      <td>Manufacturing-durable goods</td>\n",
       "      <td>...</td>\n",
       "      <td>Yes</td>\n",
       "      <td>47</td>\n",
       "      <td>NaN</td>\n",
       "      <td>0.0</td>\n",
       "      <td>NaN</td>\n",
       "      <td>NB_US</td>\n",
       "      <td>Pvt</td>\n",
       "      <td>Single</td>\n",
       "      <td>Children/Armed_Forces</td>\n",
       "      <td>More than 50K $</td>\n",
       "    </tr>\n",
       "    <tr>\n",
       "      <th>3</th>\n",
       "      <td>3</td>\n",
       "      <td>2004</td>\n",
       "      <td>0</td>\n",
       "      <td>2</td>\n",
       "      <td>College/University</td>\n",
       "      <td>Amer/Indian/Aleut/Eskimo</td>\n",
       "      <td>United-States</td>\n",
       "      <td>High school graduate</td>\n",
       "      <td>Householder</td>\n",
       "      <td>Wholesale trade</td>\n",
       "      <td>...</td>\n",
       "      <td>NaN</td>\n",
       "      <td>47</td>\n",
       "      <td>NaN</td>\n",
       "      <td>0.0</td>\n",
       "      <td>NaN</td>\n",
       "      <td>NB_US</td>\n",
       "      <td>Pvt</td>\n",
       "      <td>Joint_both_under65</td>\n",
       "      <td>Children/Armed_Forces</td>\n",
       "      <td>More than 50K $</td>\n",
       "    </tr>\n",
       "    <tr>\n",
       "      <th>4</th>\n",
       "      <td>4</td>\n",
       "      <td>2004</td>\n",
       "      <td>0</td>\n",
       "      <td>2</td>\n",
       "      <td>NaN</td>\n",
       "      <td>White</td>\n",
       "      <td>United-States</td>\n",
       "      <td>High school graduate</td>\n",
       "      <td>Householder</td>\n",
       "      <td>Wholesale trade</td>\n",
       "      <td>...</td>\n",
       "      <td>NaN</td>\n",
       "      <td>47</td>\n",
       "      <td>NaN</td>\n",
       "      <td>0.0</td>\n",
       "      <td>NaN</td>\n",
       "      <td>NB_US</td>\n",
       "      <td>Pvt</td>\n",
       "      <td>Single</td>\n",
       "      <td>Children/Armed_Forces</td>\n",
       "      <td>More than 50K $</td>\n",
       "    </tr>\n",
       "    <tr>\n",
       "      <th>5</th>\n",
       "      <td>5</td>\n",
       "      <td>2004</td>\n",
       "      <td>0</td>\n",
       "      <td>0</td>\n",
       "      <td>NaN</td>\n",
       "      <td>White</td>\n",
       "      <td>Mexico</td>\n",
       "      <td>Children</td>\n",
       "      <td>Child &lt;18 never marr not in subfamily</td>\n",
       "      <td>Not in universe or children</td>\n",
       "      <td>...</td>\n",
       "      <td>Yes</td>\n",
       "      <td>0</td>\n",
       "      <td>Only_Mom</td>\n",
       "      <td>0.0</td>\n",
       "      <td>NaN</td>\n",
       "      <td>NB_US</td>\n",
       "      <td>NaN</td>\n",
       "      <td>Nonfiler</td>\n",
       "      <td>Children/Armed_Forces</td>\n",
       "      <td>More than 50K $</td>\n",
       "    </tr>\n",
       "    <tr>\n",
       "      <th>6</th>\n",
       "      <td>6</td>\n",
       "      <td>2005</td>\n",
       "      <td>0</td>\n",
       "      <td>2</td>\n",
       "      <td>College/University</td>\n",
       "      <td>White</td>\n",
       "      <td>United-States</td>\n",
       "      <td>Some college but no degree</td>\n",
       "      <td>Child 18+ never marr Not in a subfamily</td>\n",
       "      <td>Entertainment</td>\n",
       "      <td>...</td>\n",
       "      <td>No</td>\n",
       "      <td>36</td>\n",
       "      <td>NaN</td>\n",
       "      <td>0.0</td>\n",
       "      <td>NaN</td>\n",
       "      <td>NB_US</td>\n",
       "      <td>Pvt</td>\n",
       "      <td>Nonfiler</td>\n",
       "      <td>Full-time schedules</td>\n",
       "      <td>More than 50K $</td>\n",
       "    </tr>\n",
       "    <tr>\n",
       "      <th>7</th>\n",
       "      <td>7</td>\n",
       "      <td>2004</td>\n",
       "      <td>0</td>\n",
       "      <td>2</td>\n",
       "      <td>High school</td>\n",
       "      <td>White</td>\n",
       "      <td>United-States</td>\n",
       "      <td>High school graduate</td>\n",
       "      <td>Spouse of householder</td>\n",
       "      <td>Construction</td>\n",
       "      <td>...</td>\n",
       "      <td>NaN</td>\n",
       "      <td>47</td>\n",
       "      <td>NaN</td>\n",
       "      <td>0.0</td>\n",
       "      <td>NaN</td>\n",
       "      <td>NB_US_Parents</td>\n",
       "      <td>Pvt</td>\n",
       "      <td>Joint_both_under65</td>\n",
       "      <td>Children/Armed_Forces</td>\n",
       "      <td>More than 50K $</td>\n",
       "    </tr>\n",
       "    <tr>\n",
       "      <th>8</th>\n",
       "      <td>8</td>\n",
       "      <td>2005</td>\n",
       "      <td>0</td>\n",
       "      <td>2</td>\n",
       "      <td>College/University</td>\n",
       "      <td>White</td>\n",
       "      <td>United-States</td>\n",
       "      <td>10th grade</td>\n",
       "      <td>Householder</td>\n",
       "      <td>Business and repair services</td>\n",
       "      <td>...</td>\n",
       "      <td>NaN</td>\n",
       "      <td>8</td>\n",
       "      <td>NaN</td>\n",
       "      <td>935.0</td>\n",
       "      <td>NaN</td>\n",
       "      <td>NB_US</td>\n",
       "      <td>Pvt</td>\n",
       "      <td>Nonfiler</td>\n",
       "      <td>Full-time schedules</td>\n",
       "      <td>More than 50K $</td>\n",
       "    </tr>\n",
       "    <tr>\n",
       "      <th>9</th>\n",
       "      <td>9</td>\n",
       "      <td>2005</td>\n",
       "      <td>0</td>\n",
       "      <td>2</td>\n",
       "      <td>High school</td>\n",
       "      <td>White</td>\n",
       "      <td>Puerto-Rico</td>\n",
       "      <td>Some college but no degree</td>\n",
       "      <td>Spouse of householder</td>\n",
       "      <td>Not in universe or children</td>\n",
       "      <td>...</td>\n",
       "      <td>No</td>\n",
       "      <td>0</td>\n",
       "      <td>NaN</td>\n",
       "      <td>0.0</td>\n",
       "      <td>NaN</td>\n",
       "      <td>NB_PR</td>\n",
       "      <td>NaN</td>\n",
       "      <td>Joint_both_under65</td>\n",
       "      <td>Not in labor force</td>\n",
       "      <td>More than 50K $</td>\n",
       "    </tr>\n",
       "    <tr>\n",
       "      <th>10</th>\n",
       "      <td>10</td>\n",
       "      <td>2005</td>\n",
       "      <td>0</td>\n",
       "      <td>0</td>\n",
       "      <td>High school</td>\n",
       "      <td>Black</td>\n",
       "      <td>United-States</td>\n",
       "      <td>Children</td>\n",
       "      <td>Child &lt;18 never marr not in subfamily</td>\n",
       "      <td>Not in universe or children</td>\n",
       "      <td>...</td>\n",
       "      <td>NaN</td>\n",
       "      <td>0</td>\n",
       "      <td>Only_Mom</td>\n",
       "      <td>0.0</td>\n",
       "      <td>NaN</td>\n",
       "      <td>NB_US</td>\n",
       "      <td>NaN</td>\n",
       "      <td>Nonfiler</td>\n",
       "      <td>Children/Armed_Forces</td>\n",
       "      <td>More than 50K $</td>\n",
       "    </tr>\n",
       "    <tr>\n",
       "      <th>11</th>\n",
       "      <td>11</td>\n",
       "      <td>2004</td>\n",
       "      <td>0</td>\n",
       "      <td>2</td>\n",
       "      <td>College/University</td>\n",
       "      <td>White</td>\n",
       "      <td>United-States</td>\n",
       "      <td>Prof school degree (MD DDS DVM LLB JD)</td>\n",
       "      <td>Spouse of householder</td>\n",
       "      <td>Hospital services</td>\n",
       "      <td>...</td>\n",
       "      <td>Yes</td>\n",
       "      <td>47</td>\n",
       "      <td>NaN</td>\n",
       "      <td>0.0</td>\n",
       "      <td>NaN</td>\n",
       "      <td>NB_US</td>\n",
       "      <td>St_Govt</td>\n",
       "      <td>Joint_both_under65</td>\n",
       "      <td>Children/Armed_Forces</td>\n",
       "      <td>More than 50K $</td>\n",
       "    </tr>\n",
       "    <tr>\n",
       "      <th>12</th>\n",
       "      <td>12</td>\n",
       "      <td>2005</td>\n",
       "      <td>0</td>\n",
       "      <td>2</td>\n",
       "      <td>NaN</td>\n",
       "      <td>White</td>\n",
       "      <td>Germany</td>\n",
       "      <td>High school graduate</td>\n",
       "      <td>Householder</td>\n",
       "      <td>Not in universe or children</td>\n",
       "      <td>...</td>\n",
       "      <td>No</td>\n",
       "      <td>47</td>\n",
       "      <td>NaN</td>\n",
       "      <td>0.0</td>\n",
       "      <td>NaN</td>\n",
       "      <td>NB_US</td>\n",
       "      <td>NaN</td>\n",
       "      <td>Joint_both_under65</td>\n",
       "      <td>Not in labor force</td>\n",
       "      <td>More than 50K $</td>\n",
       "    </tr>\n",
       "    <tr>\n",
       "      <th>13</th>\n",
       "      <td>13</td>\n",
       "      <td>2005</td>\n",
       "      <td>0</td>\n",
       "      <td>2</td>\n",
       "      <td>NaN</td>\n",
       "      <td>White</td>\n",
       "      <td>United-States</td>\n",
       "      <td>High school graduate</td>\n",
       "      <td>Nonfamily householder</td>\n",
       "      <td>Not in universe or children</td>\n",
       "      <td>...</td>\n",
       "      <td>No</td>\n",
       "      <td>0</td>\n",
       "      <td>NaN</td>\n",
       "      <td>0.0</td>\n",
       "      <td>NaN</td>\n",
       "      <td>NB_US</td>\n",
       "      <td>NaN</td>\n",
       "      <td>Single</td>\n",
       "      <td>Not in labor force</td>\n",
       "      <td>More than 50K $</td>\n",
       "    </tr>\n",
       "    <tr>\n",
       "      <th>14</th>\n",
       "      <td>14</td>\n",
       "      <td>2005</td>\n",
       "      <td>0</td>\n",
       "      <td>2</td>\n",
       "      <td>High school</td>\n",
       "      <td>White</td>\n",
       "      <td>United-States</td>\n",
       "      <td>High school graduate</td>\n",
       "      <td>Spouse of householder</td>\n",
       "      <td>Not in universe or children</td>\n",
       "      <td>...</td>\n",
       "      <td>NaN</td>\n",
       "      <td>0</td>\n",
       "      <td>NaN</td>\n",
       "      <td>0.0</td>\n",
       "      <td>NaN</td>\n",
       "      <td>NB_US</td>\n",
       "      <td>NaN</td>\n",
       "      <td>Joint_both_Above65</td>\n",
       "      <td>Not in labor force</td>\n",
       "      <td>More than 50K $</td>\n",
       "    </tr>\n",
       "    <tr>\n",
       "      <th>15</th>\n",
       "      <td>15</td>\n",
       "      <td>2005</td>\n",
       "      <td>0</td>\n",
       "      <td>2</td>\n",
       "      <td>NaN</td>\n",
       "      <td>White</td>\n",
       "      <td>United-States</td>\n",
       "      <td>Bachelors degree(BA AB BS)</td>\n",
       "      <td>Spouse of householder</td>\n",
       "      <td>Finance insurance and real estate</td>\n",
       "      <td>...</td>\n",
       "      <td>NaN</td>\n",
       "      <td>47</td>\n",
       "      <td>NaN</td>\n",
       "      <td>0.0</td>\n",
       "      <td>NaN</td>\n",
       "      <td>NB_US</td>\n",
       "      <td>Pvt</td>\n",
       "      <td>Joint_both_under65</td>\n",
       "      <td>Full-time schedules</td>\n",
       "      <td>More than 50K $</td>\n",
       "    </tr>\n",
       "    <tr>\n",
       "      <th>16</th>\n",
       "      <td>16</td>\n",
       "      <td>2005</td>\n",
       "      <td>0</td>\n",
       "      <td>2</td>\n",
       "      <td>College/University</td>\n",
       "      <td>Asian/Pacific_Islander</td>\n",
       "      <td>Philippines</td>\n",
       "      <td>High school graduate</td>\n",
       "      <td>Householder</td>\n",
       "      <td>Personal services except private HH</td>\n",
       "      <td>...</td>\n",
       "      <td>No</td>\n",
       "      <td>47</td>\n",
       "      <td>NaN</td>\n",
       "      <td>0.0</td>\n",
       "      <td>NaN</td>\n",
       "      <td>FB</td>\n",
       "      <td>Pvt</td>\n",
       "      <td>Joint_both_under65</td>\n",
       "      <td>Full-time schedules</td>\n",
       "      <td>More than 50K $</td>\n",
       "    </tr>\n",
       "    <tr>\n",
       "      <th>17</th>\n",
       "      <td>17</td>\n",
       "      <td>2005</td>\n",
       "      <td>0</td>\n",
       "      <td>2</td>\n",
       "      <td>College/University</td>\n",
       "      <td>Black</td>\n",
       "      <td>United-States</td>\n",
       "      <td>High school graduate</td>\n",
       "      <td>Child 18+ never marr Not in a subfamily</td>\n",
       "      <td>Retail trade</td>\n",
       "      <td>...</td>\n",
       "      <td>NaN</td>\n",
       "      <td>47</td>\n",
       "      <td>NaN</td>\n",
       "      <td>0.0</td>\n",
       "      <td>NaN</td>\n",
       "      <td>NB_US</td>\n",
       "      <td>Pvt</td>\n",
       "      <td>Nonfiler</td>\n",
       "      <td>Full-time schedules</td>\n",
       "      <td>More than 50K $</td>\n",
       "    </tr>\n",
       "    <tr>\n",
       "      <th>18</th>\n",
       "      <td>18</td>\n",
       "      <td>2005</td>\n",
       "      <td>0</td>\n",
       "      <td>2</td>\n",
       "      <td>College/University</td>\n",
       "      <td>White</td>\n",
       "      <td>United-States</td>\n",
       "      <td>Bachelors degree(BA AB BS)</td>\n",
       "      <td>Spouse of householder</td>\n",
       "      <td>Other professional services</td>\n",
       "      <td>...</td>\n",
       "      <td>No</td>\n",
       "      <td>27</td>\n",
       "      <td>NaN</td>\n",
       "      <td>0.0</td>\n",
       "      <td>NaN</td>\n",
       "      <td>NB_US</td>\n",
       "      <td>Pvt</td>\n",
       "      <td>Joint_both_under65</td>\n",
       "      <td>Full-time schedules</td>\n",
       "      <td>More than 50K $</td>\n",
       "    </tr>\n",
       "    <tr>\n",
       "      <th>19</th>\n",
       "      <td>19</td>\n",
       "      <td>2004</td>\n",
       "      <td>0</td>\n",
       "      <td>0</td>\n",
       "      <td>College/University</td>\n",
       "      <td>White</td>\n",
       "      <td>United-States</td>\n",
       "      <td>Children</td>\n",
       "      <td>Child &lt;18 never marr not in subfamily</td>\n",
       "      <td>Not in universe or children</td>\n",
       "      <td>...</td>\n",
       "      <td>NaN</td>\n",
       "      <td>0</td>\n",
       "      <td>Both_Pr</td>\n",
       "      <td>0.0</td>\n",
       "      <td>NaN</td>\n",
       "      <td>NB_US</td>\n",
       "      <td>NaN</td>\n",
       "      <td>Nonfiler</td>\n",
       "      <td>NaN</td>\n",
       "      <td>More than 50K $</td>\n",
       "    </tr>\n",
       "  </tbody>\n",
       "</table>\n",
       "<p>20 rows × 34 columns</p>\n",
       "</div>"
      ],
      "text/plain": [
       "    ID  year_of_poll  own_self_emp  veteran benefits  currently_enrolled  \\\n",
       "0    0          2004             0                 2         High school   \n",
       "1    1          2005             0                 0  College/University   \n",
       "2    2          2004             0                 2                 NaN   \n",
       "3    3          2004             0                 2  College/University   \n",
       "4    4          2004             0                 2                 NaN   \n",
       "5    5          2004             0                 0                 NaN   \n",
       "6    6          2005             0                 2  College/University   \n",
       "7    7          2004             0                 2         High school   \n",
       "8    8          2005             0                 2  College/University   \n",
       "9    9          2005             0                 2         High school   \n",
       "10  10          2005             0                 0         High school   \n",
       "11  11          2004             0                 2  College/University   \n",
       "12  12          2005             0                 2                 NaN   \n",
       "13  13          2005             0                 2                 NaN   \n",
       "14  14          2005             0                 2         High school   \n",
       "15  15          2005             0                 2                 NaN   \n",
       "16  16          2005             0                 2  College/University   \n",
       "17  17          2005             0                 2  College/University   \n",
       "18  18          2005             0                 2  College/University   \n",
       "19  19          2004             0                 0  College/University   \n",
       "\n",
       "                        race  father_country  \\\n",
       "0                      White   United-States   \n",
       "1                      White           Japan   \n",
       "2                      White   United-States   \n",
       "3   Amer/Indian/Aleut/Eskimo   United-States   \n",
       "4                      White   United-States   \n",
       "5                      White          Mexico   \n",
       "6                      White   United-States   \n",
       "7                      White   United-States   \n",
       "8                      White   United-States   \n",
       "9                      White     Puerto-Rico   \n",
       "10                     Black   United-States   \n",
       "11                     White   United-States   \n",
       "12                     White         Germany   \n",
       "13                     White   United-States   \n",
       "14                     White   United-States   \n",
       "15                     White   United-States   \n",
       "16    Asian/Pacific_Islander     Philippines   \n",
       "17                     Black   United-States   \n",
       "18                     White   United-States   \n",
       "19                     White   United-States   \n",
       "\n",
       "                                       educ  \\\n",
       "0        Associates degree-academic program   \n",
       "1                                  Children   \n",
       "2                Some college but no degree   \n",
       "3                      High school graduate   \n",
       "4                      High school graduate   \n",
       "5                                  Children   \n",
       "6                Some college but no degree   \n",
       "7                      High school graduate   \n",
       "8                                10th grade   \n",
       "9                Some college but no degree   \n",
       "10                                 Children   \n",
       "11   Prof school degree (MD DDS DVM LLB JD)   \n",
       "12                     High school graduate   \n",
       "13                     High school graduate   \n",
       "14                     High school graduate   \n",
       "15               Bachelors degree(BA AB BS)   \n",
       "16                     High school graduate   \n",
       "17                     High school graduate   \n",
       "18               Bachelors degree(BA AB BS)   \n",
       "19                                 Children   \n",
       "\n",
       "                                  house_stat  \\\n",
       "0                                Householder   \n",
       "1      Child <18 never marr not in subfamily   \n",
       "2                       Secondary individual   \n",
       "3                                Householder   \n",
       "4                                Householder   \n",
       "5      Child <18 never marr not in subfamily   \n",
       "6    Child 18+ never marr Not in a subfamily   \n",
       "7                      Spouse of householder   \n",
       "8                                Householder   \n",
       "9                      Spouse of householder   \n",
       "10     Child <18 never marr not in subfamily   \n",
       "11                     Spouse of householder   \n",
       "12                               Householder   \n",
       "13                     Nonfamily householder   \n",
       "14                     Spouse of householder   \n",
       "15                     Spouse of householder   \n",
       "16                               Householder   \n",
       "17   Child 18+ never marr Not in a subfamily   \n",
       "18                     Spouse of householder   \n",
       "19     Child <18 never marr not in subfamily   \n",
       "\n",
       "                          major_ind_code  ... income_filled weeks_worked  \\\n",
       "0           Business and repair services  ...            No           47   \n",
       "1            Not in universe or children  ...            No            0   \n",
       "2            Manufacturing-durable goods  ...           Yes           47   \n",
       "3                        Wholesale trade  ...           NaN           47   \n",
       "4                        Wholesale trade  ...           NaN           47   \n",
       "5            Not in universe or children  ...           Yes            0   \n",
       "6                          Entertainment  ...            No           36   \n",
       "7                           Construction  ...           NaN           47   \n",
       "8           Business and repair services  ...           NaN            8   \n",
       "9            Not in universe or children  ...            No            0   \n",
       "10           Not in universe or children  ...           NaN            0   \n",
       "11                     Hospital services  ...           Yes           47   \n",
       "12           Not in universe or children  ...            No           47   \n",
       "13           Not in universe or children  ...            No            0   \n",
       "14           Not in universe or children  ...           NaN            0   \n",
       "15     Finance insurance and real estate  ...           NaN           47   \n",
       "16   Personal services except private HH  ...            No           47   \n",
       "17                          Retail trade  ...           NaN           47   \n",
       "18           Other professional services  ...            No           27   \n",
       "19           Not in universe or children  ...           NaN            0   \n",
       "\n",
       "     under18  hourly_wage unemp_reason    citizenship woker_type  \\\n",
       "0        NaN          0.0          NaN          NB_US        Pvt   \n",
       "1    Both_Pr          0.0          NaN          NB_US        NaN   \n",
       "2        NaN          0.0          NaN          NB_US        Pvt   \n",
       "3        NaN          0.0          NaN          NB_US        Pvt   \n",
       "4        NaN          0.0          NaN          NB_US        Pvt   \n",
       "5   Only_Mom          0.0          NaN          NB_US        NaN   \n",
       "6        NaN          0.0          NaN          NB_US        Pvt   \n",
       "7        NaN          0.0          NaN  NB_US_Parents        Pvt   \n",
       "8        NaN        935.0          NaN          NB_US        Pvt   \n",
       "9        NaN          0.0          NaN          NB_PR        NaN   \n",
       "10  Only_Mom          0.0          NaN          NB_US        NaN   \n",
       "11       NaN          0.0          NaN          NB_US    St_Govt   \n",
       "12       NaN          0.0          NaN          NB_US        NaN   \n",
       "13       NaN          0.0          NaN          NB_US        NaN   \n",
       "14       NaN          0.0          NaN          NB_US        NaN   \n",
       "15       NaN          0.0          NaN          NB_US        Pvt   \n",
       "16       NaN          0.0          NaN             FB        Pvt   \n",
       "17       NaN          0.0          NaN          NB_US        Pvt   \n",
       "18       NaN          0.0          NaN          NB_US        Pvt   \n",
       "19   Both_Pr          0.0          NaN          NB_US        NaN   \n",
       "\n",
       "         fed_liability       full_partime_job           income  \n",
       "0   Joint_both_under65  Children/Armed_Forces  More than 50K $  \n",
       "1             Nonfiler  Children/Armed_Forces  More than 50K $  \n",
       "2               Single  Children/Armed_Forces  More than 50K $  \n",
       "3   Joint_both_under65  Children/Armed_Forces  More than 50K $  \n",
       "4               Single  Children/Armed_Forces  More than 50K $  \n",
       "5             Nonfiler  Children/Armed_Forces  More than 50K $  \n",
       "6             Nonfiler    Full-time schedules  More than 50K $  \n",
       "7   Joint_both_under65  Children/Armed_Forces  More than 50K $  \n",
       "8             Nonfiler    Full-time schedules  More than 50K $  \n",
       "9   Joint_both_under65     Not in labor force  More than 50K $  \n",
       "10            Nonfiler  Children/Armed_Forces  More than 50K $  \n",
       "11  Joint_both_under65  Children/Armed_Forces  More than 50K $  \n",
       "12  Joint_both_under65     Not in labor force  More than 50K $  \n",
       "13              Single     Not in labor force  More than 50K $  \n",
       "14  Joint_both_Above65     Not in labor force  More than 50K $  \n",
       "15  Joint_both_under65    Full-time schedules  More than 50K $  \n",
       "16  Joint_both_under65    Full-time schedules  More than 50K $  \n",
       "17            Nonfiler    Full-time schedules  More than 50K $  \n",
       "18  Joint_both_under65    Full-time schedules  More than 50K $  \n",
       "19            Nonfiler                    NaN  More than 50K $  \n",
       "\n",
       "[20 rows x 34 columns]"
      ]
     },
     "execution_count": 3,
     "metadata": {},
     "output_type": "execute_result"
    }
   ],
   "source": [
    "# Check for proper loading of the dfs\n",
    "df_tr.head(20)"
   ]
  },
  {
   "cell_type": "code",
   "execution_count": 5,
   "id": "2ca6bb91",
   "metadata": {},
   "outputs": [
    {
     "data": {
      "text/html": [
       "<div>\n",
       "<style scoped>\n",
       "    .dataframe tbody tr th:only-of-type {\n",
       "        vertical-align: middle;\n",
       "    }\n",
       "\n",
       "    .dataframe tbody tr th {\n",
       "        vertical-align: top;\n",
       "    }\n",
       "\n",
       "    .dataframe thead th {\n",
       "        text-align: right;\n",
       "    }\n",
       "</style>\n",
       "<table border=\"1\" class=\"dataframe\">\n",
       "  <thead>\n",
       "    <tr style=\"text-align: right;\">\n",
       "      <th></th>\n",
       "      <th>ID</th>\n",
       "      <th>year_of_poll</th>\n",
       "      <th>own_self_emp</th>\n",
       "      <th>veteran benefits</th>\n",
       "      <th>currently_enrolled</th>\n",
       "      <th>race</th>\n",
       "      <th>father_country</th>\n",
       "      <th>educ</th>\n",
       "      <th>house_stat</th>\n",
       "      <th>major_ind_code</th>\n",
       "      <th>...</th>\n",
       "      <th>house_1yr_ago</th>\n",
       "      <th>income_filled</th>\n",
       "      <th>weeks_worked</th>\n",
       "      <th>under18</th>\n",
       "      <th>hourly_wage</th>\n",
       "      <th>unemp_reason</th>\n",
       "      <th>citizenship</th>\n",
       "      <th>woker_type</th>\n",
       "      <th>fed_liability</th>\n",
       "      <th>full_partime_job</th>\n",
       "    </tr>\n",
       "  </thead>\n",
       "  <tbody>\n",
       "    <tr>\n",
       "      <th>0</th>\n",
       "      <td>105000</td>\n",
       "      <td>2005</td>\n",
       "      <td>0</td>\n",
       "      <td>2</td>\n",
       "      <td>College/University</td>\n",
       "      <td>White</td>\n",
       "      <td>United-States</td>\n",
       "      <td>Some college but no degree</td>\n",
       "      <td>Householder</td>\n",
       "      <td>Manufacturing-nondurable goods</td>\n",
       "      <td>...</td>\n",
       "      <td>NaN</td>\n",
       "      <td>No</td>\n",
       "      <td>47</td>\n",
       "      <td>NaN</td>\n",
       "      <td>0.0</td>\n",
       "      <td>NaN</td>\n",
       "      <td>NB_US</td>\n",
       "      <td>Pvt</td>\n",
       "      <td>Joint_both_under65</td>\n",
       "      <td>Full-time schedules</td>\n",
       "    </tr>\n",
       "    <tr>\n",
       "      <th>1</th>\n",
       "      <td>105001</td>\n",
       "      <td>2004</td>\n",
       "      <td>0</td>\n",
       "      <td>2</td>\n",
       "      <td>College/University</td>\n",
       "      <td>White</td>\n",
       "      <td>United-States</td>\n",
       "      <td>Bachelors degree(BA AB BS)</td>\n",
       "      <td>Nonfamily householder</td>\n",
       "      <td>Medical except hospital</td>\n",
       "      <td>...</td>\n",
       "      <td>Yes</td>\n",
       "      <td>NaN</td>\n",
       "      <td>47</td>\n",
       "      <td>NaN</td>\n",
       "      <td>0.0</td>\n",
       "      <td>NaN</td>\n",
       "      <td>NB_US</td>\n",
       "      <td>Pvt</td>\n",
       "      <td>Single</td>\n",
       "      <td>Children/Armed_Forces</td>\n",
       "    </tr>\n",
       "    <tr>\n",
       "      <th>2</th>\n",
       "      <td>105002</td>\n",
       "      <td>2004</td>\n",
       "      <td>0</td>\n",
       "      <td>2</td>\n",
       "      <td>NaN</td>\n",
       "      <td>White</td>\n",
       "      <td>United-States</td>\n",
       "      <td>7th and 8th grade</td>\n",
       "      <td>In group quarters</td>\n",
       "      <td>Not in universe or children</td>\n",
       "      <td>...</td>\n",
       "      <td>Yes</td>\n",
       "      <td>NaN</td>\n",
       "      <td>0</td>\n",
       "      <td>NaN</td>\n",
       "      <td>0.0</td>\n",
       "      <td>NaN</td>\n",
       "      <td>NB_US</td>\n",
       "      <td>NaN</td>\n",
       "      <td>Nonfiler</td>\n",
       "      <td>Children/Armed_Forces</td>\n",
       "    </tr>\n",
       "    <tr>\n",
       "      <th>3</th>\n",
       "      <td>105003</td>\n",
       "      <td>2004</td>\n",
       "      <td>2</td>\n",
       "      <td>2</td>\n",
       "      <td>NaN</td>\n",
       "      <td>White</td>\n",
       "      <td>United-States</td>\n",
       "      <td>High school graduate</td>\n",
       "      <td>Secondary individual</td>\n",
       "      <td>Manufacturing-nondurable goods</td>\n",
       "      <td>...</td>\n",
       "      <td>No</td>\n",
       "      <td>No</td>\n",
       "      <td>47</td>\n",
       "      <td>NaN</td>\n",
       "      <td>0.0</td>\n",
       "      <td>NaN</td>\n",
       "      <td>NB_US</td>\n",
       "      <td>Pvt</td>\n",
       "      <td>Single</td>\n",
       "      <td>Children/Armed_Forces</td>\n",
       "    </tr>\n",
       "    <tr>\n",
       "      <th>4</th>\n",
       "      <td>105004</td>\n",
       "      <td>2004</td>\n",
       "      <td>0</td>\n",
       "      <td>2</td>\n",
       "      <td>NaN</td>\n",
       "      <td>White</td>\n",
       "      <td>Iran</td>\n",
       "      <td>Doctorate degree(PhD EdD)</td>\n",
       "      <td>Householder</td>\n",
       "      <td>Public administration</td>\n",
       "      <td>...</td>\n",
       "      <td>Yes</td>\n",
       "      <td>No</td>\n",
       "      <td>47</td>\n",
       "      <td>NaN</td>\n",
       "      <td>0.0</td>\n",
       "      <td>NaN</td>\n",
       "      <td>FB_US</td>\n",
       "      <td>Loc_Govt</td>\n",
       "      <td>Single</td>\n",
       "      <td>Children/Armed_Forces</td>\n",
       "    </tr>\n",
       "    <tr>\n",
       "      <th>5</th>\n",
       "      <td>105005</td>\n",
       "      <td>2005</td>\n",
       "      <td>2</td>\n",
       "      <td>2</td>\n",
       "      <td>College/University</td>\n",
       "      <td>White</td>\n",
       "      <td>United-States</td>\n",
       "      <td>High school graduate</td>\n",
       "      <td>Spouse of householder</td>\n",
       "      <td>Not in universe or children</td>\n",
       "      <td>...</td>\n",
       "      <td>NaN</td>\n",
       "      <td>No</td>\n",
       "      <td>32</td>\n",
       "      <td>NaN</td>\n",
       "      <td>0.0</td>\n",
       "      <td>NaN</td>\n",
       "      <td>NB_US</td>\n",
       "      <td>NaN</td>\n",
       "      <td>Joint_both_under65</td>\n",
       "      <td>Not in labor force</td>\n",
       "    </tr>\n",
       "    <tr>\n",
       "      <th>6</th>\n",
       "      <td>105006</td>\n",
       "      <td>2004</td>\n",
       "      <td>0</td>\n",
       "      <td>2</td>\n",
       "      <td>High school</td>\n",
       "      <td>White</td>\n",
       "      <td>United-States</td>\n",
       "      <td>Doctorate degree(PhD EdD)</td>\n",
       "      <td>Nonfamily householder</td>\n",
       "      <td>Other professional services</td>\n",
       "      <td>...</td>\n",
       "      <td>Yes</td>\n",
       "      <td>No</td>\n",
       "      <td>47</td>\n",
       "      <td>NaN</td>\n",
       "      <td>0.0</td>\n",
       "      <td>NaN</td>\n",
       "      <td>NB_US</td>\n",
       "      <td>Self_emp_not_inc</td>\n",
       "      <td>Single</td>\n",
       "      <td>Children/Armed_Forces</td>\n",
       "    </tr>\n",
       "    <tr>\n",
       "      <th>7</th>\n",
       "      <td>105007</td>\n",
       "      <td>2005</td>\n",
       "      <td>0</td>\n",
       "      <td>0</td>\n",
       "      <td>College/University</td>\n",
       "      <td>White</td>\n",
       "      <td>United-States</td>\n",
       "      <td>Children</td>\n",
       "      <td>Child &lt;18 never marr not in subfamily</td>\n",
       "      <td>Not in universe or children</td>\n",
       "      <td>...</td>\n",
       "      <td>NaN</td>\n",
       "      <td>No</td>\n",
       "      <td>0</td>\n",
       "      <td>Both_Pr</td>\n",
       "      <td>0.0</td>\n",
       "      <td>NaN</td>\n",
       "      <td>NB_US</td>\n",
       "      <td>NaN</td>\n",
       "      <td>Nonfiler</td>\n",
       "      <td>Children/Armed_Forces</td>\n",
       "    </tr>\n",
       "    <tr>\n",
       "      <th>8</th>\n",
       "      <td>105008</td>\n",
       "      <td>2004</td>\n",
       "      <td>0</td>\n",
       "      <td>2</td>\n",
       "      <td>College/University</td>\n",
       "      <td>Black</td>\n",
       "      <td>United-States</td>\n",
       "      <td>10th grade</td>\n",
       "      <td>Householder</td>\n",
       "      <td>Retail trade</td>\n",
       "      <td>...</td>\n",
       "      <td>Yes</td>\n",
       "      <td>NaN</td>\n",
       "      <td>47</td>\n",
       "      <td>NaN</td>\n",
       "      <td>0.0</td>\n",
       "      <td>NaN</td>\n",
       "      <td>NB_US</td>\n",
       "      <td>Pvt</td>\n",
       "      <td>Joint_both_under65</td>\n",
       "      <td>Children/Armed_Forces</td>\n",
       "    </tr>\n",
       "    <tr>\n",
       "      <th>9</th>\n",
       "      <td>105009</td>\n",
       "      <td>2005</td>\n",
       "      <td>0</td>\n",
       "      <td>0</td>\n",
       "      <td>NaN</td>\n",
       "      <td>Black</td>\n",
       "      <td>United-States</td>\n",
       "      <td>Children</td>\n",
       "      <td>Child &lt;18 never marr not in subfamily</td>\n",
       "      <td>Not in universe or children</td>\n",
       "      <td>...</td>\n",
       "      <td>NaN</td>\n",
       "      <td>No</td>\n",
       "      <td>0</td>\n",
       "      <td>Both_Pr</td>\n",
       "      <td>0.0</td>\n",
       "      <td>NaN</td>\n",
       "      <td>NB_US</td>\n",
       "      <td>NaN</td>\n",
       "      <td>Nonfiler</td>\n",
       "      <td>Children/Armed_Forces</td>\n",
       "    </tr>\n",
       "    <tr>\n",
       "      <th>10</th>\n",
       "      <td>105010</td>\n",
       "      <td>2004</td>\n",
       "      <td>0</td>\n",
       "      <td>0</td>\n",
       "      <td>NaN</td>\n",
       "      <td>White</td>\n",
       "      <td>Puerto-Rico</td>\n",
       "      <td>Children</td>\n",
       "      <td>Child &lt;18 never marr not in subfamily</td>\n",
       "      <td>Not in universe or children</td>\n",
       "      <td>...</td>\n",
       "      <td>Yes</td>\n",
       "      <td>NaN</td>\n",
       "      <td>0</td>\n",
       "      <td>Both_Pr</td>\n",
       "      <td>0.0</td>\n",
       "      <td>NaN</td>\n",
       "      <td>NB_US</td>\n",
       "      <td>NaN</td>\n",
       "      <td>Nonfiler</td>\n",
       "      <td>Children/Armed_Forces</td>\n",
       "    </tr>\n",
       "    <tr>\n",
       "      <th>11</th>\n",
       "      <td>105011</td>\n",
       "      <td>2004</td>\n",
       "      <td>0</td>\n",
       "      <td>2</td>\n",
       "      <td>College/University</td>\n",
       "      <td>White</td>\n",
       "      <td>United-States</td>\n",
       "      <td>High school graduate</td>\n",
       "      <td>Spouse of householder</td>\n",
       "      <td>Retail trade</td>\n",
       "      <td>...</td>\n",
       "      <td>Yes</td>\n",
       "      <td>No</td>\n",
       "      <td>47</td>\n",
       "      <td>NaN</td>\n",
       "      <td>0.0</td>\n",
       "      <td>NaN</td>\n",
       "      <td>NB_US</td>\n",
       "      <td>Pvt</td>\n",
       "      <td>Joint_both_Above65</td>\n",
       "      <td>Children/Armed_Forces</td>\n",
       "    </tr>\n",
       "    <tr>\n",
       "      <th>12</th>\n",
       "      <td>105012</td>\n",
       "      <td>2004</td>\n",
       "      <td>0</td>\n",
       "      <td>2</td>\n",
       "      <td>NaN</td>\n",
       "      <td>White</td>\n",
       "      <td>United-States</td>\n",
       "      <td>High school graduate</td>\n",
       "      <td>Spouse of householder</td>\n",
       "      <td>Retail trade</td>\n",
       "      <td>...</td>\n",
       "      <td>Yes</td>\n",
       "      <td>NaN</td>\n",
       "      <td>47</td>\n",
       "      <td>NaN</td>\n",
       "      <td>0.0</td>\n",
       "      <td>NaN</td>\n",
       "      <td>NB_US</td>\n",
       "      <td>Pvt</td>\n",
       "      <td>Joint_one_Under65_one_Above65</td>\n",
       "      <td>Children/Armed_Forces</td>\n",
       "    </tr>\n",
       "    <tr>\n",
       "      <th>13</th>\n",
       "      <td>105013</td>\n",
       "      <td>2004</td>\n",
       "      <td>0</td>\n",
       "      <td>0</td>\n",
       "      <td>NaN</td>\n",
       "      <td>Other</td>\n",
       "      <td>Puerto-Rico</td>\n",
       "      <td>Children</td>\n",
       "      <td>Child &lt;18 never marr not in subfamily</td>\n",
       "      <td>Not in universe or children</td>\n",
       "      <td>...</td>\n",
       "      <td>Yes</td>\n",
       "      <td>No</td>\n",
       "      <td>0</td>\n",
       "      <td>Both_Pr</td>\n",
       "      <td>0.0</td>\n",
       "      <td>NaN</td>\n",
       "      <td>NB_US</td>\n",
       "      <td>NaN</td>\n",
       "      <td>Nonfiler</td>\n",
       "      <td>Children/Armed_Forces</td>\n",
       "    </tr>\n",
       "    <tr>\n",
       "      <th>14</th>\n",
       "      <td>105014</td>\n",
       "      <td>2005</td>\n",
       "      <td>0</td>\n",
       "      <td>0</td>\n",
       "      <td>College/University</td>\n",
       "      <td>White</td>\n",
       "      <td>England</td>\n",
       "      <td>Children</td>\n",
       "      <td>Child &lt;18 never marr not in subfamily</td>\n",
       "      <td>Not in universe or children</td>\n",
       "      <td>...</td>\n",
       "      <td>NaN</td>\n",
       "      <td>No</td>\n",
       "      <td>0</td>\n",
       "      <td>Only_Mom</td>\n",
       "      <td>0.0</td>\n",
       "      <td>NaN</td>\n",
       "      <td>NB_US</td>\n",
       "      <td>NaN</td>\n",
       "      <td>Nonfiler</td>\n",
       "      <td>Children/Armed_Forces</td>\n",
       "    </tr>\n",
       "  </tbody>\n",
       "</table>\n",
       "<p>15 rows × 33 columns</p>\n",
       "</div>"
      ],
      "text/plain": [
       "        ID  year_of_poll  own_self_emp  veteran benefits  currently_enrolled  \\\n",
       "0   105000          2005             0                 2  College/University   \n",
       "1   105001          2004             0                 2  College/University   \n",
       "2   105002          2004             0                 2                 NaN   \n",
       "3   105003          2004             2                 2                 NaN   \n",
       "4   105004          2004             0                 2                 NaN   \n",
       "5   105005          2005             2                 2  College/University   \n",
       "6   105006          2004             0                 2         High school   \n",
       "7   105007          2005             0                 0  College/University   \n",
       "8   105008          2004             0                 2  College/University   \n",
       "9   105009          2005             0                 0                 NaN   \n",
       "10  105010          2004             0                 0                 NaN   \n",
       "11  105011          2004             0                 2  College/University   \n",
       "12  105012          2004             0                 2                 NaN   \n",
       "13  105013          2004             0                 0                 NaN   \n",
       "14  105014          2005             0                 0  College/University   \n",
       "\n",
       "      race  father_country                         educ  \\\n",
       "0    White   United-States   Some college but no degree   \n",
       "1    White   United-States   Bachelors degree(BA AB BS)   \n",
       "2    White   United-States            7th and 8th grade   \n",
       "3    White   United-States         High school graduate   \n",
       "4    White            Iran    Doctorate degree(PhD EdD)   \n",
       "5    White   United-States         High school graduate   \n",
       "6    White   United-States    Doctorate degree(PhD EdD)   \n",
       "7    White   United-States                     Children   \n",
       "8    Black   United-States                   10th grade   \n",
       "9    Black   United-States                     Children   \n",
       "10   White     Puerto-Rico                     Children   \n",
       "11   White   United-States         High school graduate   \n",
       "12   White   United-States         High school graduate   \n",
       "13   Other     Puerto-Rico                     Children   \n",
       "14   White         England                     Children   \n",
       "\n",
       "                                house_stat                   major_ind_code  \\\n",
       "0                              Householder   Manufacturing-nondurable goods   \n",
       "1                    Nonfamily householder          Medical except hospital   \n",
       "2                        In group quarters      Not in universe or children   \n",
       "3                     Secondary individual   Manufacturing-nondurable goods   \n",
       "4                              Householder            Public administration   \n",
       "5                    Spouse of householder      Not in universe or children   \n",
       "6                    Nonfamily householder      Other professional services   \n",
       "7    Child <18 never marr not in subfamily      Not in universe or children   \n",
       "8                              Householder                     Retail trade   \n",
       "9    Child <18 never marr not in subfamily      Not in universe or children   \n",
       "10   Child <18 never marr not in subfamily      Not in universe or children   \n",
       "11                   Spouse of householder                     Retail trade   \n",
       "12                   Spouse of householder                     Retail trade   \n",
       "13   Child <18 never marr not in subfamily      Not in universe or children   \n",
       "14   Child <18 never marr not in subfamily      Not in universe or children   \n",
       "\n",
       "    ... house_1yr_ago income_filled weeks_worked   under18 hourly_wage  \\\n",
       "0   ...           NaN            No           47       NaN         0.0   \n",
       "1   ...           Yes           NaN           47       NaN         0.0   \n",
       "2   ...           Yes           NaN            0       NaN         0.0   \n",
       "3   ...            No            No           47       NaN         0.0   \n",
       "4   ...           Yes            No           47       NaN         0.0   \n",
       "5   ...           NaN            No           32       NaN         0.0   \n",
       "6   ...           Yes            No           47       NaN         0.0   \n",
       "7   ...           NaN            No            0   Both_Pr         0.0   \n",
       "8   ...           Yes           NaN           47       NaN         0.0   \n",
       "9   ...           NaN            No            0   Both_Pr         0.0   \n",
       "10  ...           Yes           NaN            0   Both_Pr         0.0   \n",
       "11  ...           Yes            No           47       NaN         0.0   \n",
       "12  ...           Yes           NaN           47       NaN         0.0   \n",
       "13  ...           Yes            No            0   Both_Pr         0.0   \n",
       "14  ...           NaN            No            0  Only_Mom         0.0   \n",
       "\n",
       "   unemp_reason citizenship        woker_type                  fed_liability  \\\n",
       "0           NaN       NB_US               Pvt             Joint_both_under65   \n",
       "1           NaN       NB_US               Pvt                         Single   \n",
       "2           NaN       NB_US               NaN                       Nonfiler   \n",
       "3           NaN       NB_US               Pvt                         Single   \n",
       "4           NaN       FB_US          Loc_Govt                         Single   \n",
       "5           NaN       NB_US               NaN             Joint_both_under65   \n",
       "6           NaN       NB_US  Self_emp_not_inc                         Single   \n",
       "7           NaN       NB_US               NaN                       Nonfiler   \n",
       "8           NaN       NB_US               Pvt             Joint_both_under65   \n",
       "9           NaN       NB_US               NaN                       Nonfiler   \n",
       "10          NaN       NB_US               NaN                       Nonfiler   \n",
       "11          NaN       NB_US               Pvt             Joint_both_Above65   \n",
       "12          NaN       NB_US               Pvt  Joint_one_Under65_one_Above65   \n",
       "13          NaN       NB_US               NaN                       Nonfiler   \n",
       "14          NaN       NB_US               NaN                       Nonfiler   \n",
       "\n",
       "         full_partime_job  \n",
       "0     Full-time schedules  \n",
       "1   Children/Armed_Forces  \n",
       "2   Children/Armed_Forces  \n",
       "3   Children/Armed_Forces  \n",
       "4   Children/Armed_Forces  \n",
       "5      Not in labor force  \n",
       "6   Children/Armed_Forces  \n",
       "7   Children/Armed_Forces  \n",
       "8   Children/Armed_Forces  \n",
       "9   Children/Armed_Forces  \n",
       "10  Children/Armed_Forces  \n",
       "11  Children/Armed_Forces  \n",
       "12  Children/Armed_Forces  \n",
       "13  Children/Armed_Forces  \n",
       "14  Children/Armed_Forces  \n",
       "\n",
       "[15 rows x 33 columns]"
      ]
     },
     "execution_count": 5,
     "metadata": {},
     "output_type": "execute_result"
    }
   ],
   "source": [
    "df_te.head(15)"
   ]
  },
  {
   "cell_type": "markdown",
   "id": "2ee5b8bd",
   "metadata": {},
   "source": [
    "# 1. Data Exploration, Summary and information\n",
    "Working on the train data set"
   ]
  },
  {
   "cell_type": "markdown",
   "id": "cb546002",
   "metadata": {},
   "source": [
    "## 1.1 Train data description and information"
   ]
  },
  {
   "cell_type": "markdown",
   "id": "c1831a1c",
   "metadata": {},
   "source": [
    "Numerical data description"
   ]
  },
  {
   "cell_type": "code",
   "execution_count": 9,
   "id": "3464203c",
   "metadata": {},
   "outputs": [
    {
     "data": {
      "text/html": [
       "<div>\n",
       "<style scoped>\n",
       "    .dataframe tbody tr th:only-of-type {\n",
       "        vertical-align: middle;\n",
       "    }\n",
       "\n",
       "    .dataframe tbody tr th {\n",
       "        vertical-align: top;\n",
       "    }\n",
       "\n",
       "    .dataframe thead th {\n",
       "        text-align: right;\n",
       "    }\n",
       "</style>\n",
       "<table border=\"1\" class=\"dataframe\">\n",
       "  <thead>\n",
       "    <tr style=\"text-align: right;\">\n",
       "      <th></th>\n",
       "      <th>count</th>\n",
       "      <th>mean</th>\n",
       "      <th>std</th>\n",
       "      <th>min</th>\n",
       "      <th>25%</th>\n",
       "      <th>50%</th>\n",
       "      <th>75%</th>\n",
       "      <th>max</th>\n",
       "    </tr>\n",
       "  </thead>\n",
       "  <tbody>\n",
       "    <tr>\n",
       "      <th>ID</th>\n",
       "      <td>105000.0</td>\n",
       "      <td>52499.500000</td>\n",
       "      <td>30311.033470</td>\n",
       "      <td>0.0</td>\n",
       "      <td>26249.75</td>\n",
       "      <td>52499.5</td>\n",
       "      <td>78749.25</td>\n",
       "      <td>104999.0</td>\n",
       "    </tr>\n",
       "    <tr>\n",
       "      <th>year_of_poll</th>\n",
       "      <td>105000.0</td>\n",
       "      <td>2004.500305</td>\n",
       "      <td>0.500002</td>\n",
       "      <td>2004.0</td>\n",
       "      <td>2004.00</td>\n",
       "      <td>2005.0</td>\n",
       "      <td>2005.00</td>\n",
       "      <td>2005.0</td>\n",
       "    </tr>\n",
       "    <tr>\n",
       "      <th>own_self_emp</th>\n",
       "      <td>105000.0</td>\n",
       "      <td>0.176800</td>\n",
       "      <td>0.555648</td>\n",
       "      <td>0.0</td>\n",
       "      <td>0.00</td>\n",
       "      <td>0.0</td>\n",
       "      <td>0.00</td>\n",
       "      <td>2.0</td>\n",
       "    </tr>\n",
       "    <tr>\n",
       "      <th>veteran benefits</th>\n",
       "      <td>105000.0</td>\n",
       "      <td>1.517305</td>\n",
       "      <td>0.850049</td>\n",
       "      <td>0.0</td>\n",
       "      <td>2.00</td>\n",
       "      <td>2.0</td>\n",
       "      <td>2.00</td>\n",
       "      <td>2.0</td>\n",
       "    </tr>\n",
       "    <tr>\n",
       "      <th>age</th>\n",
       "      <td>105000.0</td>\n",
       "      <td>36.243924</td>\n",
       "      <td>23.465922</td>\n",
       "      <td>0.0</td>\n",
       "      <td>16.00</td>\n",
       "      <td>35.0</td>\n",
       "      <td>52.00</td>\n",
       "      <td>94.0</td>\n",
       "    </tr>\n",
       "    <tr>\n",
       "      <th>gains</th>\n",
       "      <td>105000.0</td>\n",
       "      <td>488.464764</td>\n",
       "      <td>5284.877430</td>\n",
       "      <td>0.0</td>\n",
       "      <td>0.00</td>\n",
       "      <td>0.0</td>\n",
       "      <td>0.00</td>\n",
       "      <td>109998.9</td>\n",
       "    </tr>\n",
       "    <tr>\n",
       "      <th>dividends</th>\n",
       "      <td>105000.0</td>\n",
       "      <td>240.232046</td>\n",
       "      <td>2501.629980</td>\n",
       "      <td>0.0</td>\n",
       "      <td>0.00</td>\n",
       "      <td>0.0</td>\n",
       "      <td>0.00</td>\n",
       "      <td>119998.8</td>\n",
       "    </tr>\n",
       "    <tr>\n",
       "      <th>losses</th>\n",
       "      <td>105000.0</td>\n",
       "      <td>25.321047</td>\n",
       "      <td>186.824899</td>\n",
       "      <td>0.0</td>\n",
       "      <td>0.00</td>\n",
       "      <td>0.0</td>\n",
       "      <td>0.00</td>\n",
       "      <td>3225.6</td>\n",
       "    </tr>\n",
       "    <tr>\n",
       "      <th>employer_of</th>\n",
       "      <td>105000.0</td>\n",
       "      <td>1.953057</td>\n",
       "      <td>2.361890</td>\n",
       "      <td>0.0</td>\n",
       "      <td>0.00</td>\n",
       "      <td>1.0</td>\n",
       "      <td>4.00</td>\n",
       "      <td>6.0</td>\n",
       "    </tr>\n",
       "    <tr>\n",
       "      <th>weeks_worked</th>\n",
       "      <td>105000.0</td>\n",
       "      <td>20.898371</td>\n",
       "      <td>22.041670</td>\n",
       "      <td>0.0</td>\n",
       "      <td>0.00</td>\n",
       "      <td>7.0</td>\n",
       "      <td>47.00</td>\n",
       "      <td>47.0</td>\n",
       "    </tr>\n",
       "    <tr>\n",
       "      <th>hourly_wage</th>\n",
       "      <td>105000.0</td>\n",
       "      <td>93.484943</td>\n",
       "      <td>461.214547</td>\n",
       "      <td>0.0</td>\n",
       "      <td>0.00</td>\n",
       "      <td>0.0</td>\n",
       "      <td>0.00</td>\n",
       "      <td>16998.3</td>\n",
       "    </tr>\n",
       "  </tbody>\n",
       "</table>\n",
       "</div>"
      ],
      "text/plain": [
       "                     count          mean           std     min       25%  \\\n",
       "ID                105000.0  52499.500000  30311.033470     0.0  26249.75   \n",
       "year_of_poll      105000.0   2004.500305      0.500002  2004.0   2004.00   \n",
       "own_self_emp      105000.0      0.176800      0.555648     0.0      0.00   \n",
       "veteran benefits  105000.0      1.517305      0.850049     0.0      2.00   \n",
       "age               105000.0     36.243924     23.465922     0.0     16.00   \n",
       "gains             105000.0    488.464764   5284.877430     0.0      0.00   \n",
       "dividends         105000.0    240.232046   2501.629980     0.0      0.00   \n",
       "losses            105000.0     25.321047    186.824899     0.0      0.00   \n",
       "employer_of       105000.0      1.953057      2.361890     0.0      0.00   \n",
       "weeks_worked      105000.0     20.898371     22.041670     0.0      0.00   \n",
       "hourly_wage       105000.0     93.484943    461.214547     0.0      0.00   \n",
       "\n",
       "                      50%       75%       max  \n",
       "ID                52499.5  78749.25  104999.0  \n",
       "year_of_poll       2005.0   2005.00    2005.0  \n",
       "own_self_emp          0.0      0.00       2.0  \n",
       "veteran benefits      2.0      2.00       2.0  \n",
       "age                  35.0     52.00      94.0  \n",
       "gains                 0.0      0.00  109998.9  \n",
       "dividends             0.0      0.00  119998.8  \n",
       "losses                0.0      0.00    3225.6  \n",
       "employer_of           1.0      4.00       6.0  \n",
       "weeks_worked          7.0     47.00      47.0  \n",
       "hourly_wage           0.0      0.00   16998.3  "
      ]
     },
     "execution_count": 9,
     "metadata": {},
     "output_type": "execute_result"
    }
   ],
   "source": [
    "df_tr.describe().T"
   ]
  },
  {
   "cell_type": "markdown",
   "id": "781e1077",
   "metadata": {},
   "source": [
    "Notes\n",
    "1. Seems there are no nulls\n",
    "2. year of poll is in 2004 and 2005\n",
    "3. own_self_emp and vetran benefits have min 0 and max 2 seem fine, categorical\n",
    "4. age seems to have some problem with min age = 0, which is not possible CHECK data.\n",
    "5. Rest of the fields seems good statistically."
   ]
  },
  {
   "cell_type": "markdown",
   "id": "4d98d408",
   "metadata": {},
   "source": [
    "Non numerical data ddescription"
   ]
  },
  {
   "cell_type": "code",
   "execution_count": 11,
   "id": "ea6f9530",
   "metadata": {},
   "outputs": [
    {
     "data": {
      "text/html": [
       "<div>\n",
       "<style scoped>\n",
       "    .dataframe tbody tr th:only-of-type {\n",
       "        vertical-align: middle;\n",
       "    }\n",
       "\n",
       "    .dataframe tbody tr th {\n",
       "        vertical-align: top;\n",
       "    }\n",
       "\n",
       "    .dataframe thead th {\n",
       "        text-align: right;\n",
       "    }\n",
       "</style>\n",
       "<table border=\"1\" class=\"dataframe\">\n",
       "  <thead>\n",
       "    <tr style=\"text-align: right;\">\n",
       "      <th></th>\n",
       "      <th>count</th>\n",
       "      <th>unique</th>\n",
       "      <th>top</th>\n",
       "      <th>freq</th>\n",
       "    </tr>\n",
       "  </thead>\n",
       "  <tbody>\n",
       "    <tr>\n",
       "      <th>currently_enrolled</th>\n",
       "      <td>73557</td>\n",
       "      <td>2</td>\n",
       "      <td>College/University</td>\n",
       "      <td>42386</td>\n",
       "    </tr>\n",
       "    <tr>\n",
       "      <th>race</th>\n",
       "      <td>105000</td>\n",
       "      <td>5</td>\n",
       "      <td>White</td>\n",
       "      <td>88078</td>\n",
       "    </tr>\n",
       "    <tr>\n",
       "      <th>father_country</th>\n",
       "      <td>105000</td>\n",
       "      <td>43</td>\n",
       "      <td>United-States</td>\n",
       "      <td>83720</td>\n",
       "    </tr>\n",
       "    <tr>\n",
       "      <th>educ</th>\n",
       "      <td>105000</td>\n",
       "      <td>17</td>\n",
       "      <td>High school graduate</td>\n",
       "      <td>25608</td>\n",
       "    </tr>\n",
       "    <tr>\n",
       "      <th>house_stat</th>\n",
       "      <td>104989</td>\n",
       "      <td>31</td>\n",
       "      <td>Householder</td>\n",
       "      <td>28081</td>\n",
       "    </tr>\n",
       "    <tr>\n",
       "      <th>major_ind_code</th>\n",
       "      <td>105000</td>\n",
       "      <td>24</td>\n",
       "      <td>Not in universe or children</td>\n",
       "      <td>53055</td>\n",
       "    </tr>\n",
       "    <tr>\n",
       "      <th>labour_union</th>\n",
       "      <td>69669</td>\n",
       "      <td>2</td>\n",
       "      <td>no</td>\n",
       "      <td>59270</td>\n",
       "    </tr>\n",
       "    <tr>\n",
       "      <th>self_country</th>\n",
       "      <td>105000</td>\n",
       "      <td>43</td>\n",
       "      <td>United-States</td>\n",
       "      <td>93022</td>\n",
       "    </tr>\n",
       "    <tr>\n",
       "      <th>major_occ_code</th>\n",
       "      <td>51945</td>\n",
       "      <td>14</td>\n",
       "      <td>Adm support including clerical</td>\n",
       "      <td>7708</td>\n",
       "    </tr>\n",
       "    <tr>\n",
       "      <th>mother_country</th>\n",
       "      <td>105000</td>\n",
       "      <td>43</td>\n",
       "      <td>United-States</td>\n",
       "      <td>84324</td>\n",
       "    </tr>\n",
       "    <tr>\n",
       "      <th>house_summary</th>\n",
       "      <td>105000</td>\n",
       "      <td>8</td>\n",
       "      <td>Householder</td>\n",
       "      <td>39817</td>\n",
       "    </tr>\n",
       "    <tr>\n",
       "      <th>gender</th>\n",
       "      <td>105000</td>\n",
       "      <td>2</td>\n",
       "      <td>F</td>\n",
       "      <td>54582</td>\n",
       "    </tr>\n",
       "    <tr>\n",
       "      <th>hisp_origin</th>\n",
       "      <td>105000</td>\n",
       "      <td>10</td>\n",
       "      <td>All_Other</td>\n",
       "      <td>90262</td>\n",
       "    </tr>\n",
       "    <tr>\n",
       "      <th>marriage_status</th>\n",
       "      <td>105000</td>\n",
       "      <td>7</td>\n",
       "      <td>Unmarried</td>\n",
       "      <td>45521</td>\n",
       "    </tr>\n",
       "    <tr>\n",
       "      <th>house_1yr_ago</th>\n",
       "      <td>51678</td>\n",
       "      <td>2</td>\n",
       "      <td>Yes</td>\n",
       "      <td>43444</td>\n",
       "    </tr>\n",
       "    <tr>\n",
       "      <th>income_filled</th>\n",
       "      <td>72597</td>\n",
       "      <td>2</td>\n",
       "      <td>No</td>\n",
       "      <td>56142</td>\n",
       "    </tr>\n",
       "    <tr>\n",
       "      <th>under18</th>\n",
       "      <td>28984</td>\n",
       "      <td>4</td>\n",
       "      <td>Both_Pr</td>\n",
       "      <td>20427</td>\n",
       "    </tr>\n",
       "    <tr>\n",
       "      <th>unemp_reason</th>\n",
       "      <td>3189</td>\n",
       "      <td>5</td>\n",
       "      <td>Re-entrant</td>\n",
       "      <td>1081</td>\n",
       "    </tr>\n",
       "    <tr>\n",
       "      <th>citizenship</th>\n",
       "      <td>105000</td>\n",
       "      <td>5</td>\n",
       "      <td>NB_US</td>\n",
       "      <td>93024</td>\n",
       "    </tr>\n",
       "    <tr>\n",
       "      <th>woker_type</th>\n",
       "      <td>52165</td>\n",
       "      <td>8</td>\n",
       "      <td>Pvt</td>\n",
       "      <td>37967</td>\n",
       "    </tr>\n",
       "    <tr>\n",
       "      <th>fed_liability</th>\n",
       "      <td>105000</td>\n",
       "      <td>6</td>\n",
       "      <td>Nonfiler</td>\n",
       "      <td>39588</td>\n",
       "    </tr>\n",
       "    <tr>\n",
       "      <th>full_partime_job</th>\n",
       "      <td>103608</td>\n",
       "      <td>8</td>\n",
       "      <td>Children/Armed_Forces</td>\n",
       "      <td>64168</td>\n",
       "    </tr>\n",
       "    <tr>\n",
       "      <th>income</th>\n",
       "      <td>105000</td>\n",
       "      <td>2</td>\n",
       "      <td>Less than 50K $</td>\n",
       "      <td>65272</td>\n",
       "    </tr>\n",
       "  </tbody>\n",
       "</table>\n",
       "</div>"
      ],
      "text/plain": [
       "                     count unique                              top   freq\n",
       "currently_enrolled   73557      2               College/University  42386\n",
       "race                105000      5                            White  88078\n",
       "father_country      105000     43                    United-States  83720\n",
       "educ                105000     17             High school graduate  25608\n",
       "house_stat          104989     31                      Householder  28081\n",
       "major_ind_code      105000     24      Not in universe or children  53055\n",
       "labour_union         69669      2                               no  59270\n",
       "self_country        105000     43                    United-States  93022\n",
       "major_occ_code       51945     14   Adm support including clerical   7708\n",
       "mother_country      105000     43                    United-States  84324\n",
       "house_summary       105000      8                      Householder  39817\n",
       "gender              105000      2                                F  54582\n",
       "hisp_origin         105000     10                        All_Other  90262\n",
       "marriage_status     105000      7                        Unmarried  45521\n",
       "house_1yr_ago        51678      2                              Yes  43444\n",
       "income_filled        72597      2                               No  56142\n",
       "under18              28984      4                          Both_Pr  20427\n",
       "unemp_reason          3189      5                       Re-entrant   1081\n",
       "citizenship         105000      5                            NB_US  93024\n",
       "woker_type           52165      8                              Pvt  37967\n",
       "fed_liability       105000      6                         Nonfiler  39588\n",
       "full_partime_job    103608      8            Children/Armed_Forces  64168\n",
       "income              105000      2                  Less than 50K $  65272"
      ]
     },
     "execution_count": 11,
     "metadata": {},
     "output_type": "execute_result"
    }
   ],
   "source": [
    "df_tr.describe(include='object').T"
   ]
  },
  {
   "cell_type": "code",
   "execution_count": 13,
   "id": "c089d0c8",
   "metadata": {},
   "outputs": [
    {
     "name": "stdout",
     "output_type": "stream",
     "text": [
      "<class 'pandas.core.frame.DataFrame'>\n",
      "RangeIndex: 105000 entries, 0 to 104999\n",
      "Data columns (total 34 columns):\n",
      " #   Column              Non-Null Count   Dtype  \n",
      "---  ------              --------------   -----  \n",
      " 0   ID                  105000 non-null  int64  \n",
      " 1   year_of_poll        105000 non-null  int64  \n",
      " 2   own_self_emp        105000 non-null  int64  \n",
      " 3   veteran benefits    105000 non-null  int64  \n",
      " 4   currently_enrolled  73557 non-null   object \n",
      " 5   race                105000 non-null  object \n",
      " 6   father_country      105000 non-null  object \n",
      " 7   educ                105000 non-null  object \n",
      " 8   house_stat          104989 non-null  object \n",
      " 9   major_ind_code      105000 non-null  object \n",
      " 10  labour_union        69669 non-null   object \n",
      " 11  self_country        105000 non-null  object \n",
      " 12  major_occ_code      51945 non-null   object \n",
      " 13  age                 105000 non-null  int64  \n",
      " 14  mother_country      105000 non-null  object \n",
      " 15  house_summary       105000 non-null  object \n",
      " 16  gender              105000 non-null  object \n",
      " 17  hisp_origin         105000 non-null  object \n",
      " 18  gains               105000 non-null  float64\n",
      " 19  dividends           105000 non-null  float64\n",
      " 20  marriage_status     105000 non-null  object \n",
      " 21  losses              105000 non-null  float64\n",
      " 22  employer_of         105000 non-null  int64  \n",
      " 23  house_1yr_ago       51678 non-null   object \n",
      " 24  income_filled       72597 non-null   object \n",
      " 25  weeks_worked        105000 non-null  int64  \n",
      " 26  under18             28984 non-null   object \n",
      " 27  hourly_wage         105000 non-null  float64\n",
      " 28  unemp_reason        3189 non-null    object \n",
      " 29  citizenship         105000 non-null  object \n",
      " 30  woker_type          52165 non-null   object \n",
      " 31  fed_liability       105000 non-null  object \n",
      " 32  full_partime_job    103608 non-null  object \n",
      " 33  income              105000 non-null  object \n",
      "dtypes: float64(4), int64(7), object(23)\n",
      "memory usage: 27.2+ MB\n"
     ]
    }
   ],
   "source": [
    "df_tr.info()"
   ]
  },
  {
   "cell_type": "markdown",
   "id": "73cf7392",
   "metadata": {},
   "source": [
    "Notes\n",
    "1. Most of the object type fields have Nulls.\n",
    "2. The geographic fields have 43 unique entries in each of the 3 fields, need to handle them.\n",
    "3. Edu, house_stat, major_ind_score, major_occ_code, hisp_origin have 10 or more unique entries check them."
   ]
  },
  {
   "cell_type": "markdown",
   "id": "29bc38bc",
   "metadata": {},
   "source": [
    "## 1.2 Cleaning the train data"
   ]
  },
  {
   "cell_type": "markdown",
   "id": "6e1b16b2",
   "metadata": {},
   "source": [
    "### Checking the numerical data"
   ]
  },
  {
   "cell_type": "code",
   "execution_count": 14,
   "id": "df833631",
   "metadata": {},
   "outputs": [
    {
     "data": {
      "text/plain": [
       "Index(['ID', 'year_of_poll', 'own_self_emp', 'veteran benefits',\n",
       "       'currently_enrolled', 'race', 'father_country', 'educ', 'house_stat',\n",
       "       'major_ind_code', 'labour_union', 'self_country', 'major_occ_code',\n",
       "       'age', 'mother_country', 'house_summary', 'gender', 'hisp_origin',\n",
       "       'gains', 'dividends', 'marriage_status', 'losses', 'employer_of',\n",
       "       'house_1yr_ago', 'income_filled', 'weeks_worked', 'under18',\n",
       "       'hourly_wage', 'unemp_reason', 'citizenship', 'woker_type',\n",
       "       'fed_liability', 'full_partime_job', 'income'],\n",
       "      dtype='object')"
      ]
     },
     "execution_count": 14,
     "metadata": {},
     "output_type": "execute_result"
    }
   ],
   "source": [
    "df_tr.columns"
   ]
  },
  {
   "cell_type": "code",
   "execution_count": null,
   "id": "bf364edb",
   "metadata": {},
   "outputs": [],
   "source": [
    "# Taking a copy of the train data without the ID column."
   ]
  },
  {
   "cell_type": "code",
   "execution_count": 17,
   "id": "80839614",
   "metadata": {},
   "outputs": [
    {
     "data": {
      "text/html": [
       "<div>\n",
       "<style scoped>\n",
       "    .dataframe tbody tr th:only-of-type {\n",
       "        vertical-align: middle;\n",
       "    }\n",
       "\n",
       "    .dataframe tbody tr th {\n",
       "        vertical-align: top;\n",
       "    }\n",
       "\n",
       "    .dataframe thead th {\n",
       "        text-align: right;\n",
       "    }\n",
       "</style>\n",
       "<table border=\"1\" class=\"dataframe\">\n",
       "  <thead>\n",
       "    <tr style=\"text-align: right;\">\n",
       "      <th></th>\n",
       "      <th>0</th>\n",
       "      <th>1</th>\n",
       "      <th>2</th>\n",
       "      <th>3</th>\n",
       "      <th>4</th>\n",
       "    </tr>\n",
       "  </thead>\n",
       "  <tbody>\n",
       "    <tr>\n",
       "      <th>year_of_poll</th>\n",
       "      <td>2004</td>\n",
       "      <td>2005</td>\n",
       "      <td>2004</td>\n",
       "      <td>2004</td>\n",
       "      <td>2004</td>\n",
       "    </tr>\n",
       "    <tr>\n",
       "      <th>own_self_emp</th>\n",
       "      <td>0</td>\n",
       "      <td>0</td>\n",
       "      <td>0</td>\n",
       "      <td>0</td>\n",
       "      <td>0</td>\n",
       "    </tr>\n",
       "    <tr>\n",
       "      <th>veteran benefits</th>\n",
       "      <td>2</td>\n",
       "      <td>0</td>\n",
       "      <td>2</td>\n",
       "      <td>2</td>\n",
       "      <td>2</td>\n",
       "    </tr>\n",
       "    <tr>\n",
       "      <th>currently_enrolled</th>\n",
       "      <td>High school</td>\n",
       "      <td>College/University</td>\n",
       "      <td>NaN</td>\n",
       "      <td>College/University</td>\n",
       "      <td>NaN</td>\n",
       "    </tr>\n",
       "    <tr>\n",
       "      <th>race</th>\n",
       "      <td>White</td>\n",
       "      <td>White</td>\n",
       "      <td>White</td>\n",
       "      <td>Amer/Indian/Aleut/Eskimo</td>\n",
       "      <td>White</td>\n",
       "    </tr>\n",
       "    <tr>\n",
       "      <th>father_country</th>\n",
       "      <td>United-States</td>\n",
       "      <td>Japan</td>\n",
       "      <td>United-States</td>\n",
       "      <td>United-States</td>\n",
       "      <td>United-States</td>\n",
       "    </tr>\n",
       "    <tr>\n",
       "      <th>educ</th>\n",
       "      <td>Associates degree-academic program</td>\n",
       "      <td>Children</td>\n",
       "      <td>Some college but no degree</td>\n",
       "      <td>High school graduate</td>\n",
       "      <td>High school graduate</td>\n",
       "    </tr>\n",
       "    <tr>\n",
       "      <th>house_stat</th>\n",
       "      <td>Householder</td>\n",
       "      <td>Child &lt;18 never marr not in subfamily</td>\n",
       "      <td>Secondary individual</td>\n",
       "      <td>Householder</td>\n",
       "      <td>Householder</td>\n",
       "    </tr>\n",
       "    <tr>\n",
       "      <th>major_ind_code</th>\n",
       "      <td>Business and repair services</td>\n",
       "      <td>Not in universe or children</td>\n",
       "      <td>Manufacturing-durable goods</td>\n",
       "      <td>Wholesale trade</td>\n",
       "      <td>Wholesale trade</td>\n",
       "    </tr>\n",
       "    <tr>\n",
       "      <th>labour_union</th>\n",
       "      <td>no</td>\n",
       "      <td>NaN</td>\n",
       "      <td>NaN</td>\n",
       "      <td>no</td>\n",
       "      <td>no</td>\n",
       "    </tr>\n",
       "    <tr>\n",
       "      <th>self_country</th>\n",
       "      <td>United-States</td>\n",
       "      <td>United-States</td>\n",
       "      <td>United-States</td>\n",
       "      <td>United-States</td>\n",
       "      <td>United-States</td>\n",
       "    </tr>\n",
       "    <tr>\n",
       "      <th>major_occ_code</th>\n",
       "      <td>Protective services</td>\n",
       "      <td>NaN</td>\n",
       "      <td>Machine operators assmblrs &amp; inspctrs</td>\n",
       "      <td>Handlers equip cleaners etc</td>\n",
       "      <td>Executive admin and managerial</td>\n",
       "    </tr>\n",
       "    <tr>\n",
       "      <th>age</th>\n",
       "      <td>42</td>\n",
       "      <td>10</td>\n",
       "      <td>46</td>\n",
       "      <td>35</td>\n",
       "      <td>61</td>\n",
       "    </tr>\n",
       "    <tr>\n",
       "      <th>mother_country</th>\n",
       "      <td>United-States</td>\n",
       "      <td>United-States</td>\n",
       "      <td>United-States</td>\n",
       "      <td>United-States</td>\n",
       "      <td>United-States</td>\n",
       "    </tr>\n",
       "    <tr>\n",
       "      <th>house_summary</th>\n",
       "      <td>Householder</td>\n",
       "      <td>Child_U18_Unmarried</td>\n",
       "      <td>Non_Relative</td>\n",
       "      <td>Householder</td>\n",
       "      <td>Householder</td>\n",
       "    </tr>\n",
       "    <tr>\n",
       "      <th>gender</th>\n",
       "      <td>M</td>\n",
       "      <td>M</td>\n",
       "      <td>M</td>\n",
       "      <td>M</td>\n",
       "      <td>F</td>\n",
       "    </tr>\n",
       "    <tr>\n",
       "      <th>hisp_origin</th>\n",
       "      <td>All_Other</td>\n",
       "      <td>Mex_Amer</td>\n",
       "      <td>All_Other</td>\n",
       "      <td>All_Other</td>\n",
       "      <td>All_Other</td>\n",
       "    </tr>\n",
       "    <tr>\n",
       "      <th>gains</th>\n",
       "      <td>0.0</td>\n",
       "      <td>0.0</td>\n",
       "      <td>0.0</td>\n",
       "      <td>0.0</td>\n",
       "      <td>0.0</td>\n",
       "    </tr>\n",
       "    <tr>\n",
       "      <th>dividends</th>\n",
       "      <td>0.0</td>\n",
       "      <td>0.0</td>\n",
       "      <td>0.0</td>\n",
       "      <td>0.0</td>\n",
       "      <td>0.0</td>\n",
       "    </tr>\n",
       "    <tr>\n",
       "      <th>marriage_status</th>\n",
       "      <td>Married_civilian_Sp_Pr</td>\n",
       "      <td>Unmarried</td>\n",
       "      <td>Divorced</td>\n",
       "      <td>Married_civilian_Sp_Pr</td>\n",
       "      <td>Divorced</td>\n",
       "    </tr>\n",
       "    <tr>\n",
       "      <th>losses</th>\n",
       "      <td>0.0</td>\n",
       "      <td>0.0</td>\n",
       "      <td>0.0</td>\n",
       "      <td>0.0</td>\n",
       "      <td>0.0</td>\n",
       "    </tr>\n",
       "    <tr>\n",
       "      <th>employer_of</th>\n",
       "      <td>1</td>\n",
       "      <td>0</td>\n",
       "      <td>6</td>\n",
       "      <td>2</td>\n",
       "      <td>3</td>\n",
       "    </tr>\n",
       "    <tr>\n",
       "      <th>house_1yr_ago</th>\n",
       "      <td>No</td>\n",
       "      <td>NaN</td>\n",
       "      <td>No</td>\n",
       "      <td>Yes</td>\n",
       "      <td>Yes</td>\n",
       "    </tr>\n",
       "    <tr>\n",
       "      <th>income_filled</th>\n",
       "      <td>No</td>\n",
       "      <td>No</td>\n",
       "      <td>Yes</td>\n",
       "      <td>NaN</td>\n",
       "      <td>NaN</td>\n",
       "    </tr>\n",
       "    <tr>\n",
       "      <th>weeks_worked</th>\n",
       "      <td>47</td>\n",
       "      <td>0</td>\n",
       "      <td>47</td>\n",
       "      <td>47</td>\n",
       "      <td>47</td>\n",
       "    </tr>\n",
       "    <tr>\n",
       "      <th>under18</th>\n",
       "      <td>NaN</td>\n",
       "      <td>Both_Pr</td>\n",
       "      <td>NaN</td>\n",
       "      <td>NaN</td>\n",
       "      <td>NaN</td>\n",
       "    </tr>\n",
       "    <tr>\n",
       "      <th>hourly_wage</th>\n",
       "      <td>0.0</td>\n",
       "      <td>0.0</td>\n",
       "      <td>0.0</td>\n",
       "      <td>0.0</td>\n",
       "      <td>0.0</td>\n",
       "    </tr>\n",
       "    <tr>\n",
       "      <th>unemp_reason</th>\n",
       "      <td>NaN</td>\n",
       "      <td>NaN</td>\n",
       "      <td>NaN</td>\n",
       "      <td>NaN</td>\n",
       "      <td>NaN</td>\n",
       "    </tr>\n",
       "    <tr>\n",
       "      <th>citizenship</th>\n",
       "      <td>NB_US</td>\n",
       "      <td>NB_US</td>\n",
       "      <td>NB_US</td>\n",
       "      <td>NB_US</td>\n",
       "      <td>NB_US</td>\n",
       "    </tr>\n",
       "    <tr>\n",
       "      <th>woker_type</th>\n",
       "      <td>Pvt</td>\n",
       "      <td>NaN</td>\n",
       "      <td>Pvt</td>\n",
       "      <td>Pvt</td>\n",
       "      <td>Pvt</td>\n",
       "    </tr>\n",
       "    <tr>\n",
       "      <th>fed_liability</th>\n",
       "      <td>Joint_both_under65</td>\n",
       "      <td>Nonfiler</td>\n",
       "      <td>Single</td>\n",
       "      <td>Joint_both_under65</td>\n",
       "      <td>Single</td>\n",
       "    </tr>\n",
       "    <tr>\n",
       "      <th>full_partime_job</th>\n",
       "      <td>Children/Armed_Forces</td>\n",
       "      <td>Children/Armed_Forces</td>\n",
       "      <td>Children/Armed_Forces</td>\n",
       "      <td>Children/Armed_Forces</td>\n",
       "      <td>Children/Armed_Forces</td>\n",
       "    </tr>\n",
       "    <tr>\n",
       "      <th>income</th>\n",
       "      <td>More than 50K $</td>\n",
       "      <td>More than 50K $</td>\n",
       "      <td>More than 50K $</td>\n",
       "      <td>More than 50K $</td>\n",
       "      <td>More than 50K $</td>\n",
       "    </tr>\n",
       "  </tbody>\n",
       "</table>\n",
       "</div>"
      ],
      "text/plain": [
       "                                                      0  \\\n",
       "year_of_poll                                       2004   \n",
       "own_self_emp                                          0   \n",
       "veteran benefits                                      2   \n",
       "currently_enrolled                          High school   \n",
       "race                                              White   \n",
       "father_country                            United-States   \n",
       "educ                 Associates degree-academic program   \n",
       "house_stat                                  Householder   \n",
       "major_ind_code             Business and repair services   \n",
       "labour_union                                         no   \n",
       "self_country                              United-States   \n",
       "major_occ_code                      Protective services   \n",
       "age                                                  42   \n",
       "mother_country                            United-States   \n",
       "house_summary                               Householder   \n",
       "gender                                                M   \n",
       "hisp_origin                                   All_Other   \n",
       "gains                                               0.0   \n",
       "dividends                                           0.0   \n",
       "marriage_status                  Married_civilian_Sp_Pr   \n",
       "losses                                              0.0   \n",
       "employer_of                                           1   \n",
       "house_1yr_ago                                        No   \n",
       "income_filled                                        No   \n",
       "weeks_worked                                         47   \n",
       "under18                                             NaN   \n",
       "hourly_wage                                         0.0   \n",
       "unemp_reason                                        NaN   \n",
       "citizenship                                       NB_US   \n",
       "woker_type                                          Pvt   \n",
       "fed_liability                        Joint_both_under65   \n",
       "full_partime_job                  Children/Armed_Forces   \n",
       "income                                  More than 50K $   \n",
       "\n",
       "                                                         1  \\\n",
       "year_of_poll                                          2005   \n",
       "own_self_emp                                             0   \n",
       "veteran benefits                                         0   \n",
       "currently_enrolled                      College/University   \n",
       "race                                                 White   \n",
       "father_country                                       Japan   \n",
       "educ                                              Children   \n",
       "house_stat           Child <18 never marr not in subfamily   \n",
       "major_ind_code                 Not in universe or children   \n",
       "labour_union                                           NaN   \n",
       "self_country                                 United-States   \n",
       "major_occ_code                                         NaN   \n",
       "age                                                     10   \n",
       "mother_country                               United-States   \n",
       "house_summary                          Child_U18_Unmarried   \n",
       "gender                                                   M   \n",
       "hisp_origin                                       Mex_Amer   \n",
       "gains                                                  0.0   \n",
       "dividends                                              0.0   \n",
       "marriage_status                                  Unmarried   \n",
       "losses                                                 0.0   \n",
       "employer_of                                              0   \n",
       "house_1yr_ago                                          NaN   \n",
       "income_filled                                           No   \n",
       "weeks_worked                                             0   \n",
       "under18                                            Both_Pr   \n",
       "hourly_wage                                            0.0   \n",
       "unemp_reason                                           NaN   \n",
       "citizenship                                          NB_US   \n",
       "woker_type                                             NaN   \n",
       "fed_liability                                     Nonfiler   \n",
       "full_partime_job                     Children/Armed_Forces   \n",
       "income                                     More than 50K $   \n",
       "\n",
       "                                                         2  \\\n",
       "year_of_poll                                          2004   \n",
       "own_self_emp                                             0   \n",
       "veteran benefits                                         2   \n",
       "currently_enrolled                                     NaN   \n",
       "race                                                 White   \n",
       "father_country                               United-States   \n",
       "educ                            Some college but no degree   \n",
       "house_stat                            Secondary individual   \n",
       "major_ind_code                 Manufacturing-durable goods   \n",
       "labour_union                                           NaN   \n",
       "self_country                                 United-States   \n",
       "major_occ_code       Machine operators assmblrs & inspctrs   \n",
       "age                                                     46   \n",
       "mother_country                               United-States   \n",
       "house_summary                                 Non_Relative   \n",
       "gender                                                   M   \n",
       "hisp_origin                                      All_Other   \n",
       "gains                                                  0.0   \n",
       "dividends                                              0.0   \n",
       "marriage_status                                   Divorced   \n",
       "losses                                                 0.0   \n",
       "employer_of                                              6   \n",
       "house_1yr_ago                                           No   \n",
       "income_filled                                          Yes   \n",
       "weeks_worked                                            47   \n",
       "under18                                                NaN   \n",
       "hourly_wage                                            0.0   \n",
       "unemp_reason                                           NaN   \n",
       "citizenship                                          NB_US   \n",
       "woker_type                                             Pvt   \n",
       "fed_liability                                       Single   \n",
       "full_partime_job                     Children/Armed_Forces   \n",
       "income                                     More than 50K $   \n",
       "\n",
       "                                                3  \\\n",
       "year_of_poll                                 2004   \n",
       "own_self_emp                                    0   \n",
       "veteran benefits                                2   \n",
       "currently_enrolled             College/University   \n",
       "race                     Amer/Indian/Aleut/Eskimo   \n",
       "father_country                      United-States   \n",
       "educ                         High school graduate   \n",
       "house_stat                            Householder   \n",
       "major_ind_code                    Wholesale trade   \n",
       "labour_union                                   no   \n",
       "self_country                        United-States   \n",
       "major_occ_code       Handlers equip cleaners etc    \n",
       "age                                            35   \n",
       "mother_country                      United-States   \n",
       "house_summary                         Householder   \n",
       "gender                                          M   \n",
       "hisp_origin                             All_Other   \n",
       "gains                                         0.0   \n",
       "dividends                                     0.0   \n",
       "marriage_status            Married_civilian_Sp_Pr   \n",
       "losses                                        0.0   \n",
       "employer_of                                     2   \n",
       "house_1yr_ago                                 Yes   \n",
       "income_filled                                 NaN   \n",
       "weeks_worked                                   47   \n",
       "under18                                       NaN   \n",
       "hourly_wage                                   0.0   \n",
       "unemp_reason                                  NaN   \n",
       "citizenship                                 NB_US   \n",
       "woker_type                                    Pvt   \n",
       "fed_liability                  Joint_both_under65   \n",
       "full_partime_job            Children/Armed_Forces   \n",
       "income                            More than 50K $   \n",
       "\n",
       "                                                  4  \n",
       "year_of_poll                                   2004  \n",
       "own_self_emp                                      0  \n",
       "veteran benefits                                  2  \n",
       "currently_enrolled                              NaN  \n",
       "race                                          White  \n",
       "father_country                        United-States  \n",
       "educ                           High school graduate  \n",
       "house_stat                              Householder  \n",
       "major_ind_code                      Wholesale trade  \n",
       "labour_union                                     no  \n",
       "self_country                          United-States  \n",
       "major_occ_code       Executive admin and managerial  \n",
       "age                                              61  \n",
       "mother_country                        United-States  \n",
       "house_summary                           Householder  \n",
       "gender                                            F  \n",
       "hisp_origin                               All_Other  \n",
       "gains                                           0.0  \n",
       "dividends                                       0.0  \n",
       "marriage_status                            Divorced  \n",
       "losses                                          0.0  \n",
       "employer_of                                       3  \n",
       "house_1yr_ago                                   Yes  \n",
       "income_filled                                   NaN  \n",
       "weeks_worked                                     47  \n",
       "under18                                         NaN  \n",
       "hourly_wage                                     0.0  \n",
       "unemp_reason                                    NaN  \n",
       "citizenship                                   NB_US  \n",
       "woker_type                                      Pvt  \n",
       "fed_liability                                Single  \n",
       "full_partime_job              Children/Armed_Forces  \n",
       "income                              More than 50K $  "
      ]
     },
     "execution_count": 17,
     "metadata": {},
     "output_type": "execute_result"
    }
   ],
   "source": [
    "df1 = df_tr.drop('ID',axis=1).copy()\n",
    "df1.head().T"
   ]
  },
  {
   "cell_type": "code",
   "execution_count": 16,
   "id": "3920633a",
   "metadata": {},
   "outputs": [
    {
     "data": {
      "text/plain": [
       "(105000, 33)"
      ]
     },
     "execution_count": 16,
     "metadata": {},
     "output_type": "execute_result"
    }
   ],
   "source": [
    "df1.shape"
   ]
  },
  {
   "cell_type": "code",
   "execution_count": 19,
   "id": "3f101a47",
   "metadata": {},
   "outputs": [
    {
     "data": {
      "text/plain": [
       "Index(['year_of_poll', 'own_self_emp', 'veteran benefits', 'age', 'gains',\n",
       "       'dividends', 'losses', 'employer_of', 'weeks_worked', 'hourly_wage'],\n",
       "      dtype='object')"
      ]
     },
     "execution_count": 19,
     "metadata": {},
     "output_type": "execute_result"
    }
   ],
   "source": [
    "nums = df1.select_dtypes(exclude='object').columns\n",
    "nums"
   ]
  },
  {
   "cell_type": "code",
   "execution_count": 20,
   "id": "c078d568",
   "metadata": {},
   "outputs": [
    {
     "data": {
      "text/plain": [
       "year_of_poll        0\n",
       "own_self_emp        0\n",
       "veteran benefits    0\n",
       "age                 0\n",
       "gains               0\n",
       "dividends           0\n",
       "losses              0\n",
       "employer_of         0\n",
       "weeks_worked        0\n",
       "hourly_wage         0\n",
       "dtype: int64"
      ]
     },
     "execution_count": 20,
     "metadata": {},
     "output_type": "execute_result"
    }
   ],
   "source": [
    "df1[nums].isna().sum()"
   ]
  },
  {
   "cell_type": "code",
   "execution_count": 21,
   "id": "569913c0",
   "metadata": {},
   "outputs": [
    {
     "name": "stdout",
     "output_type": "stream",
     "text": [
      "Number of duplicate rows = 0\n"
     ]
    },
    {
     "data": {
      "text/html": [
       "<div>\n",
       "<style scoped>\n",
       "    .dataframe tbody tr th:only-of-type {\n",
       "        vertical-align: middle;\n",
       "    }\n",
       "\n",
       "    .dataframe tbody tr th {\n",
       "        vertical-align: top;\n",
       "    }\n",
       "\n",
       "    .dataframe thead th {\n",
       "        text-align: right;\n",
       "    }\n",
       "</style>\n",
       "<table border=\"1\" class=\"dataframe\">\n",
       "  <thead>\n",
       "    <tr style=\"text-align: right;\">\n",
       "      <th></th>\n",
       "      <th>ID</th>\n",
       "      <th>year_of_poll</th>\n",
       "      <th>own_self_emp</th>\n",
       "      <th>veteran benefits</th>\n",
       "      <th>currently_enrolled</th>\n",
       "      <th>race</th>\n",
       "      <th>father_country</th>\n",
       "      <th>educ</th>\n",
       "      <th>house_stat</th>\n",
       "      <th>major_ind_code</th>\n",
       "      <th>...</th>\n",
       "      <th>income_filled</th>\n",
       "      <th>weeks_worked</th>\n",
       "      <th>under18</th>\n",
       "      <th>hourly_wage</th>\n",
       "      <th>unemp_reason</th>\n",
       "      <th>citizenship</th>\n",
       "      <th>woker_type</th>\n",
       "      <th>fed_liability</th>\n",
       "      <th>full_partime_job</th>\n",
       "      <th>income</th>\n",
       "    </tr>\n",
       "  </thead>\n",
       "  <tbody>\n",
       "  </tbody>\n",
       "</table>\n",
       "<p>0 rows × 34 columns</p>\n",
       "</div>"
      ],
      "text/plain": [
       "Empty DataFrame\n",
       "Columns: [ID, year_of_poll, own_self_emp, veteran benefits, currently_enrolled, race, father_country, educ, house_stat, major_ind_code, labour_union, self_country, major_occ_code, age, mother_country, house_summary, gender, hisp_origin, gains, dividends, marriage_status, losses, employer_of, house_1yr_ago, income_filled, weeks_worked, under18, hourly_wage, unemp_reason, citizenship, woker_type, fed_liability, full_partime_job, income]\n",
       "Index: []\n",
       "\n",
       "[0 rows x 34 columns]"
      ]
     },
     "execution_count": 21,
     "metadata": {},
     "output_type": "execute_result"
    }
   ],
   "source": [
    "dups = df_tr.duplicated()\n",
    "print('Number of duplicate rows = %d' % (dups.sum()))\n",
    "df_tr[dups]"
   ]
  },
  {
   "cell_type": "code",
   "execution_count": 54,
   "id": "808b1897",
   "metadata": {
    "scrolled": false
   },
   "outputs": [
    {
     "data": {
      "image/png": "[encoded data removed]",
      "text/plain": [
       "<Figure size 1440x4320 with 20 Axes>"
      ]
     },
     "metadata": {
      "needs_background": "light"
     },
     "output_type": "display_data"
    }
   ],
   "source": [
    "fig,axs = plt.subplots(nrows=10,ncols=2, figsize=(20,60))\n",
    "m=0\n",
    "for feature in nums:\n",
    "    sns.distplot(df1[feature], kde=True, ax=axs[m][0])\n",
    "    sns.boxplot(x=feature,data=df1, ax=axs[m][1])\n",
    "    m+=1\n",
    "plt.show()"
   ]
  },
  {
   "cell_type": "code",
   "execution_count": 39,
   "id": "0a6a22c9",
   "metadata": {
    "collapsed": true
   },
   "outputs": [
    {
     "data": {
      "image/png": "[encoded data removed]",
      "text/plain": [
       "<Figure size 1440x720 with 1 Axes>"
      ]
     },
     "metadata": {
      "needs_background": "light"
     },
     "output_type": "display_data"
    }
   ],
   "source": [
    "plt.figure(figsize=(20,10))\n",
    "sns.distplot(a=df1['gains'], hist=True, kde=True);"
   ]
  },
  {
   "cell_type": "code",
   "execution_count": 40,
   "id": "f42a3010",
   "metadata": {
    "collapsed": true
   },
   "outputs": [
    {
     "data": {
      "image/png": "[encoded data removed]",
      "text/plain": [
       "<Figure size 1440x720 with 1 Axes>"
      ]
     },
     "metadata": {
      "needs_background": "light"
     },
     "output_type": "display_data"
    }
   ],
   "source": [
    "plt.figure(figsize=(20,10))\n",
    "sns.distplot(a=df1['age'], hist=True, kde=True);"
   ]
  },
  {
   "cell_type": "code",
   "execution_count": 47,
   "id": "80fb0dd9",
   "metadata": {
    "collapsed": true
   },
   "outputs": [
    {
     "data": {
      "image/png": "[encoded data removed]",
      "text/plain": [
       "<Figure size 1440x720 with 1 Axes>"
      ]
     },
     "metadata": {
      "needs_background": "light"
     },
     "output_type": "display_data"
    }
   ],
   "source": [
    "plt.figure(figsize=(20,10))\n",
    "sns.distplot(a=df1['dividends'],kde=True);"
   ]
  },
  {
   "cell_type": "code",
   "execution_count": 48,
   "id": "e8ace354",
   "metadata": {
    "collapsed": true
   },
   "outputs": [
    {
     "data": {
      "image/png": "[encoded data removed]",
      "text/plain": [
       "<Figure size 1440x720 with 1 Axes>"
      ]
     },
     "metadata": {
      "needs_background": "light"
     },
     "output_type": "display_data"
    }
   ],
   "source": [
    "plt.figure(figsize=(20,10))\n",
    "sns.distplot(a=df1['losses'], hist=True, kde=True);"
   ]
  },
  {
   "cell_type": "code",
   "execution_count": 49,
   "id": "54c82745",
   "metadata": {
    "collapsed": true
   },
   "outputs": [
    {
     "data": {
      "image/png": "[encoded data removed]",
      "text/plain": [
       "<Figure size 1440x720 with 1 Axes>"
      ]
     },
     "metadata": {
      "needs_background": "light"
     },
     "output_type": "display_data"
    }
   ],
   "source": [
    "plt.figure(figsize=(20,10))\n",
    "sns.distplot(a=df1['employer_of'], hist=True, kde=True);"
   ]
  },
  {
   "cell_type": "code",
   "execution_count": 51,
   "id": "b3db6a20",
   "metadata": {
    "collapsed": true
   },
   "outputs": [
    {
     "data": {
      "image/png": "[encoded data removed]",
      "text/plain": [
       "<Figure size 1440x720 with 1 Axes>"
      ]
     },
     "metadata": {
      "needs_background": "light"
     },
     "output_type": "display_data"
    }
   ],
   "source": [
    "plt.figure(figsize=(20,10))\n",
    "sns.distplot(a=df1['weeks_worked'], hist=True, kde=True);"
   ]
  },
  {
   "cell_type": "code",
   "execution_count": 55,
   "id": "ba5b05b4",
   "metadata": {
    "collapsed": true
   },
   "outputs": [
    {
     "data": {
      "image/png": "[encoded data removed]",
      "text/plain": [
       "<Figure size 1440x720 with 1 Axes>"
      ]
     },
     "metadata": {
      "needs_background": "light"
     },
     "output_type": "display_data"
    }
   ],
   "source": [
    "plt.figure(figsize=(20,10))\n",
    "sns.distplot(a=df1['hourly_wage'], hist=True, kde=True);"
   ]
  },
  {
   "cell_type": "code",
   "execution_count": 60,
   "id": "80e386ba",
   "metadata": {},
   "outputs": [
    {
     "data": {
      "text/plain": [
       "0.014304761904761905"
      ]
     },
     "execution_count": 60,
     "metadata": {},
     "output_type": "execute_result"
    }
   ],
   "source": [
    "df1[df1['age']==0].shape[0]/df1.shape[0]"
   ]
  },
  {
   "cell_type": "code",
   "execution_count": 61,
   "id": "456cd1c5",
   "metadata": {},
   "outputs": [
    {
     "data": {
      "text/plain": [
       "2    79143\n",
       "0    24826\n",
       "1     1031\n",
       "Name: veteran benefits, dtype: int64"
      ]
     },
     "execution_count": 61,
     "metadata": {},
     "output_type": "execute_result"
    }
   ],
   "source": [
    "df1['veteran benefits'].value_counts()"
   ]
  },
  {
   "cell_type": "code",
   "execution_count": 62,
   "id": "ea1d6b71",
   "metadata": {},
   "outputs": [
    {
     "data": {
      "text/plain": [
       "0    95004\n",
       "2     8568\n",
       "1     1428\n",
       "Name: own_self_emp, dtype: int64"
      ]
     },
     "execution_count": 62,
     "metadata": {},
     "output_type": "execute_result"
    }
   ],
   "source": [
    "df1['own_self_emp'].value_counts()"
   ]
  },
  {
   "cell_type": "code",
   "execution_count": 63,
   "id": "dce38f17",
   "metadata": {},
   "outputs": [
    {
     "data": {
      "text/plain": [
       "2005    52532\n",
       "2004    52468\n",
       "Name: year_of_poll, dtype: int64"
      ]
     },
     "execution_count": 63,
     "metadata": {},
     "output_type": "execute_result"
    }
   ],
   "source": [
    "df1['year_of_poll'].value_counts()"
   ]
  },
  {
   "cell_type": "code",
   "execution_count": 64,
   "id": "463f5718",
   "metadata": {},
   "outputs": [
    {
     "data": {
      "text/plain": [
       "0    50546\n",
       "6    19076\n",
       "1    12111\n",
       "4     7633\n",
       "3     7092\n",
       "2     5338\n",
       "5     3204\n",
       "Name: employer_of, dtype: int64"
      ]
     },
     "execution_count": 64,
     "metadata": {},
     "output_type": "execute_result"
    }
   ],
   "source": [
    "df1['employer_of'].value_counts()"
   ]
  },
  {
   "cell_type": "code",
   "execution_count": 65,
   "id": "f6d89e5e",
   "metadata": {},
   "outputs": [
    {
     "data": {
      "text/plain": [
       "count    105000.000000\n",
       "mean         20.898371\n",
       "std          22.041670\n",
       "min           0.000000\n",
       "25%           0.000000\n",
       "50%           7.000000\n",
       "75%          47.000000\n",
       "max          47.000000\n",
       "Name: weeks_worked, dtype: float64"
      ]
     },
     "execution_count": 65,
     "metadata": {},
     "output_type": "execute_result"
    }
   ],
   "source": [
    "df1['weeks_worked'].describe()"
   ]
  },
  {
   "cell_type": "code",
   "execution_count": 66,
   "id": "e88ece1e",
   "metadata": {},
   "outputs": [
    {
     "data": {
      "text/plain": [
       "48"
      ]
     },
     "execution_count": 66,
     "metadata": {},
     "output_type": "execute_result"
    }
   ],
   "source": [
    " df1['weeks_worked'].nunique()"
   ]
  },
  {
   "cell_type": "code",
   "execution_count": 70,
   "id": "23302e53",
   "metadata": {},
   "outputs": [
    {
     "data": {
      "image/png": "[encoded data removed]",
      "text/plain": [
       "<Figure size 432x288 with 1 Axes>"
      ]
     },
     "metadata": {
      "needs_background": "light"
     },
     "output_type": "display_data"
    }
   ],
   "source": [
    "sns.distplot(a=df1['weeks_worked'], bins=5, kde=True);"
   ]
  },
  {
   "cell_type": "code",
   "execution_count": 71,
   "id": "39b50870",
   "metadata": {},
   "outputs": [
    {
     "data": {
      "text/plain": [
       "count    105000.000000\n",
       "mean         93.484943\n",
       "std         461.214547\n",
       "min           0.000000\n",
       "25%           0.000000\n",
       "50%           0.000000\n",
       "75%           0.000000\n",
       "max       16998.300000\n",
       "Name: hourly_wage, dtype: float64"
      ]
     },
     "execution_count": 71,
     "metadata": {},
     "output_type": "execute_result"
    }
   ],
   "source": [
    "df1['hourly_wage'].describe()"
   ]
  },
  {
   "cell_type": "code",
   "execution_count": 75,
   "id": "1dfb93bc",
   "metadata": {},
   "outputs": [
    {
     "data": {
      "image/png": "[encoded data removed]",
      "text/plain": [
       "<Figure size 432x288 with 1 Axes>"
      ]
     },
     "metadata": {
      "needs_background": "light"
     },
     "output_type": "display_data"
    }
   ],
   "source": [
    "sns.distplot(a=df1['hourly_wage'], bins=15, kde=True);"
   ]
  },
  {
   "cell_type": "code",
   "execution_count": 76,
   "id": "97695a3f",
   "metadata": {},
   "outputs": [
    {
     "data": {
      "text/plain": [
       "count    105000.000000\n",
       "mean         36.243924\n",
       "std          23.465922\n",
       "min           0.000000\n",
       "25%          16.000000\n",
       "50%          35.000000\n",
       "75%          52.000000\n",
       "max          94.000000\n",
       "Name: age, dtype: float64"
      ]
     },
     "execution_count": 76,
     "metadata": {},
     "output_type": "execute_result"
    }
   ],
   "source": [
    "df1['age'].describe()"
   ]
  },
  {
   "cell_type": "code",
   "execution_count": 77,
   "id": "a89d521e",
   "metadata": {},
   "outputs": [
    {
     "data": {
      "image/png": "[encoded data removed]",
      "text/plain": [
       "<Figure size 432x288 with 1 Axes>"
      ]
     },
     "metadata": {
      "needs_background": "light"
     },
     "output_type": "display_data"
    }
   ],
   "source": [
    "sns.distplot(a=df1['age'], bins=15, kde=True);"
   ]
  },
  {
   "cell_type": "code",
   "execution_count": 78,
   "id": "4b8b29a4",
   "metadata": {},
   "outputs": [
    {
     "data": {
      "text/plain": [
       "count    105000.000000\n",
       "mean        488.464764\n",
       "std        5284.877430\n",
       "min           0.000000\n",
       "25%           0.000000\n",
       "50%           0.000000\n",
       "75%           0.000000\n",
       "max      109998.900000\n",
       "Name: gains, dtype: float64"
      ]
     },
     "execution_count": 78,
     "metadata": {},
     "output_type": "execute_result"
    }
   ],
   "source": [
    "df1['gains'].describe()"
   ]
  },
  {
   "cell_type": "code",
   "execution_count": 80,
   "id": "a4934a37",
   "metadata": {},
   "outputs": [
    {
     "data": {
      "image/png": "[encoded data removed]",
      "text/plain": [
       "<Figure size 432x288 with 1 Axes>"
      ]
     },
     "metadata": {
      "needs_background": "light"
     },
     "output_type": "display_data"
    }
   ],
   "source": [
    "sns.distplot(a=df1['gains'], bins=10, kde=True);"
   ]
  },
  {
   "cell_type": "code",
   "execution_count": 81,
   "id": "d68b26f2",
   "metadata": {},
   "outputs": [
    {
     "data": {
      "text/plain": [
       "count    105000.000000\n",
       "mean        240.232046\n",
       "std        2501.629980\n",
       "min           0.000000\n",
       "25%           0.000000\n",
       "50%           0.000000\n",
       "75%           0.000000\n",
       "max      119998.800000\n",
       "Name: dividends, dtype: float64"
      ]
     },
     "execution_count": 81,
     "metadata": {},
     "output_type": "execute_result"
    }
   ],
   "source": [
    "df1['dividends'].describe()"
   ]
  },
  {
   "cell_type": "code",
   "execution_count": 83,
   "id": "e0ce270f",
   "metadata": {},
   "outputs": [
    {
     "data": {
      "image/png": "[encoded data removed]",
      "text/plain": [
       "<Figure size 432x288 with 1 Axes>"
      ]
     },
     "metadata": {
      "needs_background": "light"
     },
     "output_type": "display_data"
    }
   ],
   "source": [
    "sns.distplot(a=df1['dividends'], bins=20, kde=True);"
   ]
  },
  {
   "cell_type": "code",
   "execution_count": 84,
   "id": "c013913a",
   "metadata": {},
   "outputs": [
    {
     "data": {
      "text/plain": [
       "count    105000.000000\n",
       "mean         25.321047\n",
       "std         186.824899\n",
       "min           0.000000\n",
       "25%           0.000000\n",
       "50%           0.000000\n",
       "75%           0.000000\n",
       "max        3225.600000\n",
       "Name: losses, dtype: float64"
      ]
     },
     "execution_count": 84,
     "metadata": {},
     "output_type": "execute_result"
    }
   ],
   "source": [
    "df1['losses'].describe()"
   ]
  },
  {
   "cell_type": "code",
   "execution_count": 90,
   "id": "04845af4",
   "metadata": {},
   "outputs": [
    {
     "data": {
      "image/png": "[encoded data removed]",
      "text/plain": [
       "<Figure size 1080x1800 with 1 Axes>"
      ]
     },
     "metadata": {
      "needs_background": "light"
     },
     "output_type": "display_data"
    }
   ],
   "source": [
    "plt.figure(figsize=(15,25))\n",
    "sns.distplot(a=df1['losses'], bins=20, kde=False);"
   ]
  },
  {
   "cell_type": "markdown",
   "id": "3a40682a",
   "metadata": {},
   "source": [
    "### Non numeric values checking"
   ]
  },
  {
   "cell_type": "code",
   "execution_count": 93,
   "id": "f102dd30",
   "metadata": {},
   "outputs": [],
   "source": [
    "obs = df_tr.select_dtypes(include='object').columns"
   ]
  },
  {
   "cell_type": "code",
   "execution_count": 94,
   "id": "91602a35",
   "metadata": {},
   "outputs": [
    {
     "data": {
      "text/html": [
       "<div>\n",
       "<style scoped>\n",
       "    .dataframe tbody tr th:only-of-type {\n",
       "        vertical-align: middle;\n",
       "    }\n",
       "\n",
       "    .dataframe tbody tr th {\n",
       "        vertical-align: top;\n",
       "    }\n",
       "\n",
       "    .dataframe thead th {\n",
       "        text-align: right;\n",
       "    }\n",
       "</style>\n",
       "<table border=\"1\" class=\"dataframe\">\n",
       "  <thead>\n",
       "    <tr style=\"text-align: right;\">\n",
       "      <th></th>\n",
       "      <th>0</th>\n",
       "      <th>1</th>\n",
       "      <th>2</th>\n",
       "      <th>3</th>\n",
       "      <th>4</th>\n",
       "    </tr>\n",
       "  </thead>\n",
       "  <tbody>\n",
       "    <tr>\n",
       "      <th>currently_enrolled</th>\n",
       "      <td>High school</td>\n",
       "      <td>College/University</td>\n",
       "      <td>NaN</td>\n",
       "      <td>College/University</td>\n",
       "      <td>NaN</td>\n",
       "    </tr>\n",
       "    <tr>\n",
       "      <th>race</th>\n",
       "      <td>White</td>\n",
       "      <td>White</td>\n",
       "      <td>White</td>\n",
       "      <td>Amer/Indian/Aleut/Eskimo</td>\n",
       "      <td>White</td>\n",
       "    </tr>\n",
       "    <tr>\n",
       "      <th>father_country</th>\n",
       "      <td>United-States</td>\n",
       "      <td>Japan</td>\n",
       "      <td>United-States</td>\n",
       "      <td>United-States</td>\n",
       "      <td>United-States</td>\n",
       "    </tr>\n",
       "    <tr>\n",
       "      <th>educ</th>\n",
       "      <td>Associates degree-academic program</td>\n",
       "      <td>Children</td>\n",
       "      <td>Some college but no degree</td>\n",
       "      <td>High school graduate</td>\n",
       "      <td>High school graduate</td>\n",
       "    </tr>\n",
       "    <tr>\n",
       "      <th>house_stat</th>\n",
       "      <td>Householder</td>\n",
       "      <td>Child &lt;18 never marr not in subfamily</td>\n",
       "      <td>Secondary individual</td>\n",
       "      <td>Householder</td>\n",
       "      <td>Householder</td>\n",
       "    </tr>\n",
       "    <tr>\n",
       "      <th>major_ind_code</th>\n",
       "      <td>Business and repair services</td>\n",
       "      <td>Not in universe or children</td>\n",
       "      <td>Manufacturing-durable goods</td>\n",
       "      <td>Wholesale trade</td>\n",
       "      <td>Wholesale trade</td>\n",
       "    </tr>\n",
       "    <tr>\n",
       "      <th>labour_union</th>\n",
       "      <td>no</td>\n",
       "      <td>NaN</td>\n",
       "      <td>NaN</td>\n",
       "      <td>no</td>\n",
       "      <td>no</td>\n",
       "    </tr>\n",
       "    <tr>\n",
       "      <th>self_country</th>\n",
       "      <td>United-States</td>\n",
       "      <td>United-States</td>\n",
       "      <td>United-States</td>\n",
       "      <td>United-States</td>\n",
       "      <td>United-States</td>\n",
       "    </tr>\n",
       "    <tr>\n",
       "      <th>major_occ_code</th>\n",
       "      <td>Protective services</td>\n",
       "      <td>NaN</td>\n",
       "      <td>Machine operators assmblrs &amp; inspctrs</td>\n",
       "      <td>Handlers equip cleaners etc</td>\n",
       "      <td>Executive admin and managerial</td>\n",
       "    </tr>\n",
       "    <tr>\n",
       "      <th>mother_country</th>\n",
       "      <td>United-States</td>\n",
       "      <td>United-States</td>\n",
       "      <td>United-States</td>\n",
       "      <td>United-States</td>\n",
       "      <td>United-States</td>\n",
       "    </tr>\n",
       "    <tr>\n",
       "      <th>house_summary</th>\n",
       "      <td>Householder</td>\n",
       "      <td>Child_U18_Unmarried</td>\n",
       "      <td>Non_Relative</td>\n",
       "      <td>Householder</td>\n",
       "      <td>Householder</td>\n",
       "    </tr>\n",
       "    <tr>\n",
       "      <th>gender</th>\n",
       "      <td>M</td>\n",
       "      <td>M</td>\n",
       "      <td>M</td>\n",
       "      <td>M</td>\n",
       "      <td>F</td>\n",
       "    </tr>\n",
       "    <tr>\n",
       "      <th>hisp_origin</th>\n",
       "      <td>All_Other</td>\n",
       "      <td>Mex_Amer</td>\n",
       "      <td>All_Other</td>\n",
       "      <td>All_Other</td>\n",
       "      <td>All_Other</td>\n",
       "    </tr>\n",
       "    <tr>\n",
       "      <th>marriage_status</th>\n",
       "      <td>Married_civilian_Sp_Pr</td>\n",
       "      <td>Unmarried</td>\n",
       "      <td>Divorced</td>\n",
       "      <td>Married_civilian_Sp_Pr</td>\n",
       "      <td>Divorced</td>\n",
       "    </tr>\n",
       "    <tr>\n",
       "      <th>house_1yr_ago</th>\n",
       "      <td>No</td>\n",
       "      <td>NaN</td>\n",
       "      <td>No</td>\n",
       "      <td>Yes</td>\n",
       "      <td>Yes</td>\n",
       "    </tr>\n",
       "    <tr>\n",
       "      <th>income_filled</th>\n",
       "      <td>No</td>\n",
       "      <td>No</td>\n",
       "      <td>Yes</td>\n",
       "      <td>NaN</td>\n",
       "      <td>NaN</td>\n",
       "    </tr>\n",
       "    <tr>\n",
       "      <th>under18</th>\n",
       "      <td>NaN</td>\n",
       "      <td>Both_Pr</td>\n",
       "      <td>NaN</td>\n",
       "      <td>NaN</td>\n",
       "      <td>NaN</td>\n",
       "    </tr>\n",
       "    <tr>\n",
       "      <th>unemp_reason</th>\n",
       "      <td>NaN</td>\n",
       "      <td>NaN</td>\n",
       "      <td>NaN</td>\n",
       "      <td>NaN</td>\n",
       "      <td>NaN</td>\n",
       "    </tr>\n",
       "    <tr>\n",
       "      <th>citizenship</th>\n",
       "      <td>NB_US</td>\n",
       "      <td>NB_US</td>\n",
       "      <td>NB_US</td>\n",
       "      <td>NB_US</td>\n",
       "      <td>NB_US</td>\n",
       "    </tr>\n",
       "    <tr>\n",
       "      <th>woker_type</th>\n",
       "      <td>Pvt</td>\n",
       "      <td>NaN</td>\n",
       "      <td>Pvt</td>\n",
       "      <td>Pvt</td>\n",
       "      <td>Pvt</td>\n",
       "    </tr>\n",
       "    <tr>\n",
       "      <th>fed_liability</th>\n",
       "      <td>Joint_both_under65</td>\n",
       "      <td>Nonfiler</td>\n",
       "      <td>Single</td>\n",
       "      <td>Joint_both_under65</td>\n",
       "      <td>Single</td>\n",
       "    </tr>\n",
       "    <tr>\n",
       "      <th>full_partime_job</th>\n",
       "      <td>Children/Armed_Forces</td>\n",
       "      <td>Children/Armed_Forces</td>\n",
       "      <td>Children/Armed_Forces</td>\n",
       "      <td>Children/Armed_Forces</td>\n",
       "      <td>Children/Armed_Forces</td>\n",
       "    </tr>\n",
       "    <tr>\n",
       "      <th>income</th>\n",
       "      <td>More than 50K $</td>\n",
       "      <td>More than 50K $</td>\n",
       "      <td>More than 50K $</td>\n",
       "      <td>More than 50K $</td>\n",
       "      <td>More than 50K $</td>\n",
       "    </tr>\n",
       "  </tbody>\n",
       "</table>\n",
       "</div>"
      ],
      "text/plain": [
       "                                                      0  \\\n",
       "currently_enrolled                          High school   \n",
       "race                                              White   \n",
       "father_country                            United-States   \n",
       "educ                 Associates degree-academic program   \n",
       "house_stat                                  Householder   \n",
       "major_ind_code             Business and repair services   \n",
       "labour_union                                         no   \n",
       "self_country                              United-States   \n",
       "major_occ_code                      Protective services   \n",
       "mother_country                            United-States   \n",
       "house_summary                               Householder   \n",
       "gender                                                M   \n",
       "hisp_origin                                   All_Other   \n",
       "marriage_status                  Married_civilian_Sp_Pr   \n",
       "house_1yr_ago                                        No   \n",
       "income_filled                                        No   \n",
       "under18                                             NaN   \n",
       "unemp_reason                                        NaN   \n",
       "citizenship                                       NB_US   \n",
       "woker_type                                          Pvt   \n",
       "fed_liability                        Joint_both_under65   \n",
       "full_partime_job                  Children/Armed_Forces   \n",
       "income                                  More than 50K $   \n",
       "\n",
       "                                                         1  \\\n",
       "currently_enrolled                      College/University   \n",
       "race                                                 White   \n",
       "father_country                                       Japan   \n",
       "educ                                              Children   \n",
       "house_stat           Child <18 never marr not in subfamily   \n",
       "major_ind_code                 Not in universe or children   \n",
       "labour_union                                           NaN   \n",
       "self_country                                 United-States   \n",
       "major_occ_code                                         NaN   \n",
       "mother_country                               United-States   \n",
       "house_summary                          Child_U18_Unmarried   \n",
       "gender                                                   M   \n",
       "hisp_origin                                       Mex_Amer   \n",
       "marriage_status                                  Unmarried   \n",
       "house_1yr_ago                                          NaN   \n",
       "income_filled                                           No   \n",
       "under18                                            Both_Pr   \n",
       "unemp_reason                                           NaN   \n",
       "citizenship                                          NB_US   \n",
       "woker_type                                             NaN   \n",
       "fed_liability                                     Nonfiler   \n",
       "full_partime_job                     Children/Armed_Forces   \n",
       "income                                     More than 50K $   \n",
       "\n",
       "                                                         2  \\\n",
       "currently_enrolled                                     NaN   \n",
       "race                                                 White   \n",
       "father_country                               United-States   \n",
       "educ                            Some college but no degree   \n",
       "house_stat                            Secondary individual   \n",
       "major_ind_code                 Manufacturing-durable goods   \n",
       "labour_union                                           NaN   \n",
       "self_country                                 United-States   \n",
       "major_occ_code       Machine operators assmblrs & inspctrs   \n",
       "mother_country                               United-States   \n",
       "house_summary                                 Non_Relative   \n",
       "gender                                                   M   \n",
       "hisp_origin                                      All_Other   \n",
       "marriage_status                                   Divorced   \n",
       "house_1yr_ago                                           No   \n",
       "income_filled                                          Yes   \n",
       "under18                                                NaN   \n",
       "unemp_reason                                           NaN   \n",
       "citizenship                                          NB_US   \n",
       "woker_type                                             Pvt   \n",
       "fed_liability                                       Single   \n",
       "full_partime_job                     Children/Armed_Forces   \n",
       "income                                     More than 50K $   \n",
       "\n",
       "                                                3  \\\n",
       "currently_enrolled             College/University   \n",
       "race                     Amer/Indian/Aleut/Eskimo   \n",
       "father_country                      United-States   \n",
       "educ                         High school graduate   \n",
       "house_stat                            Householder   \n",
       "major_ind_code                    Wholesale trade   \n",
       "labour_union                                   no   \n",
       "self_country                        United-States   \n",
       "major_occ_code       Handlers equip cleaners etc    \n",
       "mother_country                      United-States   \n",
       "house_summary                         Householder   \n",
       "gender                                          M   \n",
       "hisp_origin                             All_Other   \n",
       "marriage_status            Married_civilian_Sp_Pr   \n",
       "house_1yr_ago                                 Yes   \n",
       "income_filled                                 NaN   \n",
       "under18                                       NaN   \n",
       "unemp_reason                                  NaN   \n",
       "citizenship                                 NB_US   \n",
       "woker_type                                    Pvt   \n",
       "fed_liability                  Joint_both_under65   \n",
       "full_partime_job            Children/Armed_Forces   \n",
       "income                            More than 50K $   \n",
       "\n",
       "                                                  4  \n",
       "currently_enrolled                              NaN  \n",
       "race                                          White  \n",
       "father_country                        United-States  \n",
       "educ                           High school graduate  \n",
       "house_stat                              Householder  \n",
       "major_ind_code                      Wholesale trade  \n",
       "labour_union                                     no  \n",
       "self_country                          United-States  \n",
       "major_occ_code       Executive admin and managerial  \n",
       "mother_country                        United-States  \n",
       "house_summary                           Householder  \n",
       "gender                                            F  \n",
       "hisp_origin                               All_Other  \n",
       "marriage_status                            Divorced  \n",
       "house_1yr_ago                                   Yes  \n",
       "income_filled                                   NaN  \n",
       "under18                                         NaN  \n",
       "unemp_reason                                    NaN  \n",
       "citizenship                                   NB_US  \n",
       "woker_type                                      Pvt  \n",
       "fed_liability                                Single  \n",
       "full_partime_job              Children/Armed_Forces  \n",
       "income                              More than 50K $  "
      ]
     },
     "execution_count": 94,
     "metadata": {},
     "output_type": "execute_result"
    }
   ],
   "source": [
    "df2 = df_tr.select_dtypes(include='object')\n",
    "df2.head().T"
   ]
  },
  {
   "cell_type": "code",
   "execution_count": 97,
   "id": "a5a7ecaa",
   "metadata": {},
   "outputs": [
    {
     "data": {
      "text/plain": [
       "(105000, 23)"
      ]
     },
     "execution_count": 97,
     "metadata": {},
     "output_type": "execute_result"
    }
   ],
   "source": [
    "df2.shape"
   ]
  },
  {
   "cell_type": "code",
   "execution_count": 99,
   "id": "2179f44f",
   "metadata": {},
   "outputs": [
    {
     "data": {
      "text/plain": [
       "currently_enrolled     31443\n",
       "race                       0\n",
       "father_country             0\n",
       "educ                       0\n",
       "house_stat                11\n",
       "major_ind_code             0\n",
       "labour_union           35331\n",
       "self_country               0\n",
       "major_occ_code         53055\n",
       "mother_country             0\n",
       "house_summary              0\n",
       "gender                     0\n",
       "hisp_origin                0\n",
       "marriage_status            0\n",
       "house_1yr_ago          53322\n",
       "income_filled          32403\n",
       "under18                76016\n",
       "unemp_reason          101811\n",
       "citizenship                0\n",
       "woker_type             52835\n",
       "fed_liability              0\n",
       "full_partime_job        1392\n",
       "income                     0\n",
       "dtype: int64"
      ]
     },
     "execution_count": 99,
     "metadata": {},
     "output_type": "execute_result"
    }
   ],
   "source": [
    "# check for nulls\n",
    "df2.isnull().sum()"
   ]
  },
  {
   "cell_type": "code",
   "execution_count": 100,
   "id": "95736706",
   "metadata": {},
   "outputs": [
    {
     "data": {
      "text/html": [
       "<div>\n",
       "<style scoped>\n",
       "    .dataframe tbody tr th:only-of-type {\n",
       "        vertical-align: middle;\n",
       "    }\n",
       "\n",
       "    .dataframe tbody tr th {\n",
       "        vertical-align: top;\n",
       "    }\n",
       "\n",
       "    .dataframe thead th {\n",
       "        text-align: right;\n",
       "    }\n",
       "</style>\n",
       "<table border=\"1\" class=\"dataframe\">\n",
       "  <thead>\n",
       "    <tr style=\"text-align: right;\">\n",
       "      <th></th>\n",
       "      <th>no_of_nan</th>\n",
       "      <th>percent_missing</th>\n",
       "    </tr>\n",
       "  </thead>\n",
       "  <tbody>\n",
       "    <tr>\n",
       "      <th>unemp_reason</th>\n",
       "      <td>101811</td>\n",
       "      <td>96.962857</td>\n",
       "    </tr>\n",
       "    <tr>\n",
       "      <th>under18</th>\n",
       "      <td>76016</td>\n",
       "      <td>72.396190</td>\n",
       "    </tr>\n",
       "    <tr>\n",
       "      <th>house_1yr_ago</th>\n",
       "      <td>53322</td>\n",
       "      <td>50.782857</td>\n",
       "    </tr>\n",
       "    <tr>\n",
       "      <th>major_occ_code</th>\n",
       "      <td>53055</td>\n",
       "      <td>50.528571</td>\n",
       "    </tr>\n",
       "    <tr>\n",
       "      <th>woker_type</th>\n",
       "      <td>52835</td>\n",
       "      <td>50.319048</td>\n",
       "    </tr>\n",
       "    <tr>\n",
       "      <th>labour_union</th>\n",
       "      <td>35331</td>\n",
       "      <td>33.648571</td>\n",
       "    </tr>\n",
       "    <tr>\n",
       "      <th>income_filled</th>\n",
       "      <td>32403</td>\n",
       "      <td>30.860000</td>\n",
       "    </tr>\n",
       "    <tr>\n",
       "      <th>currently_enrolled</th>\n",
       "      <td>31443</td>\n",
       "      <td>29.945714</td>\n",
       "    </tr>\n",
       "    <tr>\n",
       "      <th>full_partime_job</th>\n",
       "      <td>1392</td>\n",
       "      <td>1.325714</td>\n",
       "    </tr>\n",
       "    <tr>\n",
       "      <th>house_stat</th>\n",
       "      <td>11</td>\n",
       "      <td>0.010476</td>\n",
       "    </tr>\n",
       "    <tr>\n",
       "      <th>marriage_status</th>\n",
       "      <td>0</td>\n",
       "      <td>0.000000</td>\n",
       "    </tr>\n",
       "    <tr>\n",
       "      <th>fed_liability</th>\n",
       "      <td>0</td>\n",
       "      <td>0.000000</td>\n",
       "    </tr>\n",
       "    <tr>\n",
       "      <th>citizenship</th>\n",
       "      <td>0</td>\n",
       "      <td>0.000000</td>\n",
       "    </tr>\n",
       "    <tr>\n",
       "      <th>gender</th>\n",
       "      <td>0</td>\n",
       "      <td>0.000000</td>\n",
       "    </tr>\n",
       "    <tr>\n",
       "      <th>hisp_origin</th>\n",
       "      <td>0</td>\n",
       "      <td>0.000000</td>\n",
       "    </tr>\n",
       "    <tr>\n",
       "      <th>race</th>\n",
       "      <td>0</td>\n",
       "      <td>0.000000</td>\n",
       "    </tr>\n",
       "    <tr>\n",
       "      <th>house_summary</th>\n",
       "      <td>0</td>\n",
       "      <td>0.000000</td>\n",
       "    </tr>\n",
       "    <tr>\n",
       "      <th>mother_country</th>\n",
       "      <td>0</td>\n",
       "      <td>0.000000</td>\n",
       "    </tr>\n",
       "    <tr>\n",
       "      <th>self_country</th>\n",
       "      <td>0</td>\n",
       "      <td>0.000000</td>\n",
       "    </tr>\n",
       "    <tr>\n",
       "      <th>major_ind_code</th>\n",
       "      <td>0</td>\n",
       "      <td>0.000000</td>\n",
       "    </tr>\n",
       "    <tr>\n",
       "      <th>educ</th>\n",
       "      <td>0</td>\n",
       "      <td>0.000000</td>\n",
       "    </tr>\n",
       "    <tr>\n",
       "      <th>father_country</th>\n",
       "      <td>0</td>\n",
       "      <td>0.000000</td>\n",
       "    </tr>\n",
       "    <tr>\n",
       "      <th>income</th>\n",
       "      <td>0</td>\n",
       "      <td>0.000000</td>\n",
       "    </tr>\n",
       "  </tbody>\n",
       "</table>\n",
       "</div>"
      ],
      "text/plain": [
       "                    no_of_nan  percent_missing\n",
       "unemp_reason           101811        96.962857\n",
       "under18                 76016        72.396190\n",
       "house_1yr_ago           53322        50.782857\n",
       "major_occ_code          53055        50.528571\n",
       "woker_type              52835        50.319048\n",
       "labour_union            35331        33.648571\n",
       "income_filled           32403        30.860000\n",
       "currently_enrolled      31443        29.945714\n",
       "full_partime_job         1392         1.325714\n",
       "house_stat                 11         0.010476\n",
       "marriage_status             0         0.000000\n",
       "fed_liability               0         0.000000\n",
       "citizenship                 0         0.000000\n",
       "gender                      0         0.000000\n",
       "hisp_origin                 0         0.000000\n",
       "race                        0         0.000000\n",
       "house_summary               0         0.000000\n",
       "mother_country              0         0.000000\n",
       "self_country                0         0.000000\n",
       "major_ind_code              0         0.000000\n",
       "educ                        0         0.000000\n",
       "father_country              0         0.000000\n",
       "income                      0         0.000000"
      ]
     },
     "execution_count": 100,
     "metadata": {},
     "output_type": "execute_result"
    }
   ],
   "source": [
    "percent_missing = df2.isnull().sum() * 100 / len(df2)\n",
    "missing_value_df2 = pd.DataFrame({'no_of_nan':df2.isnull().sum(),\n",
    "    'percent_missing': percent_missing})\n",
    "missing_value_df2.sort_values('percent_missing', ascending=False)"
   ]
  },
  {
   "cell_type": "code",
   "execution_count": 102,
   "id": "188d3017",
   "metadata": {},
   "outputs": [
    {
     "data": {
      "text/html": [
       "<div>\n",
       "<style scoped>\n",
       "    .dataframe tbody tr th:only-of-type {\n",
       "        vertical-align: middle;\n",
       "    }\n",
       "\n",
       "    .dataframe tbody tr th {\n",
       "        vertical-align: top;\n",
       "    }\n",
       "\n",
       "    .dataframe thead th {\n",
       "        text-align: right;\n",
       "    }\n",
       "</style>\n",
       "<table border=\"1\" class=\"dataframe\">\n",
       "  <thead>\n",
       "    <tr style=\"text-align: right;\">\n",
       "      <th></th>\n",
       "      <th>no_of_nan</th>\n",
       "      <th>percent_missing</th>\n",
       "    </tr>\n",
       "  </thead>\n",
       "  <tbody>\n",
       "    <tr>\n",
       "      <th>house_1yr_ago</th>\n",
       "      <td>53322</td>\n",
       "      <td>50.782857</td>\n",
       "    </tr>\n",
       "    <tr>\n",
       "      <th>major_occ_code</th>\n",
       "      <td>53055</td>\n",
       "      <td>50.528571</td>\n",
       "    </tr>\n",
       "    <tr>\n",
       "      <th>woker_type</th>\n",
       "      <td>52835</td>\n",
       "      <td>50.319048</td>\n",
       "    </tr>\n",
       "    <tr>\n",
       "      <th>labour_union</th>\n",
       "      <td>35331</td>\n",
       "      <td>33.648571</td>\n",
       "    </tr>\n",
       "    <tr>\n",
       "      <th>income_filled</th>\n",
       "      <td>32403</td>\n",
       "      <td>30.860000</td>\n",
       "    </tr>\n",
       "    <tr>\n",
       "      <th>currently_enrolled</th>\n",
       "      <td>31443</td>\n",
       "      <td>29.945714</td>\n",
       "    </tr>\n",
       "    <tr>\n",
       "      <th>full_partime_job</th>\n",
       "      <td>1392</td>\n",
       "      <td>1.325714</td>\n",
       "    </tr>\n",
       "    <tr>\n",
       "      <th>house_stat</th>\n",
       "      <td>11</td>\n",
       "      <td>0.010476</td>\n",
       "    </tr>\n",
       "    <tr>\n",
       "      <th>hisp_origin</th>\n",
       "      <td>0</td>\n",
       "      <td>0.000000</td>\n",
       "    </tr>\n",
       "    <tr>\n",
       "      <th>fed_liability</th>\n",
       "      <td>0</td>\n",
       "      <td>0.000000</td>\n",
       "    </tr>\n",
       "    <tr>\n",
       "      <th>citizenship</th>\n",
       "      <td>0</td>\n",
       "      <td>0.000000</td>\n",
       "    </tr>\n",
       "    <tr>\n",
       "      <th>marriage_status</th>\n",
       "      <td>0</td>\n",
       "      <td>0.000000</td>\n",
       "    </tr>\n",
       "    <tr>\n",
       "      <th>house_summary</th>\n",
       "      <td>0</td>\n",
       "      <td>0.000000</td>\n",
       "    </tr>\n",
       "    <tr>\n",
       "      <th>gender</th>\n",
       "      <td>0</td>\n",
       "      <td>0.000000</td>\n",
       "    </tr>\n",
       "    <tr>\n",
       "      <th>race</th>\n",
       "      <td>0</td>\n",
       "      <td>0.000000</td>\n",
       "    </tr>\n",
       "    <tr>\n",
       "      <th>mother_country</th>\n",
       "      <td>0</td>\n",
       "      <td>0.000000</td>\n",
       "    </tr>\n",
       "    <tr>\n",
       "      <th>self_country</th>\n",
       "      <td>0</td>\n",
       "      <td>0.000000</td>\n",
       "    </tr>\n",
       "    <tr>\n",
       "      <th>major_ind_code</th>\n",
       "      <td>0</td>\n",
       "      <td>0.000000</td>\n",
       "    </tr>\n",
       "    <tr>\n",
       "      <th>educ</th>\n",
       "      <td>0</td>\n",
       "      <td>0.000000</td>\n",
       "    </tr>\n",
       "    <tr>\n",
       "      <th>father_country</th>\n",
       "      <td>0</td>\n",
       "      <td>0.000000</td>\n",
       "    </tr>\n",
       "    <tr>\n",
       "      <th>income</th>\n",
       "      <td>0</td>\n",
       "      <td>0.000000</td>\n",
       "    </tr>\n",
       "  </tbody>\n",
       "</table>\n",
       "</div>"
      ],
      "text/plain": [
       "                    no_of_nan  percent_missing\n",
       "house_1yr_ago           53322        50.782857\n",
       "major_occ_code          53055        50.528571\n",
       "woker_type              52835        50.319048\n",
       "labour_union            35331        33.648571\n",
       "income_filled           32403        30.860000\n",
       "currently_enrolled      31443        29.945714\n",
       "full_partime_job         1392         1.325714\n",
       "house_stat                 11         0.010476\n",
       "hisp_origin                 0         0.000000\n",
       "fed_liability               0         0.000000\n",
       "citizenship                 0         0.000000\n",
       "marriage_status             0         0.000000\n",
       "house_summary               0         0.000000\n",
       "gender                      0         0.000000\n",
       "race                        0         0.000000\n",
       "mother_country              0         0.000000\n",
       "self_country                0         0.000000\n",
       "major_ind_code              0         0.000000\n",
       "educ                        0         0.000000\n",
       "father_country              0         0.000000\n",
       "income                      0         0.000000"
      ]
     },
     "execution_count": 102,
     "metadata": {},
     "output_type": "execute_result"
    }
   ],
   "source": [
    "# In this trial one dropping features with more than 70% nulls.\n",
    "df2.drop(['unemp_reason','under18'], axis=1, inplace=True)\n",
    "percent_missing = df2.isnull().sum() * 100 / len(df2)\n",
    "missing_value_df2 = pd.DataFrame({'no_of_nan':df2.isnull().sum(),\n",
    "    'percent_missing': percent_missing})\n",
    "missing_value_df2.sort_values('percent_missing', ascending=False)"
   ]
  },
  {
   "cell_type": "code",
   "execution_count": 129,
   "id": "d7c9487b",
   "metadata": {},
   "outputs": [
    {
     "data": {
      "text/plain": [
       "Less than 50K $    0.621638\n",
       "More than 50K $    0.378362\n",
       "Name: income, dtype: float64"
      ]
     },
     "execution_count": 129,
     "metadata": {},
     "output_type": "execute_result"
    }
   ],
   "source": [
    "df2.income.value_counts(normalize=True)"
   ]
  },
  {
   "cell_type": "code",
   "execution_count": 128,
   "id": "a9d29bda",
   "metadata": {},
   "outputs": [
    {
     "data": {
      "text/plain": [
       "Less than 50K $    65272\n",
       "More than 50K $    39728\n",
       "Name: income, dtype: int64"
      ]
     },
     "execution_count": 128,
     "metadata": {},
     "output_type": "execute_result"
    }
   ],
   "source": [
    "df2.income.value_counts()"
   ]
  },
  {
   "cell_type": "code",
   "execution_count": 127,
   "id": "a473c503",
   "metadata": {
    "collapsed": true
   },
   "outputs": [
    {
     "data": {
      "text/plain": [
       " High school graduate                      25608\n",
       " Children                                  24831\n",
       " Some college but no degree                14637\n",
       " Bachelors degree(BA AB BS)                10403\n",
       " 7th and 8th grade                          4239\n",
       " 10th grade                                 3962\n",
       " 11th grade                                 3611\n",
       " Masters degree(MA MS MEng MEd MSW MBA)     3471\n",
       " 9th grade                                  3275\n",
       " Associates degree-occup /vocational        2857\n",
       " Associates degree-academic program         2289\n",
       " 5th or 6th grade                           1735\n",
       " 12th grade no diploma                      1082\n",
       " 1st 2nd 3rd or 4th grade                    963\n",
       " Prof school degree (MD DDS DVM LLB JD)      937\n",
       " Doctorate degree(PhD EdD)                   651\n",
       " Less than 1st grade                         449\n",
       "Name: educ, dtype: int64"
      ]
     },
     "execution_count": 127,
     "metadata": {},
     "output_type": "execute_result"
    }
   ],
   "source": [
    "df2['educ'].value_counts()"
   ]
  },
  {
   "cell_type": "code",
   "execution_count": 126,
   "id": "5705f6b4",
   "metadata": {
    "collapsed": true
   },
   "outputs": [
    {
     "data": {
      "text/plain": [
       " Not in universe or children            53055\n",
       " Retail trade                            8889\n",
       " Manufacturing-durable goods             4805\n",
       " Education                               4307\n",
       " Manufacturing-nondurable goods          3705\n",
       " Finance insurance and real estate       3178\n",
       " Construction                            3178\n",
       " Business and repair services            2962\n",
       " Medical except hospital                 2484\n",
       " Public administration                   2416\n",
       " Other professional services             2373\n",
       " Transportation                          2157\n",
       " Hospital services                       2086\n",
       " Wholesale trade                         1858\n",
       " Agriculture                             1630\n",
       " Personal services except private HH     1541\n",
       " Social services                         1336\n",
       " Entertainment                            846\n",
       " Communications                           655\n",
       " Utilities and sanitary services          608\n",
       " Private household services               517\n",
       " Mining                                   299\n",
       " Forestry and fisheries                    94\n",
       " Armed Forces                              21\n",
       "Name: major_ind_code, dtype: int64"
      ]
     },
     "execution_count": 126,
     "metadata": {},
     "output_type": "execute_result"
    }
   ],
   "source": [
    "df2['major_ind_code'].value_counts()"
   ]
  },
  {
   "cell_type": "code",
   "execution_count": 125,
   "id": "a4bf7922",
   "metadata": {
    "collapsed": true
   },
   "outputs": [
    {
     "data": {
      "text/plain": [
       " United-States                   83720\n",
       " Mexico                           5297\n",
       " ?                                3523\n",
       " Puerto-Rico                      1455\n",
       " Italy                            1189\n",
       " Germany                           741\n",
       " Canada                            704\n",
       " Dominican-Republic                679\n",
       " Poland                            645\n",
       " Philippines                       616\n",
       " Cuba                              593\n",
       " El-Salvador                       519\n",
       " China                             434\n",
       " England                           403\n",
       " Columbia                          320\n",
       " South Korea                       288\n",
       " India                             280\n",
       " Ireland                           258\n",
       " Jamaica                           247\n",
       " Vietnam                           242\n",
       " Guatemala                         239\n",
       " Japan                             209\n",
       " Ecuador                           197\n",
       " Portugal                          197\n",
       " Haiti                             193\n",
       " Nicaragua                         187\n",
       " Greece                            172\n",
       " Peru                              172\n",
       " Hungary                           149\n",
       " Scotland                          130\n",
       " Yugoslavia                        124\n",
       " Iran                              113\n",
       " Cambodia                          109\n",
       " France                            100\n",
       " Taiwan                            100\n",
       " Honduras                           99\n",
       " Laos                               85\n",
       " Outlying-U S (Guam USVI etc)       74\n",
       " Thailand                           55\n",
       " Trinadad&Tobago                    55\n",
       " Hong Kong                          52\n",
       " Holand-Netherlands                 25\n",
       " Panama                             11\n",
       "Name: father_country, dtype: int64"
      ]
     },
     "execution_count": 125,
     "metadata": {},
     "output_type": "execute_result"
    }
   ],
   "source": [
    "df2['father_country'].value_counts()"
   ]
  },
  {
   "cell_type": "code",
   "execution_count": 121,
   "id": "f7270c11",
   "metadata": {
    "collapsed": true
   },
   "outputs": [
    {
     "data": {
      "text/plain": [
       " United-States                   93022\n",
       " Mexico                           3083\n",
       " ?                                1806\n",
       " Puerto-Rico                       769\n",
       " Philippines                       464\n",
       " Germany                           456\n",
       " Cuba                              453\n",
       " El-Salvador                       372\n",
       " Dominican-Republic                358\n",
       " Canada                            357\n",
       " China                             258\n",
       " South Korea                       254\n",
       " Columbia                          241\n",
       " England                           234\n",
       " Vietnam                           210\n",
       " Italy                             208\n",
       " Poland                            195\n",
       " India                             194\n",
       " Guatemala                         180\n",
       " Japan                             179\n",
       " Jamaica                           176\n",
       " Peru                              141\n",
       " Ecuador                           140\n",
       " Nicaragua                         127\n",
       " Haiti                             125\n",
       " Taiwan                            100\n",
       " Portugal                           85\n",
       " Greece                             78\n",
       " Honduras                           78\n",
       " Iran                               77\n",
       " France                             68\n",
       " Ireland                            65\n",
       " Outlying-U S (Guam USVI etc)       62\n",
       " Thailand                           61\n",
       " Laos                               53\n",
       " Hong Kong                          48\n",
       " Cambodia                           47\n",
       " Hungary                            40\n",
       " Yugoslavia                         39\n",
       " Scotland                           36\n",
       " Trinadad&Tobago                    33\n",
       " Panama                             16\n",
       " Holand-Netherlands                 12\n",
       "Name: self_country, dtype: int64"
      ]
     },
     "execution_count": 121,
     "metadata": {},
     "output_type": "execute_result"
    }
   ],
   "source": [
    "df2['self_country'].value_counts()"
   ]
  },
  {
   "cell_type": "code",
   "execution_count": 119,
   "id": "99b0ff2b",
   "metadata": {},
   "outputs": [
    {
     "data": {
      "text/plain": [
       " White                      88078\n",
       " Black                      10763\n",
       "Asian/Pacific_Islander       3050\n",
       " Other                       1935\n",
       "Amer/Indian/Aleut/Eskimo     1174\n",
       "Name: race, dtype: int64"
      ]
     },
     "execution_count": 119,
     "metadata": {},
     "output_type": "execute_result"
    }
   ],
   "source": [
    "df2['race'].value_counts()"
   ]
  },
  {
   "cell_type": "code",
   "execution_count": 120,
   "id": "1076264c",
   "metadata": {
    "collapsed": true
   },
   "outputs": [
    {
     "data": {
      "text/plain": [
       " United-States                   84324\n",
       " Mexico                           5199\n",
       " ?                                3243\n",
       " Puerto-Rico                      1369\n",
       " Italy                             990\n",
       " Germany                           742\n",
       " Canada                            736\n",
       " Philippines                       651\n",
       " Cuba                              592\n",
       " El-Salvador                       581\n",
       " Dominican-Republic                579\n",
       " Poland                            578\n",
       " England                           463\n",
       " China                             390\n",
       " Columbia                          337\n",
       " South Korea                       332\n",
       " Ireland                           298\n",
       " India                             271\n",
       " Vietnam                           253\n",
       " Japan                             248\n",
       " Jamaica                           240\n",
       " Guatemala                         235\n",
       " Ecuador                           202\n",
       " Haiti                             192\n",
       " Peru                              187\n",
       " Nicaragua                         182\n",
       " Portugal                          175\n",
       " Hungary                           157\n",
       " Scotland                          130\n",
       " Greece                            122\n",
       " Honduras                          117\n",
       " France                            113\n",
       " Taiwan                            110\n",
       " Yugoslavia                        108\n",
       " Iran                               96\n",
       " Laos                               86\n",
       " Cambodia                           81\n",
       " Outlying-U S (Guam USVI etc)       79\n",
       " Thailand                           65\n",
       " Hong Kong                          53\n",
       " Trinadad&Tobago                    49\n",
       " Holand-Netherlands                 27\n",
       " Panama                             18\n",
       "Name: mother_country, dtype: int64"
      ]
     },
     "execution_count": 120,
     "metadata": {},
     "output_type": "execute_result"
    }
   ],
   "source": [
    "df2['mother_country'].value_counts()"
   ]
  },
  {
   "cell_type": "code",
   "execution_count": 118,
   "id": "878bc038",
   "metadata": {},
   "outputs": [
    {
     "data": {
      "text/plain": [
       "NB_US            93024\n",
       "FB                7133\n",
       "FB_US             3095\n",
       "NB_US_Parents      917\n",
       "NB_PR              831\n",
       "Name: citizenship, dtype: int64"
      ]
     },
     "execution_count": 118,
     "metadata": {},
     "output_type": "execute_result"
    }
   ],
   "source": [
    "df2['citizenship'].value_counts()"
   ]
  },
  {
   "cell_type": "code",
   "execution_count": 117,
   "id": "e638ca06",
   "metadata": {},
   "outputs": [
    {
     "data": {
      "text/plain": [
       " Householder           39817\n",
       "Child_U18_Unmarried    26438\n",
       "Spouse                 21946\n",
       "Child_Above18           7590\n",
       "Relative                5086\n",
       "Non_Relative            4029\n",
       "Sy_Individual             76\n",
       "Child_U18_Married         18\n",
       "Name: house_summary, dtype: int64"
      ]
     },
     "execution_count": 117,
     "metadata": {},
     "output_type": "execute_result"
    }
   ],
   "source": [
    "df2['house_summary'].value_counts()"
   ]
  },
  {
   "cell_type": "code",
   "execution_count": 116,
   "id": "b13ef9b8",
   "metadata": {
    "scrolled": true
   },
   "outputs": [
    {
     "data": {
      "text/plain": [
       "Unmarried                 45521\n",
       "Married_civilian_Sp_Pr    44230\n",
       " Divorced                  6726\n",
       " Widowed                   5510\n",
       " Separated                 1883\n",
       "Married_Sp_Ab               773\n",
       "Married_AF_Sp_Pr            357\n",
       "Name: marriage_status, dtype: int64"
      ]
     },
     "execution_count": 116,
     "metadata": {},
     "output_type": "execute_result"
    }
   ],
   "source": [
    "df2['marriage_status'].value_counts()"
   ]
  },
  {
   "cell_type": "code",
   "execution_count": 115,
   "id": "2b223465",
   "metadata": {},
   "outputs": [
    {
     "data": {
      "text/plain": [
       " Nonfiler                        39588\n",
       "Joint_both_under65               35315\n",
       " Single                          19729\n",
       "Joint_both_Above65                4347\n",
       " Head of household                3939\n",
       "Joint_one_Under65_one_Above65     2082\n",
       "Name: fed_liability, dtype: int64"
      ]
     },
     "execution_count": 115,
     "metadata": {},
     "output_type": "execute_result"
    }
   ],
   "source": [
    "df2['fed_liability'].value_counts()"
   ]
  },
  {
   "cell_type": "code",
   "execution_count": 114,
   "id": "36a61bad",
   "metadata": {},
   "outputs": [
    {
     "data": {
      "text/plain": [
       "All_Other                 90262\n",
       "Mex_Amer                   4282\n",
       "Mexican_Mexicano           3836\n",
       "Central/South_American     2135\n",
       "Puer_Ric                   1777\n",
       "Other_Spanish              1316\n",
       " Cuban                      601\n",
       " NA                         469\n",
       " Do not know                169\n",
       " Chicano                    153\n",
       "Name: hisp_origin, dtype: int64"
      ]
     },
     "execution_count": 114,
     "metadata": {},
     "output_type": "execute_result"
    }
   ],
   "source": [
    "df2['hisp_origin'].value_counts()"
   ]
  },
  {
   "cell_type": "code",
   "execution_count": 107,
   "id": "d30a00aa",
   "metadata": {},
   "outputs": [
    {
     "data": {
      "text/plain": [
       "no     59270\n",
       "yes    10399\n",
       "Name: labour_union, dtype: int64"
      ]
     },
     "execution_count": 107,
     "metadata": {},
     "output_type": "execute_result"
    }
   ],
   "source": [
    "df2['labour_union'].value_counts()"
   ]
  },
  {
   "cell_type": "code",
   "execution_count": 108,
   "id": "5849facc",
   "metadata": {},
   "outputs": [
    {
     "data": {
      "text/plain": [
       " No     56142\n",
       " Yes    16455\n",
       "Name: income_filled, dtype: int64"
      ]
     },
     "execution_count": 108,
     "metadata": {},
     "output_type": "execute_result"
    }
   ],
   "source": [
    "df2['income_filled'].value_counts()"
   ]
  },
  {
   "cell_type": "code",
   "execution_count": 109,
   "id": "9ed11958",
   "metadata": {},
   "outputs": [
    {
     "data": {
      "text/plain": [
       "Children/Armed_Forces                  64168\n",
       " Full-time schedules                   21083\n",
       " Not in labor force                    14051\n",
       " PT for non-econ reasons usually FT     1737\n",
       " Unemployed full-time                   1185\n",
       " PT for econ reasons usually PT          654\n",
       " Unemployed part- time                   450\n",
       " PT for econ reasons usually FT          280\n",
       "Name: full_partime_job, dtype: int64"
      ]
     },
     "execution_count": 109,
     "metadata": {},
     "output_type": "execute_result"
    }
   ],
   "source": [
    "df2['full_partime_job'].value_counts()"
   ]
  },
  {
   "cell_type": "code",
   "execution_count": 106,
   "id": "383e91b5",
   "metadata": {},
   "outputs": [
    {
     "data": {
      "text/plain": [
       "Pvt                 37967\n",
       "Self_emp_not_inc     4430\n",
       "Loc_Govt             4048\n",
       "St_Govt              2186\n",
       "Self_emp_inc         1693\n",
       "Fed_Govt             1538\n",
       " Never worked         220\n",
       " Without pay           83\n",
       "Name: woker_type, dtype: int64"
      ]
     },
     "execution_count": 106,
     "metadata": {},
     "output_type": "execute_result"
    }
   ],
   "source": [
    "df2['woker_type'].value_counts()"
   ]
  },
  {
   "cell_type": "code",
   "execution_count": 103,
   "id": "2c463efc",
   "metadata": {},
   "outputs": [
    {
     "data": {
      "text/plain": [
       " Yes    43444\n",
       " No      8234\n",
       "Name: house_1yr_ago, dtype: int64"
      ]
     },
     "execution_count": 103,
     "metadata": {},
     "output_type": "execute_result"
    }
   ],
   "source": [
    "df2['house_1yr_ago'].value_counts()"
   ]
  },
  {
   "cell_type": "code",
   "execution_count": 105,
   "id": "c27256d3",
   "metadata": {},
   "outputs": [
    {
     "data": {
      "text/plain": [
       "14"
      ]
     },
     "execution_count": 105,
     "metadata": {},
     "output_type": "execute_result"
    }
   ],
   "source": [
    "df2['major_occ_code'].nunique()"
   ]
  },
  {
   "cell_type": "code",
   "execution_count": 104,
   "id": "0487bc9c",
   "metadata": {
    "collapsed": true
   },
   "outputs": [
    {
     "data": {
      "text/plain": [
       " Adm support including clerical           7708\n",
       " Professional specialty                   7320\n",
       " Executive admin and managerial           6517\n",
       " Other service                            6365\n",
       " Sales                                    6112\n",
       " Precision production craft & repair      5604\n",
       " Machine operators assmblrs & inspctrs    3414\n",
       " Handlers equip cleaners etc              2180\n",
       " Transportation and material moving       2112\n",
       " Farming forestry and fishing             1686\n",
       " Technicians and related support          1604\n",
       " Protective services                       871\n",
       " Private household services                431\n",
       " Armed Forces                               21\n",
       "Name: major_occ_code, dtype: int64"
      ]
     },
     "execution_count": 104,
     "metadata": {},
     "output_type": "execute_result"
    }
   ],
   "source": [
    "df2['major_occ_code'].value_counts()"
   ]
  },
  {
   "cell_type": "code",
   "execution_count": 96,
   "id": "ce32dc34",
   "metadata": {},
   "outputs": [
    {
     "data": {
      "text/plain": [
       "F    54582\n",
       "M    50418\n",
       "Name: gender, dtype: int64"
      ]
     },
     "execution_count": 96,
     "metadata": {},
     "output_type": "execute_result"
    }
   ],
   "source": [
    "df2['gender'].value_counts()"
   ]
  },
  {
   "cell_type": "code",
   "execution_count": 98,
   "id": "ed22305d",
   "metadata": {},
   "outputs": [
    {
     "data": {
      "text/plain": [
       "College/University    42386\n",
       " High school          31171\n",
       "Name: currently_enrolled, dtype: int64"
      ]
     },
     "execution_count": 98,
     "metadata": {},
     "output_type": "execute_result"
    }
   ],
   "source": [
    "df2['currently_enrolled'].value_counts()"
   ]
  },
  {
   "cell_type": "code",
   "execution_count": 113,
   "id": "3bc5e6cc",
   "metadata": {},
   "outputs": [
    {
     "data": {
      "text/plain": [
       "College/University    42386\n",
       "High school           31171\n",
       "Name: currently_enrolled, dtype: int64"
      ]
     },
     "execution_count": 113,
     "metadata": {},
     "output_type": "execute_result"
    }
   ],
   "source": [
    "df2['currently_enrolled'] = df2['currently_enrolled'].str.lstrip()\n",
    "df2['currently_enrolled'].value_counts()"
   ]
  },
  {
   "cell_type": "code",
   "execution_count": 112,
   "id": "a4318505",
   "metadata": {},
   "outputs": [
    {
     "data": {
      "text/plain": [
       "31"
      ]
     },
     "execution_count": 112,
     "metadata": {},
     "output_type": "execute_result"
    }
   ],
   "source": [
    "df2['house_stat'].nunique()"
   ]
  },
  {
   "cell_type": "code",
   "execution_count": 111,
   "id": "903179ed",
   "metadata": {
    "collapsed": true
   },
   "outputs": [
    {
     "data": {
      "text/plain": [
       " Householder                                        28081\n",
       " Child <18 never marr not in subfamily              26380\n",
       " Spouse of householder                              21940\n",
       " Nonfamily householder                              11728\n",
       " Child 18+ never marr Not in a subfamily             6320\n",
       " Secondary individual                                3224\n",
       " Other Rel 18+ ever marr not in subfamily             997\n",
       " Grandchild <18 never marr child of subfamily RP      980\n",
       " Other Rel 18+ never marr not in subfamily            929\n",
       " Child 18+ ever marr Not in a subfamily               547\n",
       " Grandchild <18 never marr not in subfamily           542\n",
       " Child under 18 of RP of unrel subfamily              390\n",
       " RP of unrelated subfamily                            388\n",
       " Other Rel 18+ ever marr RP of subfamily              386\n",
       " Child 18+ ever marr RP of subfamily                  350\n",
       " Other Rel <18 never marr child of subfamily RP       348\n",
       " Other Rel <18 never marr not in subfamily            316\n",
       " Other Rel 18+ spouse of subfamily RP                 308\n",
       " Child 18+ never marr RP of subfamily                 308\n",
       " Grandchild 18+ never marr not in subfamily           195\n",
       " In group quarters                                    108\n",
       " Child 18+ spouse of subfamily RP                      64\n",
       " Child <18 never marr RP of subfamily                  46\n",
       " Other Rel 18+ never marr RP of subfamily              45\n",
       " Spouse of RP of unrelated subfamily                   23\n",
       " Grandchild 18+ ever marr not in subfamily             19\n",
       " Child <18 ever marr not in subfamily                  14\n",
       " Grandchild 18+ ever marr RP of subfamily               5\n",
       " Child <18 ever marr RP of subfamily                    3\n",
       " Grandchild 18+ spouse of subfamily RP                  3\n",
       " Other Rel <18 never married RP of subfamily            2\n",
       "Name: house_stat, dtype: int64"
      ]
     },
     "execution_count": 111,
     "metadata": {},
     "output_type": "execute_result"
    }
   ],
   "source": [
    "df2['house_stat'].value_counts()"
   ]
  },
  {
   "cell_type": "code",
   "execution_count": 133,
   "id": "b118b1f3",
   "metadata": {},
   "outputs": [],
   "source": [
    "obs=df2.columns"
   ]
  },
  {
   "cell_type": "code",
   "execution_count": 135,
   "id": "dab3a700",
   "metadata": {},
   "outputs": [],
   "source": [
    "for feature in obs:\n",
    "    df2[feature]=df2[feature].str.lstrip()"
   ]
  },
  {
   "cell_type": "code",
   "execution_count": 139,
   "id": "6246913b",
   "metadata": {},
   "outputs": [
    {
     "data": {
      "text/plain": [
       "Unmarried                 45521\n",
       "Married_civilian_Sp_Pr    44230\n",
       "Divorced                   6726\n",
       "Widowed                    5510\n",
       "Separated                  1883\n",
       "Married_Sp_Ab               773\n",
       "Married_AF_Sp_Pr            357\n",
       "Name: marriage_status, dtype: int64"
      ]
     },
     "execution_count": 139,
     "metadata": {},
     "output_type": "execute_result"
    }
   ],
   "source": [
    "df2['marriage_status'].value_counts()"
   ]
  },
  {
   "cell_type": "code",
   "execution_count": 143,
   "id": "5a9b2af1",
   "metadata": {},
   "outputs": [
    {
     "data": {
      "text/plain": [
       "Unmarried    52914\n",
       "Married      45360\n",
       "Divorced      6726\n",
       "Name: marriage_status, dtype: int64"
      ]
     },
     "execution_count": 143,
     "metadata": {},
     "output_type": "execute_result"
    }
   ],
   "source": [
    "df2['marriage_status'].replace(to_replace=['Married_civilian_Sp_Pr','Married_Sp_Ab','Married_AF_Sp_Pr'], value='Married', inplace=True)\n",
    "df2['marriage_status'].value_counts()"
   ]
  },
  {
   "cell_type": "code",
   "execution_count": 145,
   "id": "659e0d73",
   "metadata": {},
   "outputs": [
    {
     "data": {
      "text/plain": [
       "All_Other                 90262\n",
       "Mex_Amer                   4282\n",
       "Mexican_Mexicano           3836\n",
       "Central/South_American     2135\n",
       "Puer_Ric                   1777\n",
       "Other_Spanish              1316\n",
       "Unknown                     638\n",
       "Cuban                       601\n",
       "Chicano                     153\n",
       "Name: hisp_origin, dtype: int64"
      ]
     },
     "execution_count": 145,
     "metadata": {},
     "output_type": "execute_result"
    }
   ],
   "source": [
    "df2['hisp_origin'].replace(to_replace=['NA','Do not know'], value='Unknown', inplace=True)\n",
    "df2['hisp_origin'].value_counts()"
   ]
  },
  {
   "cell_type": "code",
   "execution_count": 146,
   "id": "e05118d2",
   "metadata": {},
   "outputs": [
    {
     "data": {
      "text/plain": [
       "Nonfiler                         39588\n",
       "Joint_both_under65               35315\n",
       "Single                           19729\n",
       "Joint_both_Above65                4347\n",
       "Head of household                 3939\n",
       "Joint_one_Under65_one_Above65     2082\n",
       "Name: fed_liability, dtype: int64"
      ]
     },
     "execution_count": 146,
     "metadata": {},
     "output_type": "execute_result"
    }
   ],
   "source": [
    "df2['fed_liability'].value_counts()"
   ]
  },
  {
   "cell_type": "code",
   "execution_count": 150,
   "id": "99e6ff05",
   "metadata": {
    "collapsed": true
   },
   "outputs": [
    {
     "data": {
      "text/plain": [
       "United-States                   94828\n",
       "Mexico                           3083\n",
       "Puerto-Rico                       769\n",
       "Philippines                       464\n",
       "Germany                           456\n",
       "Cuba                              453\n",
       "El-Salvador                       372\n",
       "Dominican-Republic                358\n",
       "Canada                            357\n",
       "China                             258\n",
       "South Korea                       254\n",
       "Columbia                          241\n",
       "England                           234\n",
       "Vietnam                           210\n",
       "Italy                             208\n",
       "Poland                            195\n",
       "India                             194\n",
       "Guatemala                         180\n",
       "Japan                             179\n",
       "Jamaica                           176\n",
       "Peru                              141\n",
       "Ecuador                           140\n",
       "Nicaragua                         127\n",
       "Haiti                             125\n",
       "Taiwan                            100\n",
       "Portugal                           85\n",
       "Honduras                           78\n",
       "Greece                             78\n",
       "Iran                               77\n",
       "France                             68\n",
       "Ireland                            65\n",
       "Outlying-U S (Guam USVI etc)       62\n",
       "Thailand                           61\n",
       "Laos                               53\n",
       "Hong Kong                          48\n",
       "Cambodia                           47\n",
       "Hungary                            40\n",
       "Yugoslavia                         39\n",
       "Scotland                           36\n",
       "Trinadad&Tobago                    33\n",
       "Panama                             16\n",
       "Holand-Netherlands                 12\n",
       "Name: self_country, dtype: int64"
      ]
     },
     "execution_count": 150,
     "metadata": {},
     "output_type": "execute_result"
    }
   ],
   "source": [
    "df2['self_country'].replace(to_replace=['?'], value='United-States', inplace=True)\n",
    "df2['self_country'].value_counts()"
   ]
  },
  {
   "cell_type": "code",
   "execution_count": 157,
   "id": "0c210d37",
   "metadata": {},
   "outputs": [],
   "source": [
    "df2copy = df2.copy()"
   ]
  },
  {
   "cell_type": "code",
   "execution_count": 179,
   "id": "2ac674d2",
   "metadata": {},
   "outputs": [],
   "source": [
    "notusa = df2copy[df2copy['self_country']!='United-States']['self_country'].values"
   ]
  },
  {
   "cell_type": "code",
   "execution_count": 180,
   "id": "81e17028",
   "metadata": {},
   "outputs": [
    {
     "data": {
      "text/plain": [
       "United-States        94828\n",
       "Not United-States    10172\n",
       "Name: self_country, dtype: int64"
      ]
     },
     "execution_count": 180,
     "metadata": {},
     "output_type": "execute_result"
    }
   ],
   "source": [
    "df2['self_country'].replace(to_replace=notusa, value='Not United-States', inplace=True)\n",
    "df2['self_country'].value_counts()"
   ]
  },
  {
   "cell_type": "code",
   "execution_count": 181,
   "id": "b1d90a5d",
   "metadata": {},
   "outputs": [
    {
     "data": {
      "text/plain": [
       "United-States        87567\n",
       "Not United-States    17433\n",
       "Name: mother_country, dtype: int64"
      ]
     },
     "execution_count": 181,
     "metadata": {},
     "output_type": "execute_result"
    }
   ],
   "source": [
    "df2['mother_country'].replace(to_replace=notusa, value='Not United-States', inplace=True)\n",
    "df2['mother_country'].value_counts()"
   ]
  },
  {
   "cell_type": "code",
   "execution_count": 182,
   "id": "b8c923de",
   "metadata": {},
   "outputs": [
    {
     "data": {
      "text/plain": [
       "United-States        87243\n",
       "Not United-States    17757\n",
       "Name: father_country, dtype: int64"
      ]
     },
     "execution_count": 182,
     "metadata": {},
     "output_type": "execute_result"
    }
   ],
   "source": [
    "df2['father_country'].replace(to_replace=notusa, value='Not United-States', inplace=True)\n",
    "df2['father_country'].value_counts()"
   ]
  },
  {
   "cell_type": "code",
   "execution_count": 189,
   "id": "1f01ec0e",
   "metadata": {
    "collapsed": true
   },
   "outputs": [
    {
     "data": {
      "text/plain": [
       "Not in universe or children            53055\n",
       "Retail trade                            8889\n",
       "Manufacturing-durable goods             4805\n",
       "Education                               4307\n",
       "Manufacturing-nondurable goods          3705\n",
       "Construction                            3178\n",
       "Finance insurance and real estate       3178\n",
       "Business and repair services            2962\n",
       "Medical except hospital                 2484\n",
       "Public administration                   2416\n",
       "Other professional services             2373\n",
       "Transportation                          2157\n",
       "Hospital services                       2086\n",
       "Wholesale trade                         1858\n",
       "Agriculture                             1630\n",
       "Personal services except private HH     1541\n",
       "Social services                         1336\n",
       "Entertainment                            846\n",
       "Communications                           655\n",
       "Utilities and sanitary services          608\n",
       "Private household services               517\n",
       "Mining                                   299\n",
       "Forestry and fisheries                    94\n",
       "Armed Forces                              21\n",
       "Name: major_ind_code, dtype: int64"
      ]
     },
     "execution_count": 189,
     "metadata": {},
     "output_type": "execute_result"
    }
   ],
   "source": [
    "df2['major_ind_code'].value_counts()"
   ]
  },
  {
   "cell_type": "code",
   "execution_count": 188,
   "id": "6fd25c77",
   "metadata": {
    "collapsed": true
   },
   "outputs": [
    {
     "data": {
      "text/plain": [
       "Adm support including clerical           7708\n",
       "Professional specialty                   7320\n",
       "Executive admin and managerial           6517\n",
       "Other service                            6365\n",
       "Sales                                    6112\n",
       "Precision production craft & repair      5604\n",
       "Machine operators assmblrs & inspctrs    3414\n",
       "Handlers equip cleaners etc              2180\n",
       "Transportation and material moving       2112\n",
       "Farming forestry and fishing             1686\n",
       "Technicians and related support          1604\n",
       "Protective services                       871\n",
       "Private household services                431\n",
       "Armed Forces                               21\n",
       "Name: major_occ_code, dtype: int64"
      ]
     },
     "execution_count": 188,
     "metadata": {},
     "output_type": "execute_result"
    }
   ],
   "source": [
    "df2['major_occ_code'].value_counts()"
   ]
  },
  {
   "cell_type": "code",
   "execution_count": 197,
   "id": "af08de14",
   "metadata": {},
   "outputs": [
    {
     "data": {
      "text/plain": [
       "53055"
      ]
     },
     "execution_count": 197,
     "metadata": {},
     "output_type": "execute_result"
    }
   ],
   "source": [
    "df2['major_occ_code'].isnull().sum()"
   ]
  },
  {
   "cell_type": "code",
   "execution_count": 199,
   "id": "53aa1ae9",
   "metadata": {
    "collapsed": true
   },
   "outputs": [
    {
     "data": {
      "text/plain": [
       "No Industry/children                     53055\n",
       "Adm support including clerical            7708\n",
       "Professional specialty                    7320\n",
       "Executive admin and managerial            6517\n",
       "Other service                             6365\n",
       "Sales                                     6112\n",
       "Precision production craft & repair       5604\n",
       "Machine operators assmblrs & inspctrs     3414\n",
       "Handlers equip cleaners etc               2180\n",
       "Transportation and material moving        2112\n",
       "Farming forestry and fishing              1686\n",
       "Technicians and related support           1604\n",
       "Protective services                        871\n",
       "Private household services                 431\n",
       "Armed Forces                                21\n",
       "Name: major_occ_code, dtype: int64"
      ]
     },
     "execution_count": 199,
     "metadata": {},
     "output_type": "execute_result"
    }
   ],
   "source": [
    "df2['major_occ_code'].fillna(value='No Industry/children', inplace=True)\n",
    "df2['major_occ_code'].value_counts()"
   ]
  },
  {
   "cell_type": "code",
   "execution_count": 200,
   "id": "db47cde8",
   "metadata": {
    "collapsed": true
   },
   "outputs": [
    {
     "data": {
      "text/plain": [
       "High school graduate                      25608\n",
       "Children                                  24831\n",
       "Some college but no degree                14637\n",
       "Bachelors degree(BA AB BS)                10403\n",
       "7th and 8th grade                          4239\n",
       "10th grade                                 3962\n",
       "11th grade                                 3611\n",
       "Masters degree(MA MS MEng MEd MSW MBA)     3471\n",
       "9th grade                                  3275\n",
       "Associates degree-occup /vocational        2857\n",
       "Associates degree-academic program         2289\n",
       "5th or 6th grade                           1735\n",
       "12th grade no diploma                      1082\n",
       "1st 2nd 3rd or 4th grade                    963\n",
       "Prof school degree (MD DDS DVM LLB JD)      937\n",
       "Doctorate degree(PhD EdD)                   651\n",
       "Less than 1st grade                         449\n",
       "Name: educ, dtype: int64"
      ]
     },
     "execution_count": 200,
     "metadata": {},
     "output_type": "execute_result"
    }
   ],
   "source": [
    "df2['educ'].value_counts()"
   ]
  },
  {
   "cell_type": "code",
   "execution_count": 201,
   "id": "3cc269a4",
   "metadata": {},
   "outputs": [
    {
     "data": {
      "text/html": [
       "<div>\n",
       "<style scoped>\n",
       "    .dataframe tbody tr th:only-of-type {\n",
       "        vertical-align: middle;\n",
       "    }\n",
       "\n",
       "    .dataframe tbody tr th {\n",
       "        vertical-align: top;\n",
       "    }\n",
       "\n",
       "    .dataframe thead th {\n",
       "        text-align: right;\n",
       "    }\n",
       "</style>\n",
       "<table border=\"1\" class=\"dataframe\">\n",
       "  <thead>\n",
       "    <tr style=\"text-align: right;\">\n",
       "      <th></th>\n",
       "      <th>no_of_nan</th>\n",
       "      <th>percent_missing</th>\n",
       "    </tr>\n",
       "  </thead>\n",
       "  <tbody>\n",
       "    <tr>\n",
       "      <th>house_1yr_ago</th>\n",
       "      <td>53322</td>\n",
       "      <td>50.782857</td>\n",
       "    </tr>\n",
       "    <tr>\n",
       "      <th>woker_type</th>\n",
       "      <td>52835</td>\n",
       "      <td>50.319048</td>\n",
       "    </tr>\n",
       "    <tr>\n",
       "      <th>labour_union</th>\n",
       "      <td>35331</td>\n",
       "      <td>33.648571</td>\n",
       "    </tr>\n",
       "    <tr>\n",
       "      <th>income_filled</th>\n",
       "      <td>32403</td>\n",
       "      <td>30.860000</td>\n",
       "    </tr>\n",
       "    <tr>\n",
       "      <th>currently_enrolled</th>\n",
       "      <td>31443</td>\n",
       "      <td>29.945714</td>\n",
       "    </tr>\n",
       "    <tr>\n",
       "      <th>full_partime_job</th>\n",
       "      <td>1392</td>\n",
       "      <td>1.325714</td>\n",
       "    </tr>\n",
       "    <tr>\n",
       "      <th>house_stat</th>\n",
       "      <td>11</td>\n",
       "      <td>0.010476</td>\n",
       "    </tr>\n",
       "    <tr>\n",
       "      <th>hisp_origin</th>\n",
       "      <td>0</td>\n",
       "      <td>0.000000</td>\n",
       "    </tr>\n",
       "    <tr>\n",
       "      <th>fed_liability</th>\n",
       "      <td>0</td>\n",
       "      <td>0.000000</td>\n",
       "    </tr>\n",
       "    <tr>\n",
       "      <th>citizenship</th>\n",
       "      <td>0</td>\n",
       "      <td>0.000000</td>\n",
       "    </tr>\n",
       "    <tr>\n",
       "      <th>marriage_status</th>\n",
       "      <td>0</td>\n",
       "      <td>0.000000</td>\n",
       "    </tr>\n",
       "    <tr>\n",
       "      <th>house_summary</th>\n",
       "      <td>0</td>\n",
       "      <td>0.000000</td>\n",
       "    </tr>\n",
       "    <tr>\n",
       "      <th>gender</th>\n",
       "      <td>0</td>\n",
       "      <td>0.000000</td>\n",
       "    </tr>\n",
       "    <tr>\n",
       "      <th>race</th>\n",
       "      <td>0</td>\n",
       "      <td>0.000000</td>\n",
       "    </tr>\n",
       "    <tr>\n",
       "      <th>mother_country</th>\n",
       "      <td>0</td>\n",
       "      <td>0.000000</td>\n",
       "    </tr>\n",
       "    <tr>\n",
       "      <th>major_occ_code</th>\n",
       "      <td>0</td>\n",
       "      <td>0.000000</td>\n",
       "    </tr>\n",
       "    <tr>\n",
       "      <th>self_country</th>\n",
       "      <td>0</td>\n",
       "      <td>0.000000</td>\n",
       "    </tr>\n",
       "    <tr>\n",
       "      <th>major_ind_code</th>\n",
       "      <td>0</td>\n",
       "      <td>0.000000</td>\n",
       "    </tr>\n",
       "    <tr>\n",
       "      <th>educ</th>\n",
       "      <td>0</td>\n",
       "      <td>0.000000</td>\n",
       "    </tr>\n",
       "    <tr>\n",
       "      <th>father_country</th>\n",
       "      <td>0</td>\n",
       "      <td>0.000000</td>\n",
       "    </tr>\n",
       "    <tr>\n",
       "      <th>income</th>\n",
       "      <td>0</td>\n",
       "      <td>0.000000</td>\n",
       "    </tr>\n",
       "  </tbody>\n",
       "</table>\n",
       "</div>"
      ],
      "text/plain": [
       "                    no_of_nan  percent_missing\n",
       "house_1yr_ago           53322        50.782857\n",
       "woker_type              52835        50.319048\n",
       "labour_union            35331        33.648571\n",
       "income_filled           32403        30.860000\n",
       "currently_enrolled      31443        29.945714\n",
       "full_partime_job         1392         1.325714\n",
       "house_stat                 11         0.010476\n",
       "hisp_origin                 0         0.000000\n",
       "fed_liability               0         0.000000\n",
       "citizenship                 0         0.000000\n",
       "marriage_status             0         0.000000\n",
       "house_summary               0         0.000000\n",
       "gender                      0         0.000000\n",
       "race                        0         0.000000\n",
       "mother_country              0         0.000000\n",
       "major_occ_code              0         0.000000\n",
       "self_country                0         0.000000\n",
       "major_ind_code              0         0.000000\n",
       "educ                        0         0.000000\n",
       "father_country              0         0.000000\n",
       "income                      0         0.000000"
      ]
     },
     "execution_count": 201,
     "metadata": {},
     "output_type": "execute_result"
    }
   ],
   "source": [
    "percent_missing = df2.isnull().sum() * 100 / len(df2)\n",
    "missing_value_df2 = pd.DataFrame({'no_of_nan':df2.isnull().sum(),\n",
    "    'percent_missing': percent_missing})\n",
    "missing_value_df2.sort_values('percent_missing', ascending=False)"
   ]
  },
  {
   "cell_type": "code",
   "execution_count": 203,
   "id": "fa64833b",
   "metadata": {
    "collapsed": true
   },
   "outputs": [
    {
     "data": {
      "text/plain": [
       "Householder                                        28081\n",
       "Child <18 never marr not in subfamily              26380\n",
       "Spouse of householder                              21940\n",
       "Nonfamily householder                              11728\n",
       "Child 18+ never marr Not in a subfamily             6320\n",
       "Secondary individual                                3224\n",
       "Other Rel 18+ ever marr not in subfamily             997\n",
       "Grandchild <18 never marr child of subfamily RP      980\n",
       "Other Rel 18+ never marr not in subfamily            929\n",
       "Child 18+ ever marr Not in a subfamily               547\n",
       "Grandchild <18 never marr not in subfamily           542\n",
       "Child under 18 of RP of unrel subfamily              390\n",
       "RP of unrelated subfamily                            388\n",
       "Other Rel 18+ ever marr RP of subfamily              386\n",
       "Child 18+ ever marr RP of subfamily                  350\n",
       "Other Rel <18 never marr child of subfamily RP       348\n",
       "Other Rel <18 never marr not in subfamily            316\n",
       "Other Rel 18+ spouse of subfamily RP                 308\n",
       "Child 18+ never marr RP of subfamily                 308\n",
       "Grandchild 18+ never marr not in subfamily           195\n",
       "In group quarters                                    108\n",
       "Child 18+ spouse of subfamily RP                      64\n",
       "Child <18 never marr RP of subfamily                  46\n",
       "Other Rel 18+ never marr RP of subfamily              45\n",
       "Spouse of RP of unrelated subfamily                   23\n",
       "Grandchild 18+ ever marr not in subfamily             19\n",
       "Child <18 ever marr not in subfamily                  14\n",
       "Grandchild 18+ ever marr RP of subfamily               5\n",
       "Grandchild 18+ spouse of subfamily RP                  3\n",
       "Child <18 ever marr RP of subfamily                    3\n",
       "Other Rel <18 never married RP of subfamily            2\n",
       "Name: house_stat, dtype: int64"
      ]
     },
     "execution_count": 203,
     "metadata": {},
     "output_type": "execute_result"
    }
   ],
   "source": [
    "df2['house_stat'].value_counts()"
   ]
  },
  {
   "cell_type": "code",
   "execution_count": 204,
   "id": "fb6187cd",
   "metadata": {
    "collapsed": true
   },
   "outputs": [
    {
     "data": {
      "text/plain": [
       "Householder                                        28081\n",
       "Child <18                                          26833\n",
       "Spouse of householder                              21940\n",
       "Nonfamily householder                              11728\n",
       "Child 18+ never marr Not in a subfamily             6320\n",
       "Secondary individual                                3224\n",
       "Other Rel 18+ ever marr not in subfamily             997\n",
       "Grandchild <18 never marr child of subfamily RP      980\n",
       "Other Rel 18+ never marr not in subfamily            929\n",
       "Child 18+ ever marr Not in a subfamily               547\n",
       "Grandchild <18 never marr not in subfamily           542\n",
       "RP of unrelated subfamily                            388\n",
       "Other Rel 18+ ever marr RP of subfamily              386\n",
       "Child 18+ ever marr RP of subfamily                  350\n",
       "Other Rel <18 never marr child of subfamily RP       348\n",
       "Other Rel <18 never marr not in subfamily            316\n",
       "Other Rel 18+ spouse of subfamily RP                 308\n",
       "Child 18+ never marr RP of subfamily                 308\n",
       "Grandchild 18+ never marr not in subfamily           195\n",
       "In group quarters                                    108\n",
       "Child 18+ spouse of subfamily RP                      64\n",
       "Other Rel 18+ never marr RP of subfamily              45\n",
       "Spouse of RP of unrelated subfamily                   23\n",
       "Grandchild 18+ ever marr not in subfamily             19\n",
       "Grandchild 18+ ever marr RP of subfamily               5\n",
       "Grandchild 18+ spouse of subfamily RP                  3\n",
       "Other Rel <18 never married RP of subfamily            2\n",
       "Name: house_stat, dtype: int64"
      ]
     },
     "execution_count": 204,
     "metadata": {},
     "output_type": "execute_result"
    }
   ],
   "source": [
    "df2['house_stat'].replace(to_replace=['Child <18 ever marr not in subfamily','Child <18 ever marr RP of subfamily','Child <18 never marr not in subfamily','Child <18 never marr RP of subfamily','Child under 18 of RP of unrel subfamily'],\n",
    "                          value='Child <18', inplace=True)\n",
    "df2['house_stat'].value_counts()"
   ]
  },
  {
   "cell_type": "code",
   "execution_count": 205,
   "id": "42e4b72e",
   "metadata": {
    "collapsed": true
   },
   "outputs": [
    {
     "data": {
      "text/plain": [
       "Householder                                        28081\n",
       "Child <18                                          26833\n",
       "Spouse of householder                              21940\n",
       "Nonfamily householder                              11728\n",
       "Child 18+                                           7589\n",
       "Secondary individual                                3224\n",
       "Other Rel 18+ ever marr not in subfamily             997\n",
       "Grandchild <18 never marr child of subfamily RP      980\n",
       "Other Rel 18+ never marr not in subfamily            929\n",
       "Grandchild <18 never marr not in subfamily           542\n",
       "RP of unrelated subfamily                            388\n",
       "Other Rel 18+ ever marr RP of subfamily              386\n",
       "Other Rel <18 never marr child of subfamily RP       348\n",
       "Other Rel <18 never marr not in subfamily            316\n",
       "Other Rel 18+ spouse of subfamily RP                 308\n",
       "Grandchild 18+ never marr not in subfamily           195\n",
       "In group quarters                                    108\n",
       "Other Rel 18+ never marr RP of subfamily              45\n",
       "Spouse of RP of unrelated subfamily                   23\n",
       "Grandchild 18+ ever marr not in subfamily             19\n",
       "Grandchild 18+ ever marr RP of subfamily               5\n",
       "Grandchild 18+ spouse of subfamily RP                  3\n",
       "Other Rel <18 never married RP of subfamily            2\n",
       "Name: house_stat, dtype: int64"
      ]
     },
     "execution_count": 205,
     "metadata": {},
     "output_type": "execute_result"
    }
   ],
   "source": [
    "df2['house_stat'].replace(to_replace=['Child 18+ ever marr Not in a subfamily','Child 18+ ever marr RP of subfamily','Child 18+ never marr Not in a subfamily','Child 18+ never marr RP of subfamily','Child 18+ spouse of subfamily RP'],\n",
    "                          value='Child 18+', inplace=True)\n",
    "df2['house_stat'].value_counts()"
   ]
  },
  {
   "cell_type": "code",
   "execution_count": 206,
   "id": "377519f7",
   "metadata": {
    "collapsed": true
   },
   "outputs": [
    {
     "data": {
      "text/plain": [
       "Householder                                       28081\n",
       "Child <18                                         26833\n",
       "Spouse of householder                             21940\n",
       "Nonfamily householder                             11728\n",
       "Child 18+                                          7589\n",
       "Secondary individual                               3224\n",
       "Grandchild <18                                     1522\n",
       "Other Rel 18+ ever marr not in subfamily            997\n",
       "Other Rel 18+ never marr not in subfamily           929\n",
       "RP of unrelated subfamily                           388\n",
       "Other Rel 18+ ever marr RP of subfamily             386\n",
       "Other Rel <18 never marr child of subfamily RP      348\n",
       "Other Rel <18 never marr not in subfamily           316\n",
       "Other Rel 18+ spouse of subfamily RP                308\n",
       "Grandchild 18+ never marr not in subfamily          195\n",
       "In group quarters                                   108\n",
       "Other Rel 18+ never marr RP of subfamily             45\n",
       "Spouse of RP of unrelated subfamily                  23\n",
       "Grandchild 18+ ever marr not in subfamily            19\n",
       "Grandchild 18+ ever marr RP of subfamily              5\n",
       "Grandchild 18+ spouse of subfamily RP                 3\n",
       "Other Rel <18 never married RP of subfamily           2\n",
       "Name: house_stat, dtype: int64"
      ]
     },
     "execution_count": 206,
     "metadata": {},
     "output_type": "execute_result"
    }
   ],
   "source": [
    "df2['house_stat'].replace(to_replace=['Grandchild <18 never marr child of subfamily RP','Grandchild <18 never marr not in subfamily'],\n",
    "                          value='Grandchild <18', inplace=True)\n",
    "df2['house_stat'].value_counts()"
   ]
  },
  {
   "cell_type": "code",
   "execution_count": 207,
   "id": "dd80d84e",
   "metadata": {
    "collapsed": true
   },
   "outputs": [
    {
     "data": {
      "text/plain": [
       "Householder                                       28081\n",
       "Child <18                                         26833\n",
       "Spouse of householder                             21940\n",
       "Nonfamily householder                             11728\n",
       "Child 18+                                          7589\n",
       "Secondary individual                               3224\n",
       "Grandchild <18                                     1522\n",
       "Other Rel 18+ ever marr not in subfamily            997\n",
       "Other Rel 18+ never marr not in subfamily           929\n",
       "RP of unrelated subfamily                           388\n",
       "Other Rel 18+ ever marr RP of subfamily             386\n",
       "Other Rel <18 never marr child of subfamily RP      348\n",
       "Other Rel <18 never marr not in subfamily           316\n",
       "Other Rel 18+ spouse of subfamily RP                308\n",
       "Grandchild 18+                                      222\n",
       "In group quarters                                   108\n",
       "Other Rel 18+ never marr RP of subfamily             45\n",
       "Spouse of RP of unrelated subfamily                  23\n",
       "Other Rel <18 never married RP of subfamily           2\n",
       "Name: house_stat, dtype: int64"
      ]
     },
     "execution_count": 207,
     "metadata": {},
     "output_type": "execute_result"
    }
   ],
   "source": [
    "df2['house_stat'].replace(to_replace=['Grandchild 18+ ever marr not in subfamily','Grandchild 18+ ever marr RP of subfamily','Grandchild 18+ never marr not in subfamily','Grandchild 18+ spouse of subfamily RP'],\n",
    "                          value='Grandchild 18+', inplace=True)\n",
    "df2['house_stat'].value_counts()"
   ]
  },
  {
   "cell_type": "code",
   "execution_count": 208,
   "id": "38875f61",
   "metadata": {
    "collapsed": true
   },
   "outputs": [
    {
     "data": {
      "text/plain": [
       "Householder                                  28081\n",
       "Child <18                                    26833\n",
       "Spouse of householder                        21940\n",
       "Nonfamily householder                        11728\n",
       "Child 18+                                     7589\n",
       "Secondary individual                          3224\n",
       "Grandchild <18                                1522\n",
       "Other Rel 18+ ever marr not in subfamily       997\n",
       "Other Rel 18+ never marr not in subfamily      929\n",
       "Other Rel <18                                  666\n",
       "RP of unrelated subfamily                      388\n",
       "Other Rel 18+ ever marr RP of subfamily        386\n",
       "Other Rel 18+ spouse of subfamily RP           308\n",
       "Grandchild 18+                                 222\n",
       "In group quarters                              108\n",
       "Other Rel 18+ never marr RP of subfamily        45\n",
       "Spouse of RP of unrelated subfamily             23\n",
       "Name: house_stat, dtype: int64"
      ]
     },
     "execution_count": 208,
     "metadata": {},
     "output_type": "execute_result"
    }
   ],
   "source": [
    "df2['house_stat'].replace(to_replace=['Other Rel <18 never marr child of subfamily RP','Other Rel <18 never marr not in subfamily','Other Rel <18 never married RP of subfamily'],\n",
    "                          value='Other Rel <18', inplace=True)\n",
    "df2['house_stat'].value_counts()"
   ]
  },
  {
   "cell_type": "code",
   "execution_count": 209,
   "id": "4e455884",
   "metadata": {
    "collapsed": true
   },
   "outputs": [
    {
     "data": {
      "text/plain": [
       "Householder                            28081\n",
       "Child <18                              26833\n",
       "Spouse of householder                  21940\n",
       "Nonfamily householder                  11728\n",
       "Child 18+                               7589\n",
       "Secondary individual                    3224\n",
       "Other Rel 18+                           2665\n",
       "Grandchild <18                          1522\n",
       "Other Rel <18                            666\n",
       "RP of unrelated subfamily                388\n",
       "Grandchild 18+                           222\n",
       "In group quarters                        108\n",
       "Spouse of RP of unrelated subfamily       23\n",
       "Name: house_stat, dtype: int64"
      ]
     },
     "execution_count": 209,
     "metadata": {},
     "output_type": "execute_result"
    }
   ],
   "source": [
    "df2['house_stat'].replace(to_replace=['Other Rel 18+ ever marr not in subfamily','Other Rel 18+ ever marr RP of subfamily','Other Rel 18+ never marr not in subfamily','Other Rel 18+ never marr RP of subfamily','Other Rel 18+ spouse of subfamily RP'],\n",
    "                          value='Other Rel 18+', inplace=True)\n",
    "df2['house_stat'].value_counts()"
   ]
  },
  {
   "cell_type": "code",
   "execution_count": 228,
   "id": "63a3aec7",
   "metadata": {
    "collapsed": true
   },
   "outputs": [
    {
     "data": {
      "text/html": [
       "<div>\n",
       "<style scoped>\n",
       "    .dataframe tbody tr th:only-of-type {\n",
       "        vertical-align: middle;\n",
       "    }\n",
       "\n",
       "    .dataframe tbody tr th {\n",
       "        vertical-align: top;\n",
       "    }\n",
       "\n",
       "    .dataframe thead th {\n",
       "        text-align: right;\n",
       "    }\n",
       "</style>\n",
       "<table border=\"1\" class=\"dataframe\">\n",
       "  <thead>\n",
       "    <tr style=\"text-align: right;\">\n",
       "      <th></th>\n",
       "      <th>currently_enrolled</th>\n",
       "      <th>race</th>\n",
       "      <th>father_country</th>\n",
       "      <th>educ</th>\n",
       "      <th>house_stat</th>\n",
       "      <th>major_ind_code</th>\n",
       "      <th>labour_union</th>\n",
       "      <th>self_country</th>\n",
       "      <th>major_occ_code</th>\n",
       "      <th>mother_country</th>\n",
       "      <th>...</th>\n",
       "      <th>gender</th>\n",
       "      <th>hisp_origin</th>\n",
       "      <th>marriage_status</th>\n",
       "      <th>house_1yr_ago</th>\n",
       "      <th>income_filled</th>\n",
       "      <th>citizenship</th>\n",
       "      <th>woker_type</th>\n",
       "      <th>fed_liability</th>\n",
       "      <th>full_partime_job</th>\n",
       "      <th>income</th>\n",
       "    </tr>\n",
       "  </thead>\n",
       "  <tbody>\n",
       "    <tr>\n",
       "      <th>19426</th>\n",
       "      <td>NaN</td>\n",
       "      <td>White</td>\n",
       "      <td>Not United-States</td>\n",
       "      <td>5th or 6th grade</td>\n",
       "      <td>NaN</td>\n",
       "      <td>Not in universe or children</td>\n",
       "      <td>no</td>\n",
       "      <td>Not United-States</td>\n",
       "      <td>No Industry/children</td>\n",
       "      <td>Not United-States</td>\n",
       "      <td>...</td>\n",
       "      <td>F</td>\n",
       "      <td>Mexican_Mexicano</td>\n",
       "      <td>Married</td>\n",
       "      <td>No</td>\n",
       "      <td>NaN</td>\n",
       "      <td>FB</td>\n",
       "      <td>NaN</td>\n",
       "      <td>Joint_both_under65</td>\n",
       "      <td>Children/Armed_Forces</td>\n",
       "      <td>Less than 50K $</td>\n",
       "    </tr>\n",
       "    <tr>\n",
       "      <th>29347</th>\n",
       "      <td>High school</td>\n",
       "      <td>Black</td>\n",
       "      <td>United-States</td>\n",
       "      <td>10th grade</td>\n",
       "      <td>NaN</td>\n",
       "      <td>Not in universe or children</td>\n",
       "      <td>NaN</td>\n",
       "      <td>United-States</td>\n",
       "      <td>No Industry/children</td>\n",
       "      <td>United-States</td>\n",
       "      <td>...</td>\n",
       "      <td>F</td>\n",
       "      <td>All_Other</td>\n",
       "      <td>Unmarried</td>\n",
       "      <td>No</td>\n",
       "      <td>No</td>\n",
       "      <td>NB_US</td>\n",
       "      <td>NaN</td>\n",
       "      <td>Nonfiler</td>\n",
       "      <td>Children/Armed_Forces</td>\n",
       "      <td>More than 50K $</td>\n",
       "    </tr>\n",
       "    <tr>\n",
       "      <th>32145</th>\n",
       "      <td>High school</td>\n",
       "      <td>White</td>\n",
       "      <td>United-States</td>\n",
       "      <td>7th and 8th grade</td>\n",
       "      <td>NaN</td>\n",
       "      <td>Agriculture</td>\n",
       "      <td>yes</td>\n",
       "      <td>United-States</td>\n",
       "      <td>Farming forestry and fishing</td>\n",
       "      <td>United-States</td>\n",
       "      <td>...</td>\n",
       "      <td>M</td>\n",
       "      <td>Mexican_Mexicano</td>\n",
       "      <td>Married</td>\n",
       "      <td>No</td>\n",
       "      <td>No</td>\n",
       "      <td>NB_US</td>\n",
       "      <td>Pvt</td>\n",
       "      <td>Nonfiler</td>\n",
       "      <td>Children/Armed_Forces</td>\n",
       "      <td>Less than 50K $</td>\n",
       "    </tr>\n",
       "    <tr>\n",
       "      <th>45926</th>\n",
       "      <td>NaN</td>\n",
       "      <td>White</td>\n",
       "      <td>United-States</td>\n",
       "      <td>High school graduate</td>\n",
       "      <td>NaN</td>\n",
       "      <td>Medical except hospital</td>\n",
       "      <td>NaN</td>\n",
       "      <td>United-States</td>\n",
       "      <td>Technicians and related support</td>\n",
       "      <td>United-States</td>\n",
       "      <td>...</td>\n",
       "      <td>F</td>\n",
       "      <td>All_Other</td>\n",
       "      <td>Unmarried</td>\n",
       "      <td>NaN</td>\n",
       "      <td>No</td>\n",
       "      <td>NB_US</td>\n",
       "      <td>Pvt</td>\n",
       "      <td>Head of household</td>\n",
       "      <td>Unemployed full-time</td>\n",
       "      <td>Less than 50K $</td>\n",
       "    </tr>\n",
       "    <tr>\n",
       "      <th>52412</th>\n",
       "      <td>High school</td>\n",
       "      <td>White</td>\n",
       "      <td>United-States</td>\n",
       "      <td>10th grade</td>\n",
       "      <td>NaN</td>\n",
       "      <td>Not in universe or children</td>\n",
       "      <td>NaN</td>\n",
       "      <td>United-States</td>\n",
       "      <td>No Industry/children</td>\n",
       "      <td>United-States</td>\n",
       "      <td>...</td>\n",
       "      <td>F</td>\n",
       "      <td>Mex_Amer</td>\n",
       "      <td>Married</td>\n",
       "      <td>Yes</td>\n",
       "      <td>No</td>\n",
       "      <td>NB_US</td>\n",
       "      <td>NaN</td>\n",
       "      <td>Nonfiler</td>\n",
       "      <td>Children/Armed_Forces</td>\n",
       "      <td>Less than 50K $</td>\n",
       "    </tr>\n",
       "    <tr>\n",
       "      <th>55706</th>\n",
       "      <td>High school</td>\n",
       "      <td>White</td>\n",
       "      <td>United-States</td>\n",
       "      <td>9th grade</td>\n",
       "      <td>NaN</td>\n",
       "      <td>Retail trade</td>\n",
       "      <td>no</td>\n",
       "      <td>United-States</td>\n",
       "      <td>Other service</td>\n",
       "      <td>United-States</td>\n",
       "      <td>...</td>\n",
       "      <td>M</td>\n",
       "      <td>Unknown</td>\n",
       "      <td>Unmarried</td>\n",
       "      <td>Yes</td>\n",
       "      <td>No</td>\n",
       "      <td>NB_US</td>\n",
       "      <td>Pvt</td>\n",
       "      <td>Nonfiler</td>\n",
       "      <td>Children/Armed_Forces</td>\n",
       "      <td>Less than 50K $</td>\n",
       "    </tr>\n",
       "    <tr>\n",
       "      <th>60483</th>\n",
       "      <td>College/University</td>\n",
       "      <td>Black</td>\n",
       "      <td>United-States</td>\n",
       "      <td>High school graduate</td>\n",
       "      <td>NaN</td>\n",
       "      <td>Not in universe or children</td>\n",
       "      <td>no</td>\n",
       "      <td>United-States</td>\n",
       "      <td>No Industry/children</td>\n",
       "      <td>United-States</td>\n",
       "      <td>...</td>\n",
       "      <td>F</td>\n",
       "      <td>All_Other</td>\n",
       "      <td>Unmarried</td>\n",
       "      <td>NaN</td>\n",
       "      <td>NaN</td>\n",
       "      <td>NB_US</td>\n",
       "      <td>NaN</td>\n",
       "      <td>Nonfiler</td>\n",
       "      <td>Not in labor force</td>\n",
       "      <td>Less than 50K $</td>\n",
       "    </tr>\n",
       "    <tr>\n",
       "      <th>71626</th>\n",
       "      <td>College/University</td>\n",
       "      <td>Black</td>\n",
       "      <td>United-States</td>\n",
       "      <td>Some college but no degree</td>\n",
       "      <td>NaN</td>\n",
       "      <td>Retail trade</td>\n",
       "      <td>no</td>\n",
       "      <td>United-States</td>\n",
       "      <td>Sales</td>\n",
       "      <td>United-States</td>\n",
       "      <td>...</td>\n",
       "      <td>F</td>\n",
       "      <td>All_Other</td>\n",
       "      <td>Unmarried</td>\n",
       "      <td>Yes</td>\n",
       "      <td>No</td>\n",
       "      <td>NB_US</td>\n",
       "      <td>Pvt</td>\n",
       "      <td>Head of household</td>\n",
       "      <td>Children/Armed_Forces</td>\n",
       "      <td>Less than 50K $</td>\n",
       "    </tr>\n",
       "    <tr>\n",
       "      <th>76671</th>\n",
       "      <td>High school</td>\n",
       "      <td>White</td>\n",
       "      <td>United-States</td>\n",
       "      <td>11th grade</td>\n",
       "      <td>NaN</td>\n",
       "      <td>Not in universe or children</td>\n",
       "      <td>yes</td>\n",
       "      <td>United-States</td>\n",
       "      <td>No Industry/children</td>\n",
       "      <td>United-States</td>\n",
       "      <td>...</td>\n",
       "      <td>F</td>\n",
       "      <td>Unknown</td>\n",
       "      <td>Unmarried</td>\n",
       "      <td>Yes</td>\n",
       "      <td>NaN</td>\n",
       "      <td>NB_US</td>\n",
       "      <td>NaN</td>\n",
       "      <td>Nonfiler</td>\n",
       "      <td>Children/Armed_Forces</td>\n",
       "      <td>Less than 50K $</td>\n",
       "    </tr>\n",
       "    <tr>\n",
       "      <th>99217</th>\n",
       "      <td>High school</td>\n",
       "      <td>Black</td>\n",
       "      <td>United-States</td>\n",
       "      <td>9th grade</td>\n",
       "      <td>NaN</td>\n",
       "      <td>Not in universe or children</td>\n",
       "      <td>NaN</td>\n",
       "      <td>United-States</td>\n",
       "      <td>No Industry/children</td>\n",
       "      <td>United-States</td>\n",
       "      <td>...</td>\n",
       "      <td>F</td>\n",
       "      <td>All_Other</td>\n",
       "      <td>Unmarried</td>\n",
       "      <td>Yes</td>\n",
       "      <td>No</td>\n",
       "      <td>NB_US</td>\n",
       "      <td>NaN</td>\n",
       "      <td>Nonfiler</td>\n",
       "      <td>Children/Armed_Forces</td>\n",
       "      <td>More than 50K $</td>\n",
       "    </tr>\n",
       "    <tr>\n",
       "      <th>101556</th>\n",
       "      <td>High school</td>\n",
       "      <td>Black</td>\n",
       "      <td>United-States</td>\n",
       "      <td>High school graduate</td>\n",
       "      <td>NaN</td>\n",
       "      <td>Not in universe or children</td>\n",
       "      <td>NaN</td>\n",
       "      <td>United-States</td>\n",
       "      <td>No Industry/children</td>\n",
       "      <td>United-States</td>\n",
       "      <td>...</td>\n",
       "      <td>F</td>\n",
       "      <td>All_Other</td>\n",
       "      <td>Unmarried</td>\n",
       "      <td>NaN</td>\n",
       "      <td>No</td>\n",
       "      <td>NB_US</td>\n",
       "      <td>NaN</td>\n",
       "      <td>Nonfiler</td>\n",
       "      <td>Not in labor force</td>\n",
       "      <td>More than 50K $</td>\n",
       "    </tr>\n",
       "  </tbody>\n",
       "</table>\n",
       "<p>11 rows × 21 columns</p>\n",
       "</div>"
      ],
      "text/plain": [
       "        currently_enrolled   race     father_country  \\\n",
       "19426                  NaN  White  Not United-States   \n",
       "29347          High school  Black      United-States   \n",
       "32145          High school  White      United-States   \n",
       "45926                  NaN  White      United-States   \n",
       "52412          High school  White      United-States   \n",
       "55706          High school  White      United-States   \n",
       "60483   College/University  Black      United-States   \n",
       "71626   College/University  Black      United-States   \n",
       "76671          High school  White      United-States   \n",
       "99217          High school  Black      United-States   \n",
       "101556         High school  Black      United-States   \n",
       "\n",
       "                              educ house_stat               major_ind_code  \\\n",
       "19426             5th or 6th grade        NaN  Not in universe or children   \n",
       "29347                   10th grade        NaN  Not in universe or children   \n",
       "32145            7th and 8th grade        NaN                  Agriculture   \n",
       "45926         High school graduate        NaN      Medical except hospital   \n",
       "52412                   10th grade        NaN  Not in universe or children   \n",
       "55706                    9th grade        NaN                 Retail trade   \n",
       "60483         High school graduate        NaN  Not in universe or children   \n",
       "71626   Some college but no degree        NaN                 Retail trade   \n",
       "76671                   11th grade        NaN  Not in universe or children   \n",
       "99217                    9th grade        NaN  Not in universe or children   \n",
       "101556        High school graduate        NaN  Not in universe or children   \n",
       "\n",
       "       labour_union       self_country                   major_occ_code  \\\n",
       "19426            no  Not United-States             No Industry/children   \n",
       "29347           NaN      United-States             No Industry/children   \n",
       "32145           yes      United-States     Farming forestry and fishing   \n",
       "45926           NaN      United-States  Technicians and related support   \n",
       "52412           NaN      United-States             No Industry/children   \n",
       "55706            no      United-States                    Other service   \n",
       "60483            no      United-States             No Industry/children   \n",
       "71626            no      United-States                            Sales   \n",
       "76671           yes      United-States             No Industry/children   \n",
       "99217           NaN      United-States             No Industry/children   \n",
       "101556          NaN      United-States             No Industry/children   \n",
       "\n",
       "           mother_country  ... gender       hisp_origin marriage_status  \\\n",
       "19426   Not United-States  ...      F  Mexican_Mexicano         Married   \n",
       "29347       United-States  ...      F         All_Other       Unmarried   \n",
       "32145       United-States  ...      M  Mexican_Mexicano         Married   \n",
       "45926       United-States  ...      F         All_Other       Unmarried   \n",
       "52412       United-States  ...      F          Mex_Amer         Married   \n",
       "55706       United-States  ...      M           Unknown       Unmarried   \n",
       "60483       United-States  ...      F         All_Other       Unmarried   \n",
       "71626       United-States  ...      F         All_Other       Unmarried   \n",
       "76671       United-States  ...      F           Unknown       Unmarried   \n",
       "99217       United-States  ...      F         All_Other       Unmarried   \n",
       "101556      United-States  ...      F         All_Other       Unmarried   \n",
       "\n",
       "       house_1yr_ago income_filled citizenship woker_type       fed_liability  \\\n",
       "19426             No           NaN          FB        NaN  Joint_both_under65   \n",
       "29347             No            No       NB_US        NaN            Nonfiler   \n",
       "32145             No            No       NB_US        Pvt            Nonfiler   \n",
       "45926            NaN            No       NB_US        Pvt   Head of household   \n",
       "52412            Yes            No       NB_US        NaN            Nonfiler   \n",
       "55706            Yes            No       NB_US        Pvt            Nonfiler   \n",
       "60483            NaN           NaN       NB_US        NaN            Nonfiler   \n",
       "71626            Yes            No       NB_US        Pvt   Head of household   \n",
       "76671            Yes           NaN       NB_US        NaN            Nonfiler   \n",
       "99217            Yes            No       NB_US        NaN            Nonfiler   \n",
       "101556           NaN            No       NB_US        NaN            Nonfiler   \n",
       "\n",
       "             full_partime_job           income  \n",
       "19426   Children/Armed_Forces  Less than 50K $  \n",
       "29347   Children/Armed_Forces  More than 50K $  \n",
       "32145   Children/Armed_Forces  Less than 50K $  \n",
       "45926    Unemployed full-time  Less than 50K $  \n",
       "52412   Children/Armed_Forces  Less than 50K $  \n",
       "55706   Children/Armed_Forces  Less than 50K $  \n",
       "60483      Not in labor force  Less than 50K $  \n",
       "71626   Children/Armed_Forces  Less than 50K $  \n",
       "76671   Children/Armed_Forces  Less than 50K $  \n",
       "99217   Children/Armed_Forces  More than 50K $  \n",
       "101556     Not in labor force  More than 50K $  \n",
       "\n",
       "[11 rows x 21 columns]"
      ]
     },
     "execution_count": 228,
     "metadata": {},
     "output_type": "execute_result"
    }
   ],
   "source": [
    "df2[df2['house_stat'].isnull()]"
   ]
  },
  {
   "cell_type": "code",
   "execution_count": 232,
   "id": "996d8a4b",
   "metadata": {
    "collapsed": true
   },
   "outputs": [
    {
     "data": {
      "text/plain": [
       "19426     18\n",
       "29347     18\n",
       "32145     18\n",
       "45926     24\n",
       "52412     18\n",
       "55706     17\n",
       "60483     21\n",
       "71626     27\n",
       "76671     18\n",
       "99217     18\n",
       "101556    23\n",
       "Name: age, dtype: int64"
      ]
     },
     "execution_count": 232,
     "metadata": {},
     "output_type": "execute_result"
    }
   ],
   "source": [
    "df_tr[df_tr['house_stat'].isnull()]['age']"
   ]
  },
  {
   "cell_type": "code",
   "execution_count": 262,
   "id": "4c92aaca",
   "metadata": {
    "scrolled": true
   },
   "outputs": [
    {
     "data": {
      "text/plain": [
       "Int64Index([71626], dtype='int64')"
      ]
     },
     "execution_count": 262,
     "metadata": {},
     "output_type": "execute_result"
    }
   ],
   "source": [
    "df_tr[(df_tr['house_stat'].isnull()) & (df_tr['age']==27)].index"
   ]
  },
  {
   "cell_type": "code",
   "execution_count": 259,
   "id": "2796740e",
   "metadata": {
    "collapsed": true
   },
   "outputs": [
    {
     "data": {
      "text/plain": [
       " Householder                                   397\n",
       " Spouse of householder                         368\n",
       " Nonfamily householder                         225\n",
       " Child 18+ never marr Not in a subfamily       172\n",
       " Secondary individual                          140\n",
       " Other Rel 18+ never marr not in subfamily      42\n",
       " RP of unrelated subfamily                      16\n",
       " Child 18+ ever marr RP of subfamily            14\n",
       " Child 18+ never marr RP of subfamily           13\n",
       " Other Rel 18+ spouse of subfamily RP           12\n",
       " Child 18+ ever marr Not in a subfamily         10\n",
       " Other Rel 18+ ever marr not in subfamily        7\n",
       " Other Rel 18+ ever marr RP of subfamily         7\n",
       " Grandchild 18+ never marr not in subfamily      6\n",
       " Child 18+ spouse of subfamily RP                5\n",
       " In group quarters                               4\n",
       " Grandchild 18+ ever marr not in subfamily       2\n",
       " Other Rel 18+ never marr RP of subfamily        1\n",
       " Grandchild 18+ ever marr RP of subfamily        1\n",
       "Name: house_stat, dtype: int64"
      ]
     },
     "execution_count": 259,
     "metadata": {},
     "output_type": "execute_result"
    }
   ],
   "source": [
    "df_tr[(df_tr['age']==27)]['house_stat'].value_counts()"
   ]
  },
  {
   "cell_type": "code",
   "execution_count": 251,
   "id": "bff442a4",
   "metadata": {},
   "outputs": [],
   "source": [
    "ind_list = [19426, 29347, 32145, 52412, 55706, 76671, 99217]"
   ]
  },
  {
   "cell_type": "code",
   "execution_count": 254,
   "id": "1c8bcbee",
   "metadata": {},
   "outputs": [],
   "source": [
    "df2['house_stat'].iloc[ind_list]='Child <18'"
   ]
  },
  {
   "cell_type": "code",
   "execution_count": 255,
   "id": "7f3bc443",
   "metadata": {
    "collapsed": true
   },
   "outputs": [
    {
     "data": {
      "text/plain": [
       "19426    Child <18\n",
       "29347    Child <18\n",
       "32145    Child <18\n",
       "52412    Child <18\n",
       "55706    Child <18\n",
       "76671    Child <18\n",
       "99217    Child <18\n",
       "Name: house_stat, dtype: object"
      ]
     },
     "execution_count": 255,
     "metadata": {},
     "output_type": "execute_result"
    }
   ],
   "source": [
    "df2['house_stat'].iloc[ind_list]"
   ]
  },
  {
   "cell_type": "code",
   "execution_count": 260,
   "id": "e6ddafb4",
   "metadata": {},
   "outputs": [],
   "source": [
    "ind_list = [45926, 60483, 101556]"
   ]
  },
  {
   "cell_type": "code",
   "execution_count": 261,
   "id": "4328db3b",
   "metadata": {
    "collapsed": true
   },
   "outputs": [
    {
     "data": {
      "text/plain": [
       "45926     Child 18+\n",
       "60483     Child 18+\n",
       "101556    Child 18+\n",
       "Name: house_stat, dtype: object"
      ]
     },
     "execution_count": 261,
     "metadata": {},
     "output_type": "execute_result"
    }
   ],
   "source": [
    "df2['house_stat'].iloc[ind_list]='Child 18+'\n",
    "df2['house_stat'].iloc[ind_list]"
   ]
  },
  {
   "cell_type": "code",
   "execution_count": 263,
   "id": "ce7a04c9",
   "metadata": {},
   "outputs": [
    {
     "data": {
      "text/plain": [
       "71626    Householder\n",
       "Name: house_stat, dtype: object"
      ]
     },
     "execution_count": 263,
     "metadata": {},
     "output_type": "execute_result"
    }
   ],
   "source": [
    "ind_list = [71626]\n",
    "df2['house_stat'].iloc[ind_list]='Householder'\n",
    "df2['house_stat'].iloc[ind_list]"
   ]
  },
  {
   "cell_type": "code",
   "execution_count": 264,
   "id": "4b7a1cdf",
   "metadata": {},
   "outputs": [
    {
     "data": {
      "text/plain": [
       "0"
      ]
     },
     "execution_count": 264,
     "metadata": {},
     "output_type": "execute_result"
    }
   ],
   "source": [
    "df2['house_stat'].isnull().sum()"
   ]
  },
  {
   "cell_type": "code",
   "execution_count": 268,
   "id": "0ae869b9",
   "metadata": {
    "collapsed": true
   },
   "outputs": [
    {
     "data": {
      "text/plain": [
       "Children/Armed_Forces                 64168\n",
       "Full-time schedules                   21083\n",
       "Not in labor force                    14051\n",
       "PT for non-econ reasons usually FT     1737\n",
       "Unemployed full-time                   1185\n",
       "PT for econ reasons usually PT          654\n",
       "Unemployed part- time                   450\n",
       "PT for econ reasons usually FT          280\n",
       "Name: full_partime_job, dtype: int64"
      ]
     },
     "execution_count": 268,
     "metadata": {},
     "output_type": "execute_result"
    }
   ],
   "source": [
    "df2['full_partime_job'].value_counts()"
   ]
  },
  {
   "cell_type": "code",
   "execution_count": 271,
   "id": "6ac6c3e9",
   "metadata": {},
   "outputs": [
    {
     "data": {
      "text/plain": [
       "0"
      ]
     },
     "execution_count": 271,
     "metadata": {},
     "output_type": "execute_result"
    }
   ],
   "source": [
    "df2['full_partime_job'].fillna(value='Children/Armed_Forces', inplace=True)\n",
    "df2['full_partime_job'].isna().sum()"
   ]
  },
  {
   "cell_type": "code",
   "execution_count": 276,
   "id": "47a66e27",
   "metadata": {},
   "outputs": [
    {
     "data": {
      "text/plain": [
       "College/University    42386\n",
       "High school           31171\n",
       "Name: currently_enrolled, dtype: int64"
      ]
     },
     "execution_count": 276,
     "metadata": {},
     "output_type": "execute_result"
    }
   ],
   "source": [
    "df2['currently_enrolled'].value_counts()"
   ]
  },
  {
   "cell_type": "code",
   "execution_count": 277,
   "id": "8bd21434",
   "metadata": {},
   "outputs": [
    {
     "data": {
      "text/plain": [
       "Children                                  8012\n",
       "High school graduate                      7940\n",
       "Some college but no degree                3937\n",
       "Bachelors degree(BA AB BS)                3278\n",
       "7th and 8th grade                         1308\n",
       "Masters degree(MA MS MEng MEd MSW MBA)    1134\n",
       "Associates degree-occup /vocational        915\n",
       "10th grade                                 876\n",
       "9th grade                                  829\n",
       "11th grade                                 787\n",
       "Associates degree-academic program         669\n",
       "5th or 6th grade                           565\n",
       "1st 2nd 3rd or 4th grade                   320\n",
       "Prof school degree (MD DDS DVM LLB JD)     281\n",
       "12th grade no diploma                      236\n",
       "Doctorate degree(PhD EdD)                  210\n",
       "Less than 1st grade                        146\n",
       "Name: educ, dtype: int64"
      ]
     },
     "execution_count": 277,
     "metadata": {},
     "output_type": "execute_result"
    }
   ],
   "source": [
    "df2[df2['currently_enrolled'].isnull()]['educ'].value_counts()"
   ]
  },
  {
   "cell_type": "code",
   "execution_count": 278,
   "id": "0ff57e35",
   "metadata": {},
   "outputs": [
    {
     "data": {
      "text/plain": [
       "College/University    42386\n",
       "Not Enrolled          31443\n",
       "High school           31171\n",
       "Name: currently_enrolled, dtype: int64"
      ]
     },
     "execution_count": 278,
     "metadata": {},
     "output_type": "execute_result"
    }
   ],
   "source": [
    "df2['currently_enrolled'].fillna(value='Not Enrolled',inplace=True)\n",
    "df2['currently_enrolled'].value_counts()"
   ]
  },
  {
   "cell_type": "code",
   "execution_count": 280,
   "id": "e69c24b0",
   "metadata": {
    "scrolled": true
   },
   "outputs": [
    {
     "data": {
      "text/plain": [
       "0"
      ]
     },
     "execution_count": 280,
     "metadata": {},
     "output_type": "execute_result"
    }
   ],
   "source": [
    "df2['currently_enrolled'].isnull().sum()"
   ]
  },
  {
   "cell_type": "code",
   "execution_count": 284,
   "id": "6293af46",
   "metadata": {},
   "outputs": [
    {
     "data": {
      "text/plain": [
       "No     56142\n",
       "Yes    16455\n",
       "Name: income_filled, dtype: int64"
      ]
     },
     "execution_count": 284,
     "metadata": {},
     "output_type": "execute_result"
    }
   ],
   "source": [
    "df2['income_filled'].value_counts()"
   ]
  },
  {
   "cell_type": "code",
   "execution_count": 283,
   "id": "479f651b",
   "metadata": {},
   "outputs": [
    {
     "data": {
      "text/html": [
       "<div>\n",
       "<style scoped>\n",
       "    .dataframe tbody tr th:only-of-type {\n",
       "        vertical-align: middle;\n",
       "    }\n",
       "\n",
       "    .dataframe tbody tr th {\n",
       "        vertical-align: top;\n",
       "    }\n",
       "\n",
       "    .dataframe thead th {\n",
       "        text-align: right;\n",
       "    }\n",
       "</style>\n",
       "<table border=\"1\" class=\"dataframe\">\n",
       "  <thead>\n",
       "    <tr style=\"text-align: right;\">\n",
       "      <th></th>\n",
       "      <th>3</th>\n",
       "      <th>4</th>\n",
       "      <th>7</th>\n",
       "      <th>8</th>\n",
       "      <th>10</th>\n",
       "    </tr>\n",
       "  </thead>\n",
       "  <tbody>\n",
       "    <tr>\n",
       "      <th>currently_enrolled</th>\n",
       "      <td>College/University</td>\n",
       "      <td>Not Enrolled</td>\n",
       "      <td>High school</td>\n",
       "      <td>College/University</td>\n",
       "      <td>High school</td>\n",
       "    </tr>\n",
       "    <tr>\n",
       "      <th>race</th>\n",
       "      <td>Amer/Indian/Aleut/Eskimo</td>\n",
       "      <td>White</td>\n",
       "      <td>White</td>\n",
       "      <td>White</td>\n",
       "      <td>Black</td>\n",
       "    </tr>\n",
       "    <tr>\n",
       "      <th>father_country</th>\n",
       "      <td>United-States</td>\n",
       "      <td>United-States</td>\n",
       "      <td>United-States</td>\n",
       "      <td>United-States</td>\n",
       "      <td>United-States</td>\n",
       "    </tr>\n",
       "    <tr>\n",
       "      <th>educ</th>\n",
       "      <td>High school graduate</td>\n",
       "      <td>High school graduate</td>\n",
       "      <td>High school graduate</td>\n",
       "      <td>10th grade</td>\n",
       "      <td>Children</td>\n",
       "    </tr>\n",
       "    <tr>\n",
       "      <th>house_stat</th>\n",
       "      <td>Householder</td>\n",
       "      <td>Householder</td>\n",
       "      <td>Spouse of householder</td>\n",
       "      <td>Householder</td>\n",
       "      <td>Child &lt;18</td>\n",
       "    </tr>\n",
       "    <tr>\n",
       "      <th>major_ind_code</th>\n",
       "      <td>Wholesale trade</td>\n",
       "      <td>Wholesale trade</td>\n",
       "      <td>Construction</td>\n",
       "      <td>Business and repair services</td>\n",
       "      <td>Not in universe or children</td>\n",
       "    </tr>\n",
       "    <tr>\n",
       "      <th>labour_union</th>\n",
       "      <td>no</td>\n",
       "      <td>no</td>\n",
       "      <td>no</td>\n",
       "      <td>no</td>\n",
       "      <td>yes</td>\n",
       "    </tr>\n",
       "    <tr>\n",
       "      <th>self_country</th>\n",
       "      <td>United-States</td>\n",
       "      <td>United-States</td>\n",
       "      <td>Not United-States</td>\n",
       "      <td>United-States</td>\n",
       "      <td>United-States</td>\n",
       "    </tr>\n",
       "    <tr>\n",
       "      <th>major_occ_code</th>\n",
       "      <td>Handlers equip cleaners etc</td>\n",
       "      <td>Executive admin and managerial</td>\n",
       "      <td>Adm support including clerical</td>\n",
       "      <td>Protective services</td>\n",
       "      <td>No Industry/children</td>\n",
       "    </tr>\n",
       "    <tr>\n",
       "      <th>mother_country</th>\n",
       "      <td>United-States</td>\n",
       "      <td>United-States</td>\n",
       "      <td>United-States</td>\n",
       "      <td>United-States</td>\n",
       "      <td>United-States</td>\n",
       "    </tr>\n",
       "    <tr>\n",
       "      <th>house_summary</th>\n",
       "      <td>Householder</td>\n",
       "      <td>Householder</td>\n",
       "      <td>Spouse</td>\n",
       "      <td>Householder</td>\n",
       "      <td>Child_U18_Unmarried</td>\n",
       "    </tr>\n",
       "    <tr>\n",
       "      <th>gender</th>\n",
       "      <td>M</td>\n",
       "      <td>F</td>\n",
       "      <td>F</td>\n",
       "      <td>M</td>\n",
       "      <td>M</td>\n",
       "    </tr>\n",
       "    <tr>\n",
       "      <th>hisp_origin</th>\n",
       "      <td>All_Other</td>\n",
       "      <td>All_Other</td>\n",
       "      <td>All_Other</td>\n",
       "      <td>All_Other</td>\n",
       "      <td>All_Other</td>\n",
       "    </tr>\n",
       "    <tr>\n",
       "      <th>marriage_status</th>\n",
       "      <td>Married</td>\n",
       "      <td>Divorced</td>\n",
       "      <td>Married</td>\n",
       "      <td>Married</td>\n",
       "      <td>Unmarried</td>\n",
       "    </tr>\n",
       "    <tr>\n",
       "      <th>house_1yr_ago</th>\n",
       "      <td>Yes</td>\n",
       "      <td>Yes</td>\n",
       "      <td>Yes</td>\n",
       "      <td>NaN</td>\n",
       "      <td>NaN</td>\n",
       "    </tr>\n",
       "    <tr>\n",
       "      <th>income_filled</th>\n",
       "      <td>NaN</td>\n",
       "      <td>NaN</td>\n",
       "      <td>NaN</td>\n",
       "      <td>NaN</td>\n",
       "      <td>NaN</td>\n",
       "    </tr>\n",
       "    <tr>\n",
       "      <th>citizenship</th>\n",
       "      <td>NB_US</td>\n",
       "      <td>NB_US</td>\n",
       "      <td>NB_US_Parents</td>\n",
       "      <td>NB_US</td>\n",
       "      <td>NB_US</td>\n",
       "    </tr>\n",
       "    <tr>\n",
       "      <th>woker_type</th>\n",
       "      <td>Pvt</td>\n",
       "      <td>Pvt</td>\n",
       "      <td>Pvt</td>\n",
       "      <td>Pvt</td>\n",
       "      <td>NaN</td>\n",
       "    </tr>\n",
       "    <tr>\n",
       "      <th>fed_liability</th>\n",
       "      <td>Joint_both_under65</td>\n",
       "      <td>Single</td>\n",
       "      <td>Joint_both_under65</td>\n",
       "      <td>Nonfiler</td>\n",
       "      <td>Nonfiler</td>\n",
       "    </tr>\n",
       "    <tr>\n",
       "      <th>full_partime_job</th>\n",
       "      <td>Children/Armed_Forces</td>\n",
       "      <td>Children/Armed_Forces</td>\n",
       "      <td>Children/Armed_Forces</td>\n",
       "      <td>Full-time schedules</td>\n",
       "      <td>Children/Armed_Forces</td>\n",
       "    </tr>\n",
       "    <tr>\n",
       "      <th>income</th>\n",
       "      <td>More than 50K $</td>\n",
       "      <td>More than 50K $</td>\n",
       "      <td>More than 50K $</td>\n",
       "      <td>More than 50K $</td>\n",
       "      <td>More than 50K $</td>\n",
       "    </tr>\n",
       "  </tbody>\n",
       "</table>\n",
       "</div>"
      ],
      "text/plain": [
       "                                              3   \\\n",
       "currently_enrolled            College/University   \n",
       "race                    Amer/Indian/Aleut/Eskimo   \n",
       "father_country                     United-States   \n",
       "educ                        High school graduate   \n",
       "house_stat                           Householder   \n",
       "major_ind_code                   Wholesale trade   \n",
       "labour_union                                  no   \n",
       "self_country                       United-States   \n",
       "major_occ_code      Handlers equip cleaners etc    \n",
       "mother_country                     United-States   \n",
       "house_summary                        Householder   \n",
       "gender                                         M   \n",
       "hisp_origin                            All_Other   \n",
       "marriage_status                          Married   \n",
       "house_1yr_ago                                Yes   \n",
       "income_filled                                NaN   \n",
       "citizenship                                NB_US   \n",
       "woker_type                                   Pvt   \n",
       "fed_liability                 Joint_both_under65   \n",
       "full_partime_job           Children/Armed_Forces   \n",
       "income                           More than 50K $   \n",
       "\n",
       "                                                4   \\\n",
       "currently_enrolled                    Not Enrolled   \n",
       "race                                         White   \n",
       "father_country                       United-States   \n",
       "educ                          High school graduate   \n",
       "house_stat                             Householder   \n",
       "major_ind_code                     Wholesale trade   \n",
       "labour_union                                    no   \n",
       "self_country                         United-States   \n",
       "major_occ_code      Executive admin and managerial   \n",
       "mother_country                       United-States   \n",
       "house_summary                          Householder   \n",
       "gender                                           F   \n",
       "hisp_origin                              All_Other   \n",
       "marriage_status                           Divorced   \n",
       "house_1yr_ago                                  Yes   \n",
       "income_filled                                  NaN   \n",
       "citizenship                                  NB_US   \n",
       "woker_type                                     Pvt   \n",
       "fed_liability                               Single   \n",
       "full_partime_job             Children/Armed_Forces   \n",
       "income                             More than 50K $   \n",
       "\n",
       "                                                7   \\\n",
       "currently_enrolled                     High school   \n",
       "race                                         White   \n",
       "father_country                       United-States   \n",
       "educ                          High school graduate   \n",
       "house_stat                   Spouse of householder   \n",
       "major_ind_code                        Construction   \n",
       "labour_union                                    no   \n",
       "self_country                     Not United-States   \n",
       "major_occ_code      Adm support including clerical   \n",
       "mother_country                       United-States   \n",
       "house_summary                               Spouse   \n",
       "gender                                           F   \n",
       "hisp_origin                              All_Other   \n",
       "marriage_status                            Married   \n",
       "house_1yr_ago                                  Yes   \n",
       "income_filled                                  NaN   \n",
       "citizenship                          NB_US_Parents   \n",
       "woker_type                                     Pvt   \n",
       "fed_liability                   Joint_both_under65   \n",
       "full_partime_job             Children/Armed_Forces   \n",
       "income                             More than 50K $   \n",
       "\n",
       "                                              8                            10  \n",
       "currently_enrolled            College/University                  High school  \n",
       "race                                       White                        Black  \n",
       "father_country                     United-States                United-States  \n",
       "educ                                  10th grade                     Children  \n",
       "house_stat                           Householder                    Child <18  \n",
       "major_ind_code      Business and repair services  Not in universe or children  \n",
       "labour_union                                  no                          yes  \n",
       "self_country                       United-States                United-States  \n",
       "major_occ_code               Protective services         No Industry/children  \n",
       "mother_country                     United-States                United-States  \n",
       "house_summary                        Householder          Child_U18_Unmarried  \n",
       "gender                                         M                            M  \n",
       "hisp_origin                            All_Other                    All_Other  \n",
       "marriage_status                          Married                    Unmarried  \n",
       "house_1yr_ago                                NaN                          NaN  \n",
       "income_filled                                NaN                          NaN  \n",
       "citizenship                                NB_US                        NB_US  \n",
       "woker_type                                   Pvt                          NaN  \n",
       "fed_liability                           Nonfiler                     Nonfiler  \n",
       "full_partime_job             Full-time schedules        Children/Armed_Forces  \n",
       "income                           More than 50K $              More than 50K $  "
      ]
     },
     "execution_count": 283,
     "metadata": {},
     "output_type": "execute_result"
    }
   ],
   "source": [
    "df2[df2['income_filled'].isnull()].head().T"
   ]
  },
  {
   "cell_type": "code",
   "execution_count": 290,
   "id": "af0e9f6a",
   "metadata": {},
   "outputs": [
    {
     "data": {
      "text/plain": [
       "No     18984\n",
       "Yes     5423\n",
       "Name: income_filled, dtype: int64"
      ]
     },
     "execution_count": 290,
     "metadata": {},
     "output_type": "execute_result"
    }
   ],
   "source": [
    "df2[df2['fed_liability']=='Joint_both_under65']['income_filled'].value_counts()"
   ]
  },
  {
   "cell_type": "code",
   "execution_count": 288,
   "id": "1f6681b8",
   "metadata": {},
   "outputs": [
    {
     "data": {
      "text/plain": [
       "32403"
      ]
     },
     "execution_count": 288,
     "metadata": {},
     "output_type": "execute_result"
    }
   ],
   "source": [
    "df2['income_filled'].isnull().sum()"
   ]
  },
  {
   "cell_type": "code",
   "execution_count": 299,
   "id": "65fe7f42",
   "metadata": {},
   "outputs": [
    {
     "data": {
      "text/plain": [
       "0"
      ]
     },
     "execution_count": 299,
     "metadata": {},
     "output_type": "execute_result"
    }
   ],
   "source": [
    "df2['income_filled'].fillna(value='No',inplace=True)\n",
    "df2['income_filled'].isnull().sum()"
   ]
  },
  {
   "cell_type": "code",
   "execution_count": 303,
   "id": "6d0590e3",
   "metadata": {},
   "outputs": [
    {
     "data": {
      "text/plain": [
       "0"
      ]
     },
     "execution_count": 303,
     "metadata": {},
     "output_type": "execute_result"
    }
   ],
   "source": [
    "df2['labour_union'].fillna(value='no',inplace=True)\n",
    "df2['labour_union'].isnull().sum()"
   ]
  },
  {
   "cell_type": "code",
   "execution_count": 304,
   "id": "662824bd",
   "metadata": {},
   "outputs": [
    {
     "data": {
      "text/plain": [
       "Pvt                 37967\n",
       "Self_emp_not_inc     4430\n",
       "Loc_Govt             4048\n",
       "St_Govt              2186\n",
       "Self_emp_inc         1693\n",
       "Fed_Govt             1538\n",
       "Never worked          220\n",
       "Without pay            83\n",
       "Name: woker_type, dtype: int64"
      ]
     },
     "execution_count": 304,
     "metadata": {},
     "output_type": "execute_result"
    }
   ],
   "source": [
    "df2['woker_type'].value_counts()"
   ]
  },
  {
   "cell_type": "code",
   "execution_count": 305,
   "id": "e24886d8",
   "metadata": {},
   "outputs": [
    {
     "data": {
      "text/plain": [
       "0"
      ]
     },
     "execution_count": 305,
     "metadata": {},
     "output_type": "execute_result"
    }
   ],
   "source": [
    "df2['woker_type'].fillna(value='Pvt',inplace=True)\n",
    "df2['woker_type'].isnull().sum()"
   ]
  },
  {
   "cell_type": "code",
   "execution_count": 306,
   "id": "16c6475c",
   "metadata": {},
   "outputs": [
    {
     "data": {
      "text/plain": [
       "Yes    43444\n",
       "No      8234\n",
       "Name: house_1yr_ago, dtype: int64"
      ]
     },
     "execution_count": 306,
     "metadata": {},
     "output_type": "execute_result"
    }
   ],
   "source": [
    "df2['house_1yr_ago'].value_counts()"
   ]
  },
  {
   "cell_type": "code",
   "execution_count": 307,
   "id": "5a8b5865",
   "metadata": {},
   "outputs": [
    {
     "data": {
      "text/plain": [
       "0"
      ]
     },
     "execution_count": 307,
     "metadata": {},
     "output_type": "execute_result"
    }
   ],
   "source": [
    "df2['house_1yr_ago'].fillna(value='Yes',inplace=True)\n",
    "df2['house_1yr_ago'].isnull().sum()"
   ]
  },
  {
   "cell_type": "code",
   "execution_count": 308,
   "id": "3f5840d3",
   "metadata": {},
   "outputs": [
    {
     "data": {
      "text/html": [
       "<div>\n",
       "<style scoped>\n",
       "    .dataframe tbody tr th:only-of-type {\n",
       "        vertical-align: middle;\n",
       "    }\n",
       "\n",
       "    .dataframe tbody tr th {\n",
       "        vertical-align: top;\n",
       "    }\n",
       "\n",
       "    .dataframe thead th {\n",
       "        text-align: right;\n",
       "    }\n",
       "</style>\n",
       "<table border=\"1\" class=\"dataframe\">\n",
       "  <thead>\n",
       "    <tr style=\"text-align: right;\">\n",
       "      <th></th>\n",
       "      <th>no_of_nan</th>\n",
       "      <th>percent_missing</th>\n",
       "    </tr>\n",
       "  </thead>\n",
       "  <tbody>\n",
       "    <tr>\n",
       "      <th>currently_enrolled</th>\n",
       "      <td>0</td>\n",
       "      <td>0.0</td>\n",
       "    </tr>\n",
       "    <tr>\n",
       "      <th>gender</th>\n",
       "      <td>0</td>\n",
       "      <td>0.0</td>\n",
       "    </tr>\n",
       "    <tr>\n",
       "      <th>full_partime_job</th>\n",
       "      <td>0</td>\n",
       "      <td>0.0</td>\n",
       "    </tr>\n",
       "    <tr>\n",
       "      <th>fed_liability</th>\n",
       "      <td>0</td>\n",
       "      <td>0.0</td>\n",
       "    </tr>\n",
       "    <tr>\n",
       "      <th>woker_type</th>\n",
       "      <td>0</td>\n",
       "      <td>0.0</td>\n",
       "    </tr>\n",
       "    <tr>\n",
       "      <th>citizenship</th>\n",
       "      <td>0</td>\n",
       "      <td>0.0</td>\n",
       "    </tr>\n",
       "    <tr>\n",
       "      <th>income_filled</th>\n",
       "      <td>0</td>\n",
       "      <td>0.0</td>\n",
       "    </tr>\n",
       "    <tr>\n",
       "      <th>house_1yr_ago</th>\n",
       "      <td>0</td>\n",
       "      <td>0.0</td>\n",
       "    </tr>\n",
       "    <tr>\n",
       "      <th>marriage_status</th>\n",
       "      <td>0</td>\n",
       "      <td>0.0</td>\n",
       "    </tr>\n",
       "    <tr>\n",
       "      <th>hisp_origin</th>\n",
       "      <td>0</td>\n",
       "      <td>0.0</td>\n",
       "    </tr>\n",
       "    <tr>\n",
       "      <th>house_summary</th>\n",
       "      <td>0</td>\n",
       "      <td>0.0</td>\n",
       "    </tr>\n",
       "    <tr>\n",
       "      <th>race</th>\n",
       "      <td>0</td>\n",
       "      <td>0.0</td>\n",
       "    </tr>\n",
       "    <tr>\n",
       "      <th>mother_country</th>\n",
       "      <td>0</td>\n",
       "      <td>0.0</td>\n",
       "    </tr>\n",
       "    <tr>\n",
       "      <th>major_occ_code</th>\n",
       "      <td>0</td>\n",
       "      <td>0.0</td>\n",
       "    </tr>\n",
       "    <tr>\n",
       "      <th>self_country</th>\n",
       "      <td>0</td>\n",
       "      <td>0.0</td>\n",
       "    </tr>\n",
       "    <tr>\n",
       "      <th>labour_union</th>\n",
       "      <td>0</td>\n",
       "      <td>0.0</td>\n",
       "    </tr>\n",
       "    <tr>\n",
       "      <th>major_ind_code</th>\n",
       "      <td>0</td>\n",
       "      <td>0.0</td>\n",
       "    </tr>\n",
       "    <tr>\n",
       "      <th>house_stat</th>\n",
       "      <td>0</td>\n",
       "      <td>0.0</td>\n",
       "    </tr>\n",
       "    <tr>\n",
       "      <th>educ</th>\n",
       "      <td>0</td>\n",
       "      <td>0.0</td>\n",
       "    </tr>\n",
       "    <tr>\n",
       "      <th>father_country</th>\n",
       "      <td>0</td>\n",
       "      <td>0.0</td>\n",
       "    </tr>\n",
       "    <tr>\n",
       "      <th>income</th>\n",
       "      <td>0</td>\n",
       "      <td>0.0</td>\n",
       "    </tr>\n",
       "  </tbody>\n",
       "</table>\n",
       "</div>"
      ],
      "text/plain": [
       "                    no_of_nan  percent_missing\n",
       "currently_enrolled          0              0.0\n",
       "gender                      0              0.0\n",
       "full_partime_job            0              0.0\n",
       "fed_liability               0              0.0\n",
       "woker_type                  0              0.0\n",
       "citizenship                 0              0.0\n",
       "income_filled               0              0.0\n",
       "house_1yr_ago               0              0.0\n",
       "marriage_status             0              0.0\n",
       "hisp_origin                 0              0.0\n",
       "house_summary               0              0.0\n",
       "race                        0              0.0\n",
       "mother_country              0              0.0\n",
       "major_occ_code              0              0.0\n",
       "self_country                0              0.0\n",
       "labour_union                0              0.0\n",
       "major_ind_code              0              0.0\n",
       "house_stat                  0              0.0\n",
       "educ                        0              0.0\n",
       "father_country              0              0.0\n",
       "income                      0              0.0"
      ]
     },
     "execution_count": 308,
     "metadata": {},
     "output_type": "execute_result"
    }
   ],
   "source": [
    "percent_missing = df2.isnull().sum() * 100 / len(df2)\n",
    "missing_value_df2 = pd.DataFrame({'no_of_nan':df2.isnull().sum(),\n",
    "    'percent_missing': percent_missing})\n",
    "missing_value_df2.sort_values('percent_missing', ascending=False)"
   ]
  },
  {
   "cell_type": "code",
   "execution_count": 313,
   "id": "56fab924",
   "metadata": {},
   "outputs": [
    {
     "data": {
      "text/plain": [
       "Index(['ID', 'year_of_poll', 'own_self_emp', 'veteran benefits',\n",
       "       'currently_enrolled', 'race', 'father_country', 'educ', 'house_stat',\n",
       "       'major_ind_code', 'labour_union', 'self_country', 'major_occ_code',\n",
       "       'age', 'mother_country', 'house_summary', 'gender', 'hisp_origin',\n",
       "       'gains', 'dividends', 'marriage_status', 'losses', 'employer_of',\n",
       "       'house_1yr_ago', 'income_filled', 'weeks_worked', 'under18',\n",
       "       'hourly_wage', 'unemp_reason', 'citizenship', 'woker_type',\n",
       "       'fed_liability', 'full_partime_job', 'income'],\n",
       "      dtype='object')"
      ]
     },
     "execution_count": 313,
     "metadata": {},
     "output_type": "execute_result"
    }
   ],
   "source": [
    "df_tr.columns"
   ]
  },
  {
   "cell_type": "code",
   "execution_count": 314,
   "id": "74309633",
   "metadata": {},
   "outputs": [
    {
     "data": {
      "text/plain": [
       "Index(['year_of_poll', 'own_self_emp', 'veteran benefits',\n",
       "       'currently_enrolled', 'race', 'father_country', 'educ', 'house_stat',\n",
       "       'major_ind_code', 'labour_union', 'self_country', 'major_occ_code',\n",
       "       'age', 'mother_country', 'house_summary', 'gender', 'hisp_origin',\n",
       "       'gains', 'dividends', 'marriage_status', 'losses', 'employer_of',\n",
       "       'house_1yr_ago', 'income_filled', 'weeks_worked', 'under18',\n",
       "       'hourly_wage', 'unemp_reason', 'citizenship', 'woker_type',\n",
       "       'fed_liability', 'full_partime_job', 'income'],\n",
       "      dtype='object')"
      ]
     },
     "execution_count": 314,
     "metadata": {},
     "output_type": "execute_result"
    }
   ],
   "source": [
    " df1.columns"
   ]
  },
  {
   "cell_type": "code",
   "execution_count": 318,
   "id": "cc8eadb3",
   "metadata": {},
   "outputs": [
    {
     "data": {
      "text/plain": [
       "(105000, 21)"
      ]
     },
     "execution_count": 318,
     "metadata": {},
     "output_type": "execute_result"
    }
   ],
   "source": [
    "df2.shape"
   ]
  },
  {
   "cell_type": "code",
   "execution_count": 320,
   "id": "e8d0613d",
   "metadata": {},
   "outputs": [
    {
     "data": {
      "text/plain": [
       "(105000, 10)"
      ]
     },
     "execution_count": 320,
     "metadata": {},
     "output_type": "execute_result"
    }
   ],
   "source": [
    "df1[nums].shape"
   ]
  },
  {
   "cell_type": "code",
   "execution_count": 321,
   "id": "3d325dad",
   "metadata": {},
   "outputs": [
    {
     "data": {
      "text/plain": [
       "(105000, 34)"
      ]
     },
     "execution_count": 321,
     "metadata": {},
     "output_type": "execute_result"
    }
   ],
   "source": [
    "df_tr.shape"
   ]
  },
  {
   "cell_type": "code",
   "execution_count": 333,
   "id": "014123df",
   "metadata": {},
   "outputs": [
    {
     "data": {
      "text/html": [
       "<div>\n",
       "<style scoped>\n",
       "    .dataframe tbody tr th:only-of-type {\n",
       "        vertical-align: middle;\n",
       "    }\n",
       "\n",
       "    .dataframe tbody tr th {\n",
       "        vertical-align: top;\n",
       "    }\n",
       "\n",
       "    .dataframe thead th {\n",
       "        text-align: right;\n",
       "    }\n",
       "</style>\n",
       "<table border=\"1\" class=\"dataframe\">\n",
       "  <thead>\n",
       "    <tr style=\"text-align: right;\">\n",
       "      <th></th>\n",
       "      <th>year_of_poll</th>\n",
       "      <th>own_self_emp</th>\n",
       "      <th>veteran benefits</th>\n",
       "      <th>age</th>\n",
       "      <th>gains</th>\n",
       "      <th>dividends</th>\n",
       "      <th>losses</th>\n",
       "      <th>employer_of</th>\n",
       "      <th>weeks_worked</th>\n",
       "      <th>hourly_wage</th>\n",
       "    </tr>\n",
       "  </thead>\n",
       "  <tbody>\n",
       "    <tr>\n",
       "      <th>0</th>\n",
       "      <td>2004</td>\n",
       "      <td>0</td>\n",
       "      <td>2</td>\n",
       "      <td>42</td>\n",
       "      <td>0.0</td>\n",
       "      <td>0.0</td>\n",
       "      <td>0.0</td>\n",
       "      <td>1</td>\n",
       "      <td>47</td>\n",
       "      <td>0.0</td>\n",
       "    </tr>\n",
       "    <tr>\n",
       "      <th>1</th>\n",
       "      <td>2005</td>\n",
       "      <td>0</td>\n",
       "      <td>0</td>\n",
       "      <td>10</td>\n",
       "      <td>0.0</td>\n",
       "      <td>0.0</td>\n",
       "      <td>0.0</td>\n",
       "      <td>0</td>\n",
       "      <td>0</td>\n",
       "      <td>0.0</td>\n",
       "    </tr>\n",
       "    <tr>\n",
       "      <th>2</th>\n",
       "      <td>2004</td>\n",
       "      <td>0</td>\n",
       "      <td>2</td>\n",
       "      <td>46</td>\n",
       "      <td>0.0</td>\n",
       "      <td>0.0</td>\n",
       "      <td>0.0</td>\n",
       "      <td>6</td>\n",
       "      <td>47</td>\n",
       "      <td>0.0</td>\n",
       "    </tr>\n",
       "    <tr>\n",
       "      <th>3</th>\n",
       "      <td>2004</td>\n",
       "      <td>0</td>\n",
       "      <td>2</td>\n",
       "      <td>35</td>\n",
       "      <td>0.0</td>\n",
       "      <td>0.0</td>\n",
       "      <td>0.0</td>\n",
       "      <td>2</td>\n",
       "      <td>47</td>\n",
       "      <td>0.0</td>\n",
       "    </tr>\n",
       "    <tr>\n",
       "      <th>4</th>\n",
       "      <td>2004</td>\n",
       "      <td>0</td>\n",
       "      <td>2</td>\n",
       "      <td>61</td>\n",
       "      <td>0.0</td>\n",
       "      <td>0.0</td>\n",
       "      <td>0.0</td>\n",
       "      <td>3</td>\n",
       "      <td>47</td>\n",
       "      <td>0.0</td>\n",
       "    </tr>\n",
       "  </tbody>\n",
       "</table>\n",
       "</div>"
      ],
      "text/plain": [
       "   year_of_poll  own_self_emp  veteran benefits  age  gains  dividends  \\\n",
       "0          2004             0                 2   42    0.0        0.0   \n",
       "1          2005             0                 0   10    0.0        0.0   \n",
       "2          2004             0                 2   46    0.0        0.0   \n",
       "3          2004             0                 2   35    0.0        0.0   \n",
       "4          2004             0                 2   61    0.0        0.0   \n",
       "\n",
       "   losses  employer_of  weeks_worked  hourly_wage  \n",
       "0     0.0            1            47          0.0  \n",
       "1     0.0            0             0          0.0  \n",
       "2     0.0            6            47          0.0  \n",
       "3     0.0            2            47          0.0  \n",
       "4     0.0            3            47          0.0  "
      ]
     },
     "execution_count": 333,
     "metadata": {},
     "output_type": "execute_result"
    }
   ],
   "source": [
    "numdata = df1[nums].copy()\n",
    "numdata.head()"
   ]
  },
  {
   "cell_type": "code",
   "execution_count": 342,
   "id": "384865d8",
   "metadata": {},
   "outputs": [
    {
     "data": {
      "text/plain": [
       "RangeIndex(start=0, stop=31, step=1)"
      ]
     },
     "execution_count": 342,
     "metadata": {},
     "output_type": "execute_result"
    }
   ],
   "source": [
    "# df1.merge(df2[['Grade', 'Name']], on = 'Name', how = 'left')\n",
    "train = pd.concat([numdata, df2], ignore_index=True, sort=False, axis=1)\n",
    "train.columns"
   ]
  },
  {
   "cell_type": "code",
   "execution_count": 345,
   "id": "2025efff",
   "metadata": {},
   "outputs": [
    {
     "data": {
      "text/html": [
       "<div>\n",
       "<style scoped>\n",
       "    .dataframe tbody tr th:only-of-type {\n",
       "        vertical-align: middle;\n",
       "    }\n",
       "\n",
       "    .dataframe tbody tr th {\n",
       "        vertical-align: top;\n",
       "    }\n",
       "\n",
       "    .dataframe thead th {\n",
       "        text-align: right;\n",
       "    }\n",
       "</style>\n",
       "<table border=\"1\" class=\"dataframe\">\n",
       "  <thead>\n",
       "    <tr style=\"text-align: right;\">\n",
       "      <th></th>\n",
       "      <th>0</th>\n",
       "      <th>1</th>\n",
       "      <th>2</th>\n",
       "      <th>3</th>\n",
       "      <th>4</th>\n",
       "    </tr>\n",
       "  </thead>\n",
       "  <tbody>\n",
       "    <tr>\n",
       "      <th>currently_enrolled</th>\n",
       "      <td>High school</td>\n",
       "      <td>College/University</td>\n",
       "      <td>NaN</td>\n",
       "      <td>College/University</td>\n",
       "      <td>NaN</td>\n",
       "    </tr>\n",
       "    <tr>\n",
       "      <th>race</th>\n",
       "      <td>White</td>\n",
       "      <td>White</td>\n",
       "      <td>White</td>\n",
       "      <td>Amer/Indian/Aleut/Eskimo</td>\n",
       "      <td>White</td>\n",
       "    </tr>\n",
       "    <tr>\n",
       "      <th>father_country</th>\n",
       "      <td>United-States</td>\n",
       "      <td>Japan</td>\n",
       "      <td>United-States</td>\n",
       "      <td>United-States</td>\n",
       "      <td>United-States</td>\n",
       "    </tr>\n",
       "    <tr>\n",
       "      <th>educ</th>\n",
       "      <td>Associates degree-academic program</td>\n",
       "      <td>Children</td>\n",
       "      <td>Some college but no degree</td>\n",
       "      <td>High school graduate</td>\n",
       "      <td>High school graduate</td>\n",
       "    </tr>\n",
       "    <tr>\n",
       "      <th>house_stat</th>\n",
       "      <td>Householder</td>\n",
       "      <td>Child &lt;18 never marr not in subfamily</td>\n",
       "      <td>Secondary individual</td>\n",
       "      <td>Householder</td>\n",
       "      <td>Householder</td>\n",
       "    </tr>\n",
       "    <tr>\n",
       "      <th>major_ind_code</th>\n",
       "      <td>Business and repair services</td>\n",
       "      <td>Not in universe or children</td>\n",
       "      <td>Manufacturing-durable goods</td>\n",
       "      <td>Wholesale trade</td>\n",
       "      <td>Wholesale trade</td>\n",
       "    </tr>\n",
       "    <tr>\n",
       "      <th>labour_union</th>\n",
       "      <td>no</td>\n",
       "      <td>NaN</td>\n",
       "      <td>NaN</td>\n",
       "      <td>no</td>\n",
       "      <td>no</td>\n",
       "    </tr>\n",
       "    <tr>\n",
       "      <th>self_country</th>\n",
       "      <td>United-States</td>\n",
       "      <td>United-States</td>\n",
       "      <td>United-States</td>\n",
       "      <td>United-States</td>\n",
       "      <td>United-States</td>\n",
       "    </tr>\n",
       "    <tr>\n",
       "      <th>major_occ_code</th>\n",
       "      <td>Protective services</td>\n",
       "      <td>NaN</td>\n",
       "      <td>Machine operators assmblrs &amp; inspctrs</td>\n",
       "      <td>Handlers equip cleaners etc</td>\n",
       "      <td>Executive admin and managerial</td>\n",
       "    </tr>\n",
       "    <tr>\n",
       "      <th>mother_country</th>\n",
       "      <td>United-States</td>\n",
       "      <td>United-States</td>\n",
       "      <td>United-States</td>\n",
       "      <td>United-States</td>\n",
       "      <td>United-States</td>\n",
       "    </tr>\n",
       "    <tr>\n",
       "      <th>house_summary</th>\n",
       "      <td>Householder</td>\n",
       "      <td>Child_U18_Unmarried</td>\n",
       "      <td>Non_Relative</td>\n",
       "      <td>Householder</td>\n",
       "      <td>Householder</td>\n",
       "    </tr>\n",
       "    <tr>\n",
       "      <th>gender</th>\n",
       "      <td>M</td>\n",
       "      <td>M</td>\n",
       "      <td>M</td>\n",
       "      <td>M</td>\n",
       "      <td>F</td>\n",
       "    </tr>\n",
       "    <tr>\n",
       "      <th>hisp_origin</th>\n",
       "      <td>All_Other</td>\n",
       "      <td>Mex_Amer</td>\n",
       "      <td>All_Other</td>\n",
       "      <td>All_Other</td>\n",
       "      <td>All_Other</td>\n",
       "    </tr>\n",
       "    <tr>\n",
       "      <th>marriage_status</th>\n",
       "      <td>Married_civilian_Sp_Pr</td>\n",
       "      <td>Unmarried</td>\n",
       "      <td>Divorced</td>\n",
       "      <td>Married_civilian_Sp_Pr</td>\n",
       "      <td>Divorced</td>\n",
       "    </tr>\n",
       "    <tr>\n",
       "      <th>house_1yr_ago</th>\n",
       "      <td>No</td>\n",
       "      <td>NaN</td>\n",
       "      <td>No</td>\n",
       "      <td>Yes</td>\n",
       "      <td>Yes</td>\n",
       "    </tr>\n",
       "    <tr>\n",
       "      <th>income_filled</th>\n",
       "      <td>No</td>\n",
       "      <td>No</td>\n",
       "      <td>Yes</td>\n",
       "      <td>NaN</td>\n",
       "      <td>NaN</td>\n",
       "    </tr>\n",
       "    <tr>\n",
       "      <th>citizenship</th>\n",
       "      <td>NB_US</td>\n",
       "      <td>NB_US</td>\n",
       "      <td>NB_US</td>\n",
       "      <td>NB_US</td>\n",
       "      <td>NB_US</td>\n",
       "    </tr>\n",
       "    <tr>\n",
       "      <th>woker_type</th>\n",
       "      <td>Pvt</td>\n",
       "      <td>NaN</td>\n",
       "      <td>Pvt</td>\n",
       "      <td>Pvt</td>\n",
       "      <td>Pvt</td>\n",
       "    </tr>\n",
       "    <tr>\n",
       "      <th>fed_liability</th>\n",
       "      <td>Joint_both_under65</td>\n",
       "      <td>Nonfiler</td>\n",
       "      <td>Single</td>\n",
       "      <td>Joint_both_under65</td>\n",
       "      <td>Single</td>\n",
       "    </tr>\n",
       "    <tr>\n",
       "      <th>full_partime_job</th>\n",
       "      <td>Children/Armed_Forces</td>\n",
       "      <td>Children/Armed_Forces</td>\n",
       "      <td>Children/Armed_Forces</td>\n",
       "      <td>Children/Armed_Forces</td>\n",
       "      <td>Children/Armed_Forces</td>\n",
       "    </tr>\n",
       "    <tr>\n",
       "      <th>income</th>\n",
       "      <td>More than 50K $</td>\n",
       "      <td>More than 50K $</td>\n",
       "      <td>More than 50K $</td>\n",
       "      <td>More than 50K $</td>\n",
       "      <td>More than 50K $</td>\n",
       "    </tr>\n",
       "  </tbody>\n",
       "</table>\n",
       "</div>"
      ],
      "text/plain": [
       "                                                      0  \\\n",
       "currently_enrolled                          High school   \n",
       "race                                              White   \n",
       "father_country                            United-States   \n",
       "educ                 Associates degree-academic program   \n",
       "house_stat                                  Householder   \n",
       "major_ind_code             Business and repair services   \n",
       "labour_union                                         no   \n",
       "self_country                              United-States   \n",
       "major_occ_code                      Protective services   \n",
       "mother_country                            United-States   \n",
       "house_summary                               Householder   \n",
       "gender                                                M   \n",
       "hisp_origin                                   All_Other   \n",
       "marriage_status                  Married_civilian_Sp_Pr   \n",
       "house_1yr_ago                                        No   \n",
       "income_filled                                        No   \n",
       "citizenship                                       NB_US   \n",
       "woker_type                                          Pvt   \n",
       "fed_liability                        Joint_both_under65   \n",
       "full_partime_job                  Children/Armed_Forces   \n",
       "income                                  More than 50K $   \n",
       "\n",
       "                                                         1  \\\n",
       "currently_enrolled                      College/University   \n",
       "race                                                 White   \n",
       "father_country                                       Japan   \n",
       "educ                                              Children   \n",
       "house_stat           Child <18 never marr not in subfamily   \n",
       "major_ind_code                 Not in universe or children   \n",
       "labour_union                                           NaN   \n",
       "self_country                                 United-States   \n",
       "major_occ_code                                         NaN   \n",
       "mother_country                               United-States   \n",
       "house_summary                          Child_U18_Unmarried   \n",
       "gender                                                   M   \n",
       "hisp_origin                                       Mex_Amer   \n",
       "marriage_status                                  Unmarried   \n",
       "house_1yr_ago                                          NaN   \n",
       "income_filled                                           No   \n",
       "citizenship                                          NB_US   \n",
       "woker_type                                             NaN   \n",
       "fed_liability                                     Nonfiler   \n",
       "full_partime_job                     Children/Armed_Forces   \n",
       "income                                     More than 50K $   \n",
       "\n",
       "                                                         2  \\\n",
       "currently_enrolled                                     NaN   \n",
       "race                                                 White   \n",
       "father_country                               United-States   \n",
       "educ                            Some college but no degree   \n",
       "house_stat                            Secondary individual   \n",
       "major_ind_code                 Manufacturing-durable goods   \n",
       "labour_union                                           NaN   \n",
       "self_country                                 United-States   \n",
       "major_occ_code       Machine operators assmblrs & inspctrs   \n",
       "mother_country                               United-States   \n",
       "house_summary                                 Non_Relative   \n",
       "gender                                                   M   \n",
       "hisp_origin                                      All_Other   \n",
       "marriage_status                                   Divorced   \n",
       "house_1yr_ago                                           No   \n",
       "income_filled                                          Yes   \n",
       "citizenship                                          NB_US   \n",
       "woker_type                                             Pvt   \n",
       "fed_liability                                       Single   \n",
       "full_partime_job                     Children/Armed_Forces   \n",
       "income                                     More than 50K $   \n",
       "\n",
       "                                                3  \\\n",
       "currently_enrolled             College/University   \n",
       "race                     Amer/Indian/Aleut/Eskimo   \n",
       "father_country                      United-States   \n",
       "educ                         High school graduate   \n",
       "house_stat                            Householder   \n",
       "major_ind_code                    Wholesale trade   \n",
       "labour_union                                   no   \n",
       "self_country                        United-States   \n",
       "major_occ_code       Handlers equip cleaners etc    \n",
       "mother_country                      United-States   \n",
       "house_summary                         Householder   \n",
       "gender                                          M   \n",
       "hisp_origin                             All_Other   \n",
       "marriage_status            Married_civilian_Sp_Pr   \n",
       "house_1yr_ago                                 Yes   \n",
       "income_filled                                 NaN   \n",
       "citizenship                                 NB_US   \n",
       "woker_type                                    Pvt   \n",
       "fed_liability                  Joint_both_under65   \n",
       "full_partime_job            Children/Armed_Forces   \n",
       "income                            More than 50K $   \n",
       "\n",
       "                                                  4  \n",
       "currently_enrolled                              NaN  \n",
       "race                                          White  \n",
       "father_country                        United-States  \n",
       "educ                           High school graduate  \n",
       "house_stat                              Householder  \n",
       "major_ind_code                      Wholesale trade  \n",
       "labour_union                                     no  \n",
       "self_country                          United-States  \n",
       "major_occ_code       Executive admin and managerial  \n",
       "mother_country                        United-States  \n",
       "house_summary                           Householder  \n",
       "gender                                            F  \n",
       "hisp_origin                               All_Other  \n",
       "marriage_status                            Divorced  \n",
       "house_1yr_ago                                   Yes  \n",
       "income_filled                                   NaN  \n",
       "citizenship                                   NB_US  \n",
       "woker_type                                      Pvt  \n",
       "fed_liability                                Single  \n",
       "full_partime_job              Children/Armed_Forces  \n",
       "income                              More than 50K $  "
      ]
     },
     "execution_count": 345,
     "metadata": {},
     "output_type": "execute_result"
    }
   ],
   "source": [
    "df1[obs].head().T"
   ]
  },
  {
   "cell_type": "code",
   "execution_count": 346,
   "id": "1299bd54",
   "metadata": {},
   "outputs": [
    {
     "data": {
      "text/html": [
       "<div>\n",
       "<style scoped>\n",
       "    .dataframe tbody tr th:only-of-type {\n",
       "        vertical-align: middle;\n",
       "    }\n",
       "\n",
       "    .dataframe tbody tr th {\n",
       "        vertical-align: top;\n",
       "    }\n",
       "\n",
       "    .dataframe thead th {\n",
       "        text-align: right;\n",
       "    }\n",
       "</style>\n",
       "<table border=\"1\" class=\"dataframe\">\n",
       "  <thead>\n",
       "    <tr style=\"text-align: right;\">\n",
       "      <th></th>\n",
       "      <th>0</th>\n",
       "      <th>1</th>\n",
       "      <th>2</th>\n",
       "      <th>3</th>\n",
       "      <th>4</th>\n",
       "    </tr>\n",
       "  </thead>\n",
       "  <tbody>\n",
       "    <tr>\n",
       "      <th>currently_enrolled</th>\n",
       "      <td>High school</td>\n",
       "      <td>College/University</td>\n",
       "      <td>Not Enrolled</td>\n",
       "      <td>College/University</td>\n",
       "      <td>Not Enrolled</td>\n",
       "    </tr>\n",
       "    <tr>\n",
       "      <th>race</th>\n",
       "      <td>White</td>\n",
       "      <td>White</td>\n",
       "      <td>White</td>\n",
       "      <td>Amer/Indian/Aleut/Eskimo</td>\n",
       "      <td>White</td>\n",
       "    </tr>\n",
       "    <tr>\n",
       "      <th>father_country</th>\n",
       "      <td>United-States</td>\n",
       "      <td>Not United-States</td>\n",
       "      <td>United-States</td>\n",
       "      <td>United-States</td>\n",
       "      <td>United-States</td>\n",
       "    </tr>\n",
       "    <tr>\n",
       "      <th>educ</th>\n",
       "      <td>Associates degree-academic program</td>\n",
       "      <td>Children</td>\n",
       "      <td>Some college but no degree</td>\n",
       "      <td>High school graduate</td>\n",
       "      <td>High school graduate</td>\n",
       "    </tr>\n",
       "    <tr>\n",
       "      <th>house_stat</th>\n",
       "      <td>Householder</td>\n",
       "      <td>Child &lt;18</td>\n",
       "      <td>Secondary individual</td>\n",
       "      <td>Householder</td>\n",
       "      <td>Householder</td>\n",
       "    </tr>\n",
       "    <tr>\n",
       "      <th>major_ind_code</th>\n",
       "      <td>Business and repair services</td>\n",
       "      <td>Not in universe or children</td>\n",
       "      <td>Manufacturing-durable goods</td>\n",
       "      <td>Wholesale trade</td>\n",
       "      <td>Wholesale trade</td>\n",
       "    </tr>\n",
       "    <tr>\n",
       "      <th>labour_union</th>\n",
       "      <td>no</td>\n",
       "      <td>no</td>\n",
       "      <td>no</td>\n",
       "      <td>no</td>\n",
       "      <td>no</td>\n",
       "    </tr>\n",
       "    <tr>\n",
       "      <th>self_country</th>\n",
       "      <td>United-States</td>\n",
       "      <td>United-States</td>\n",
       "      <td>United-States</td>\n",
       "      <td>United-States</td>\n",
       "      <td>United-States</td>\n",
       "    </tr>\n",
       "    <tr>\n",
       "      <th>major_occ_code</th>\n",
       "      <td>Protective services</td>\n",
       "      <td>No Industry/children</td>\n",
       "      <td>Machine operators assmblrs &amp; inspctrs</td>\n",
       "      <td>Handlers equip cleaners etc</td>\n",
       "      <td>Executive admin and managerial</td>\n",
       "    </tr>\n",
       "    <tr>\n",
       "      <th>mother_country</th>\n",
       "      <td>United-States</td>\n",
       "      <td>United-States</td>\n",
       "      <td>United-States</td>\n",
       "      <td>United-States</td>\n",
       "      <td>United-States</td>\n",
       "    </tr>\n",
       "    <tr>\n",
       "      <th>house_summary</th>\n",
       "      <td>Householder</td>\n",
       "      <td>Child_U18_Unmarried</td>\n",
       "      <td>Non_Relative</td>\n",
       "      <td>Householder</td>\n",
       "      <td>Householder</td>\n",
       "    </tr>\n",
       "    <tr>\n",
       "      <th>gender</th>\n",
       "      <td>M</td>\n",
       "      <td>M</td>\n",
       "      <td>M</td>\n",
       "      <td>M</td>\n",
       "      <td>F</td>\n",
       "    </tr>\n",
       "    <tr>\n",
       "      <th>hisp_origin</th>\n",
       "      <td>All_Other</td>\n",
       "      <td>Mex_Amer</td>\n",
       "      <td>All_Other</td>\n",
       "      <td>All_Other</td>\n",
       "      <td>All_Other</td>\n",
       "    </tr>\n",
       "    <tr>\n",
       "      <th>marriage_status</th>\n",
       "      <td>Married</td>\n",
       "      <td>Unmarried</td>\n",
       "      <td>Divorced</td>\n",
       "      <td>Married</td>\n",
       "      <td>Divorced</td>\n",
       "    </tr>\n",
       "    <tr>\n",
       "      <th>house_1yr_ago</th>\n",
       "      <td>No</td>\n",
       "      <td>Yes</td>\n",
       "      <td>No</td>\n",
       "      <td>Yes</td>\n",
       "      <td>Yes</td>\n",
       "    </tr>\n",
       "    <tr>\n",
       "      <th>income_filled</th>\n",
       "      <td>No</td>\n",
       "      <td>No</td>\n",
       "      <td>Yes</td>\n",
       "      <td>No</td>\n",
       "      <td>No</td>\n",
       "    </tr>\n",
       "    <tr>\n",
       "      <th>citizenship</th>\n",
       "      <td>NB_US</td>\n",
       "      <td>NB_US</td>\n",
       "      <td>NB_US</td>\n",
       "      <td>NB_US</td>\n",
       "      <td>NB_US</td>\n",
       "    </tr>\n",
       "    <tr>\n",
       "      <th>woker_type</th>\n",
       "      <td>Pvt</td>\n",
       "      <td>Pvt</td>\n",
       "      <td>Pvt</td>\n",
       "      <td>Pvt</td>\n",
       "      <td>Pvt</td>\n",
       "    </tr>\n",
       "    <tr>\n",
       "      <th>fed_liability</th>\n",
       "      <td>Joint_both_under65</td>\n",
       "      <td>Nonfiler</td>\n",
       "      <td>Single</td>\n",
       "      <td>Joint_both_under65</td>\n",
       "      <td>Single</td>\n",
       "    </tr>\n",
       "    <tr>\n",
       "      <th>full_partime_job</th>\n",
       "      <td>Children/Armed_Forces</td>\n",
       "      <td>Children/Armed_Forces</td>\n",
       "      <td>Children/Armed_Forces</td>\n",
       "      <td>Children/Armed_Forces</td>\n",
       "      <td>Children/Armed_Forces</td>\n",
       "    </tr>\n",
       "    <tr>\n",
       "      <th>income</th>\n",
       "      <td>More than 50K $</td>\n",
       "      <td>More than 50K $</td>\n",
       "      <td>More than 50K $</td>\n",
       "      <td>More than 50K $</td>\n",
       "      <td>More than 50K $</td>\n",
       "    </tr>\n",
       "  </tbody>\n",
       "</table>\n",
       "</div>"
      ],
      "text/plain": [
       "                                                     0  \\\n",
       "currently_enrolled                         High school   \n",
       "race                                             White   \n",
       "father_country                           United-States   \n",
       "educ                Associates degree-academic program   \n",
       "house_stat                                 Householder   \n",
       "major_ind_code            Business and repair services   \n",
       "labour_union                                        no   \n",
       "self_country                             United-States   \n",
       "major_occ_code                     Protective services   \n",
       "mother_country                           United-States   \n",
       "house_summary                              Householder   \n",
       "gender                                               M   \n",
       "hisp_origin                                  All_Other   \n",
       "marriage_status                                Married   \n",
       "house_1yr_ago                                       No   \n",
       "income_filled                                       No   \n",
       "citizenship                                      NB_US   \n",
       "woker_type                                         Pvt   \n",
       "fed_liability                       Joint_both_under65   \n",
       "full_partime_job                 Children/Armed_Forces   \n",
       "income                                 More than 50K $   \n",
       "\n",
       "                                              1  \\\n",
       "currently_enrolled           College/University   \n",
       "race                                      White   \n",
       "father_country                Not United-States   \n",
       "educ                                   Children   \n",
       "house_stat                            Child <18   \n",
       "major_ind_code      Not in universe or children   \n",
       "labour_union                                 no   \n",
       "self_country                      United-States   \n",
       "major_occ_code             No Industry/children   \n",
       "mother_country                    United-States   \n",
       "house_summary               Child_U18_Unmarried   \n",
       "gender                                        M   \n",
       "hisp_origin                            Mex_Amer   \n",
       "marriage_status                       Unmarried   \n",
       "house_1yr_ago                               Yes   \n",
       "income_filled                                No   \n",
       "citizenship                               NB_US   \n",
       "woker_type                                  Pvt   \n",
       "fed_liability                          Nonfiler   \n",
       "full_partime_job          Children/Armed_Forces   \n",
       "income                          More than 50K $   \n",
       "\n",
       "                                                        2  \\\n",
       "currently_enrolled                           Not Enrolled   \n",
       "race                                                White   \n",
       "father_country                              United-States   \n",
       "educ                           Some college but no degree   \n",
       "house_stat                           Secondary individual   \n",
       "major_ind_code                Manufacturing-durable goods   \n",
       "labour_union                                           no   \n",
       "self_country                                United-States   \n",
       "major_occ_code      Machine operators assmblrs & inspctrs   \n",
       "mother_country                              United-States   \n",
       "house_summary                                Non_Relative   \n",
       "gender                                                  M   \n",
       "hisp_origin                                     All_Other   \n",
       "marriage_status                                  Divorced   \n",
       "house_1yr_ago                                          No   \n",
       "income_filled                                         Yes   \n",
       "citizenship                                         NB_US   \n",
       "woker_type                                            Pvt   \n",
       "fed_liability                                      Single   \n",
       "full_partime_job                    Children/Armed_Forces   \n",
       "income                                    More than 50K $   \n",
       "\n",
       "                                               3  \\\n",
       "currently_enrolled            College/University   \n",
       "race                    Amer/Indian/Aleut/Eskimo   \n",
       "father_country                     United-States   \n",
       "educ                        High school graduate   \n",
       "house_stat                           Householder   \n",
       "major_ind_code                   Wholesale trade   \n",
       "labour_union                                  no   \n",
       "self_country                       United-States   \n",
       "major_occ_code      Handlers equip cleaners etc    \n",
       "mother_country                     United-States   \n",
       "house_summary                        Householder   \n",
       "gender                                         M   \n",
       "hisp_origin                            All_Other   \n",
       "marriage_status                          Married   \n",
       "house_1yr_ago                                Yes   \n",
       "income_filled                                 No   \n",
       "citizenship                                NB_US   \n",
       "woker_type                                   Pvt   \n",
       "fed_liability                 Joint_both_under65   \n",
       "full_partime_job           Children/Armed_Forces   \n",
       "income                           More than 50K $   \n",
       "\n",
       "                                                 4  \n",
       "currently_enrolled                    Not Enrolled  \n",
       "race                                         White  \n",
       "father_country                       United-States  \n",
       "educ                          High school graduate  \n",
       "house_stat                             Householder  \n",
       "major_ind_code                     Wholesale trade  \n",
       "labour_union                                    no  \n",
       "self_country                         United-States  \n",
       "major_occ_code      Executive admin and managerial  \n",
       "mother_country                       United-States  \n",
       "house_summary                          Householder  \n",
       "gender                                           F  \n",
       "hisp_origin                              All_Other  \n",
       "marriage_status                           Divorced  \n",
       "house_1yr_ago                                  Yes  \n",
       "income_filled                                   No  \n",
       "citizenship                                  NB_US  \n",
       "woker_type                                     Pvt  \n",
       "fed_liability                               Single  \n",
       "full_partime_job             Children/Armed_Forces  \n",
       "income                             More than 50K $  "
      ]
     },
     "execution_count": 346,
     "metadata": {},
     "output_type": "execute_result"
    }
   ],
   "source": [
    "df2.head().T"
   ]
  },
  {
   "cell_type": "code",
   "execution_count": 349,
   "id": "2b5289bd",
   "metadata": {},
   "outputs": [
    {
     "data": {
      "text/html": [
       "<div>\n",
       "<style scoped>\n",
       "    .dataframe tbody tr th:only-of-type {\n",
       "        vertical-align: middle;\n",
       "    }\n",
       "\n",
       "    .dataframe tbody tr th {\n",
       "        vertical-align: top;\n",
       "    }\n",
       "\n",
       "    .dataframe thead th {\n",
       "        text-align: right;\n",
       "    }\n",
       "</style>\n",
       "<table border=\"1\" class=\"dataframe\">\n",
       "  <thead>\n",
       "    <tr style=\"text-align: right;\">\n",
       "      <th></th>\n",
       "      <th>0</th>\n",
       "      <th>1</th>\n",
       "      <th>2</th>\n",
       "      <th>3</th>\n",
       "      <th>4</th>\n",
       "    </tr>\n",
       "  </thead>\n",
       "  <tbody>\n",
       "    <tr>\n",
       "      <th>currently_enrolled</th>\n",
       "      <td>High school</td>\n",
       "      <td>College/University</td>\n",
       "      <td>Not Enrolled</td>\n",
       "      <td>College/University</td>\n",
       "      <td>Not Enrolled</td>\n",
       "    </tr>\n",
       "    <tr>\n",
       "      <th>race</th>\n",
       "      <td>White</td>\n",
       "      <td>White</td>\n",
       "      <td>White</td>\n",
       "      <td>Amer/Indian/Aleut/Eskimo</td>\n",
       "      <td>White</td>\n",
       "    </tr>\n",
       "    <tr>\n",
       "      <th>father_country</th>\n",
       "      <td>United-States</td>\n",
       "      <td>Not United-States</td>\n",
       "      <td>United-States</td>\n",
       "      <td>United-States</td>\n",
       "      <td>United-States</td>\n",
       "    </tr>\n",
       "    <tr>\n",
       "      <th>educ</th>\n",
       "      <td>Associates degree-academic program</td>\n",
       "      <td>Children</td>\n",
       "      <td>Some college but no degree</td>\n",
       "      <td>High school graduate</td>\n",
       "      <td>High school graduate</td>\n",
       "    </tr>\n",
       "    <tr>\n",
       "      <th>house_stat</th>\n",
       "      <td>Householder</td>\n",
       "      <td>Child &lt;18</td>\n",
       "      <td>Secondary individual</td>\n",
       "      <td>Householder</td>\n",
       "      <td>Householder</td>\n",
       "    </tr>\n",
       "    <tr>\n",
       "      <th>major_ind_code</th>\n",
       "      <td>Business and repair services</td>\n",
       "      <td>Not in universe or children</td>\n",
       "      <td>Manufacturing-durable goods</td>\n",
       "      <td>Wholesale trade</td>\n",
       "      <td>Wholesale trade</td>\n",
       "    </tr>\n",
       "    <tr>\n",
       "      <th>labour_union</th>\n",
       "      <td>no</td>\n",
       "      <td>no</td>\n",
       "      <td>no</td>\n",
       "      <td>no</td>\n",
       "      <td>no</td>\n",
       "    </tr>\n",
       "    <tr>\n",
       "      <th>self_country</th>\n",
       "      <td>United-States</td>\n",
       "      <td>United-States</td>\n",
       "      <td>United-States</td>\n",
       "      <td>United-States</td>\n",
       "      <td>United-States</td>\n",
       "    </tr>\n",
       "    <tr>\n",
       "      <th>major_occ_code</th>\n",
       "      <td>Protective services</td>\n",
       "      <td>No Industry/children</td>\n",
       "      <td>Machine operators assmblrs &amp; inspctrs</td>\n",
       "      <td>Handlers equip cleaners etc</td>\n",
       "      <td>Executive admin and managerial</td>\n",
       "    </tr>\n",
       "    <tr>\n",
       "      <th>mother_country</th>\n",
       "      <td>United-States</td>\n",
       "      <td>United-States</td>\n",
       "      <td>United-States</td>\n",
       "      <td>United-States</td>\n",
       "      <td>United-States</td>\n",
       "    </tr>\n",
       "    <tr>\n",
       "      <th>house_summary</th>\n",
       "      <td>Householder</td>\n",
       "      <td>Child_U18_Unmarried</td>\n",
       "      <td>Non_Relative</td>\n",
       "      <td>Householder</td>\n",
       "      <td>Householder</td>\n",
       "    </tr>\n",
       "    <tr>\n",
       "      <th>gender</th>\n",
       "      <td>M</td>\n",
       "      <td>M</td>\n",
       "      <td>M</td>\n",
       "      <td>M</td>\n",
       "      <td>F</td>\n",
       "    </tr>\n",
       "    <tr>\n",
       "      <th>hisp_origin</th>\n",
       "      <td>All_Other</td>\n",
       "      <td>Mex_Amer</td>\n",
       "      <td>All_Other</td>\n",
       "      <td>All_Other</td>\n",
       "      <td>All_Other</td>\n",
       "    </tr>\n",
       "    <tr>\n",
       "      <th>marriage_status</th>\n",
       "      <td>Married</td>\n",
       "      <td>Unmarried</td>\n",
       "      <td>Divorced</td>\n",
       "      <td>Married</td>\n",
       "      <td>Divorced</td>\n",
       "    </tr>\n",
       "    <tr>\n",
       "      <th>house_1yr_ago</th>\n",
       "      <td>No</td>\n",
       "      <td>Yes</td>\n",
       "      <td>No</td>\n",
       "      <td>Yes</td>\n",
       "      <td>Yes</td>\n",
       "    </tr>\n",
       "    <tr>\n",
       "      <th>income_filled</th>\n",
       "      <td>No</td>\n",
       "      <td>No</td>\n",
       "      <td>Yes</td>\n",
       "      <td>No</td>\n",
       "      <td>No</td>\n",
       "    </tr>\n",
       "    <tr>\n",
       "      <th>citizenship</th>\n",
       "      <td>NB_US</td>\n",
       "      <td>NB_US</td>\n",
       "      <td>NB_US</td>\n",
       "      <td>NB_US</td>\n",
       "      <td>NB_US</td>\n",
       "    </tr>\n",
       "    <tr>\n",
       "      <th>woker_type</th>\n",
       "      <td>Pvt</td>\n",
       "      <td>Pvt</td>\n",
       "      <td>Pvt</td>\n",
       "      <td>Pvt</td>\n",
       "      <td>Pvt</td>\n",
       "    </tr>\n",
       "    <tr>\n",
       "      <th>fed_liability</th>\n",
       "      <td>Joint_both_under65</td>\n",
       "      <td>Nonfiler</td>\n",
       "      <td>Single</td>\n",
       "      <td>Joint_both_under65</td>\n",
       "      <td>Single</td>\n",
       "    </tr>\n",
       "    <tr>\n",
       "      <th>full_partime_job</th>\n",
       "      <td>Children/Armed_Forces</td>\n",
       "      <td>Children/Armed_Forces</td>\n",
       "      <td>Children/Armed_Forces</td>\n",
       "      <td>Children/Armed_Forces</td>\n",
       "      <td>Children/Armed_Forces</td>\n",
       "    </tr>\n",
       "    <tr>\n",
       "      <th>income</th>\n",
       "      <td>More than 50K $</td>\n",
       "      <td>More than 50K $</td>\n",
       "      <td>More than 50K $</td>\n",
       "      <td>More than 50K $</td>\n",
       "      <td>More than 50K $</td>\n",
       "    </tr>\n",
       "  </tbody>\n",
       "</table>\n",
       "</div>"
      ],
      "text/plain": [
       "                                                     0  \\\n",
       "currently_enrolled                         High school   \n",
       "race                                             White   \n",
       "father_country                           United-States   \n",
       "educ                Associates degree-academic program   \n",
       "house_stat                                 Householder   \n",
       "major_ind_code            Business and repair services   \n",
       "labour_union                                        no   \n",
       "self_country                             United-States   \n",
       "major_occ_code                     Protective services   \n",
       "mother_country                           United-States   \n",
       "house_summary                              Householder   \n",
       "gender                                               M   \n",
       "hisp_origin                                  All_Other   \n",
       "marriage_status                                Married   \n",
       "house_1yr_ago                                       No   \n",
       "income_filled                                       No   \n",
       "citizenship                                      NB_US   \n",
       "woker_type                                         Pvt   \n",
       "fed_liability                       Joint_both_under65   \n",
       "full_partime_job                 Children/Armed_Forces   \n",
       "income                                 More than 50K $   \n",
       "\n",
       "                                              1  \\\n",
       "currently_enrolled           College/University   \n",
       "race                                      White   \n",
       "father_country                Not United-States   \n",
       "educ                                   Children   \n",
       "house_stat                            Child <18   \n",
       "major_ind_code      Not in universe or children   \n",
       "labour_union                                 no   \n",
       "self_country                      United-States   \n",
       "major_occ_code             No Industry/children   \n",
       "mother_country                    United-States   \n",
       "house_summary               Child_U18_Unmarried   \n",
       "gender                                        M   \n",
       "hisp_origin                            Mex_Amer   \n",
       "marriage_status                       Unmarried   \n",
       "house_1yr_ago                               Yes   \n",
       "income_filled                                No   \n",
       "citizenship                               NB_US   \n",
       "woker_type                                  Pvt   \n",
       "fed_liability                          Nonfiler   \n",
       "full_partime_job          Children/Armed_Forces   \n",
       "income                          More than 50K $   \n",
       "\n",
       "                                                        2  \\\n",
       "currently_enrolled                           Not Enrolled   \n",
       "race                                                White   \n",
       "father_country                              United-States   \n",
       "educ                           Some college but no degree   \n",
       "house_stat                           Secondary individual   \n",
       "major_ind_code                Manufacturing-durable goods   \n",
       "labour_union                                           no   \n",
       "self_country                                United-States   \n",
       "major_occ_code      Machine operators assmblrs & inspctrs   \n",
       "mother_country                              United-States   \n",
       "house_summary                                Non_Relative   \n",
       "gender                                                  M   \n",
       "hisp_origin                                     All_Other   \n",
       "marriage_status                                  Divorced   \n",
       "house_1yr_ago                                          No   \n",
       "income_filled                                         Yes   \n",
       "citizenship                                         NB_US   \n",
       "woker_type                                            Pvt   \n",
       "fed_liability                                      Single   \n",
       "full_partime_job                    Children/Armed_Forces   \n",
       "income                                    More than 50K $   \n",
       "\n",
       "                                               3  \\\n",
       "currently_enrolled            College/University   \n",
       "race                    Amer/Indian/Aleut/Eskimo   \n",
       "father_country                     United-States   \n",
       "educ                        High school graduate   \n",
       "house_stat                           Householder   \n",
       "major_ind_code                   Wholesale trade   \n",
       "labour_union                                  no   \n",
       "self_country                       United-States   \n",
       "major_occ_code      Handlers equip cleaners etc    \n",
       "mother_country                     United-States   \n",
       "house_summary                        Householder   \n",
       "gender                                         M   \n",
       "hisp_origin                            All_Other   \n",
       "marriage_status                          Married   \n",
       "house_1yr_ago                                Yes   \n",
       "income_filled                                 No   \n",
       "citizenship                                NB_US   \n",
       "woker_type                                   Pvt   \n",
       "fed_liability                 Joint_both_under65   \n",
       "full_partime_job           Children/Armed_Forces   \n",
       "income                           More than 50K $   \n",
       "\n",
       "                                                 4  \n",
       "currently_enrolled                    Not Enrolled  \n",
       "race                                         White  \n",
       "father_country                       United-States  \n",
       "educ                          High school graduate  \n",
       "house_stat                             Householder  \n",
       "major_ind_code                     Wholesale trade  \n",
       "labour_union                                    no  \n",
       "self_country                         United-States  \n",
       "major_occ_code      Executive admin and managerial  \n",
       "mother_country                       United-States  \n",
       "house_summary                          Householder  \n",
       "gender                                           F  \n",
       "hisp_origin                              All_Other  \n",
       "marriage_status                           Divorced  \n",
       "house_1yr_ago                                  Yes  \n",
       "income_filled                                   No  \n",
       "citizenship                                  NB_US  \n",
       "woker_type                                     Pvt  \n",
       "fed_liability                               Single  \n",
       "full_partime_job             Children/Armed_Forces  \n",
       "income                             More than 50K $  "
      ]
     },
     "execution_count": 349,
     "metadata": {},
     "output_type": "execute_result"
    }
   ],
   "source": [
    "df1[obs]=df2\n",
    "df1[obs].head().T"
   ]
  },
  {
   "cell_type": "code",
   "execution_count": 351,
   "id": "546a69ec",
   "metadata": {},
   "outputs": [
    {
     "data": {
      "text/plain": [
       "year_of_poll          0\n",
       "own_self_emp          0\n",
       "veteran benefits      0\n",
       "currently_enrolled    0\n",
       "race                  0\n",
       "father_country        0\n",
       "educ                  0\n",
       "house_stat            0\n",
       "major_ind_code        0\n",
       "labour_union          0\n",
       "self_country          0\n",
       "major_occ_code        0\n",
       "age                   0\n",
       "mother_country        0\n",
       "house_summary         0\n",
       "gender                0\n",
       "hisp_origin           0\n",
       "gains                 0\n",
       "dividends             0\n",
       "marriage_status       0\n",
       "losses                0\n",
       "employer_of           0\n",
       "house_1yr_ago         0\n",
       "income_filled         0\n",
       "weeks_worked          0\n",
       "hourly_wage           0\n",
       "citizenship           0\n",
       "woker_type            0\n",
       "fed_liability         0\n",
       "full_partime_job      0\n",
       "income                0\n",
       "dtype: int64"
      ]
     },
     "execution_count": 351,
     "metadata": {},
     "output_type": "execute_result"
    }
   ],
   "source": [
    "df1.drop(['under18','unemp_reason'], axis=1, inplace=True)\n",
    "df1.isnull().sum()"
   ]
  },
  {
   "cell_type": "code",
   "execution_count": 352,
   "id": "ad108631",
   "metadata": {},
   "outputs": [
    {
     "data": {
      "text/html": [
       "<div>\n",
       "<style scoped>\n",
       "    .dataframe tbody tr th:only-of-type {\n",
       "        vertical-align: middle;\n",
       "    }\n",
       "\n",
       "    .dataframe tbody tr th {\n",
       "        vertical-align: top;\n",
       "    }\n",
       "\n",
       "    .dataframe thead th {\n",
       "        text-align: right;\n",
       "    }\n",
       "</style>\n",
       "<table border=\"1\" class=\"dataframe\">\n",
       "  <thead>\n",
       "    <tr style=\"text-align: right;\">\n",
       "      <th></th>\n",
       "      <th>year_of_poll</th>\n",
       "      <th>own_self_emp</th>\n",
       "      <th>veteran benefits</th>\n",
       "      <th>age</th>\n",
       "      <th>gains</th>\n",
       "      <th>dividends</th>\n",
       "      <th>losses</th>\n",
       "      <th>employer_of</th>\n",
       "      <th>weeks_worked</th>\n",
       "      <th>hourly_wage</th>\n",
       "    </tr>\n",
       "  </thead>\n",
       "  <tbody>\n",
       "    <tr>\n",
       "      <th>count</th>\n",
       "      <td>105000.000000</td>\n",
       "      <td>105000.000000</td>\n",
       "      <td>105000.000000</td>\n",
       "      <td>105000.000000</td>\n",
       "      <td>105000.000000</td>\n",
       "      <td>105000.000000</td>\n",
       "      <td>105000.000000</td>\n",
       "      <td>105000.000000</td>\n",
       "      <td>105000.000000</td>\n",
       "      <td>105000.000000</td>\n",
       "    </tr>\n",
       "    <tr>\n",
       "      <th>mean</th>\n",
       "      <td>2004.500305</td>\n",
       "      <td>0.176800</td>\n",
       "      <td>1.517305</td>\n",
       "      <td>36.243924</td>\n",
       "      <td>488.464764</td>\n",
       "      <td>240.232046</td>\n",
       "      <td>25.321047</td>\n",
       "      <td>1.953057</td>\n",
       "      <td>20.898371</td>\n",
       "      <td>93.484943</td>\n",
       "    </tr>\n",
       "    <tr>\n",
       "      <th>std</th>\n",
       "      <td>0.500002</td>\n",
       "      <td>0.555648</td>\n",
       "      <td>0.850049</td>\n",
       "      <td>23.465922</td>\n",
       "      <td>5284.877430</td>\n",
       "      <td>2501.629980</td>\n",
       "      <td>186.824899</td>\n",
       "      <td>2.361890</td>\n",
       "      <td>22.041670</td>\n",
       "      <td>461.214547</td>\n",
       "    </tr>\n",
       "    <tr>\n",
       "      <th>min</th>\n",
       "      <td>2004.000000</td>\n",
       "      <td>0.000000</td>\n",
       "      <td>0.000000</td>\n",
       "      <td>0.000000</td>\n",
       "      <td>0.000000</td>\n",
       "      <td>0.000000</td>\n",
       "      <td>0.000000</td>\n",
       "      <td>0.000000</td>\n",
       "      <td>0.000000</td>\n",
       "      <td>0.000000</td>\n",
       "    </tr>\n",
       "    <tr>\n",
       "      <th>25%</th>\n",
       "      <td>2004.000000</td>\n",
       "      <td>0.000000</td>\n",
       "      <td>2.000000</td>\n",
       "      <td>16.000000</td>\n",
       "      <td>0.000000</td>\n",
       "      <td>0.000000</td>\n",
       "      <td>0.000000</td>\n",
       "      <td>0.000000</td>\n",
       "      <td>0.000000</td>\n",
       "      <td>0.000000</td>\n",
       "    </tr>\n",
       "    <tr>\n",
       "      <th>50%</th>\n",
       "      <td>2005.000000</td>\n",
       "      <td>0.000000</td>\n",
       "      <td>2.000000</td>\n",
       "      <td>35.000000</td>\n",
       "      <td>0.000000</td>\n",
       "      <td>0.000000</td>\n",
       "      <td>0.000000</td>\n",
       "      <td>1.000000</td>\n",
       "      <td>7.000000</td>\n",
       "      <td>0.000000</td>\n",
       "    </tr>\n",
       "    <tr>\n",
       "      <th>75%</th>\n",
       "      <td>2005.000000</td>\n",
       "      <td>0.000000</td>\n",
       "      <td>2.000000</td>\n",
       "      <td>52.000000</td>\n",
       "      <td>0.000000</td>\n",
       "      <td>0.000000</td>\n",
       "      <td>0.000000</td>\n",
       "      <td>4.000000</td>\n",
       "      <td>47.000000</td>\n",
       "      <td>0.000000</td>\n",
       "    </tr>\n",
       "    <tr>\n",
       "      <th>max</th>\n",
       "      <td>2005.000000</td>\n",
       "      <td>2.000000</td>\n",
       "      <td>2.000000</td>\n",
       "      <td>94.000000</td>\n",
       "      <td>109998.900000</td>\n",
       "      <td>119998.800000</td>\n",
       "      <td>3225.600000</td>\n",
       "      <td>6.000000</td>\n",
       "      <td>47.000000</td>\n",
       "      <td>16998.300000</td>\n",
       "    </tr>\n",
       "  </tbody>\n",
       "</table>\n",
       "</div>"
      ],
      "text/plain": [
       "        year_of_poll   own_self_emp  veteran benefits            age  \\\n",
       "count  105000.000000  105000.000000     105000.000000  105000.000000   \n",
       "mean     2004.500305       0.176800          1.517305      36.243924   \n",
       "std         0.500002       0.555648          0.850049      23.465922   \n",
       "min      2004.000000       0.000000          0.000000       0.000000   \n",
       "25%      2004.000000       0.000000          2.000000      16.000000   \n",
       "50%      2005.000000       0.000000          2.000000      35.000000   \n",
       "75%      2005.000000       0.000000          2.000000      52.000000   \n",
       "max      2005.000000       2.000000          2.000000      94.000000   \n",
       "\n",
       "               gains      dividends         losses    employer_of  \\\n",
       "count  105000.000000  105000.000000  105000.000000  105000.000000   \n",
       "mean      488.464764     240.232046      25.321047       1.953057   \n",
       "std      5284.877430    2501.629980     186.824899       2.361890   \n",
       "min         0.000000       0.000000       0.000000       0.000000   \n",
       "25%         0.000000       0.000000       0.000000       0.000000   \n",
       "50%         0.000000       0.000000       0.000000       1.000000   \n",
       "75%         0.000000       0.000000       0.000000       4.000000   \n",
       "max    109998.900000  119998.800000    3225.600000       6.000000   \n",
       "\n",
       "        weeks_worked    hourly_wage  \n",
       "count  105000.000000  105000.000000  \n",
       "mean       20.898371      93.484943  \n",
       "std        22.041670     461.214547  \n",
       "min         0.000000       0.000000  \n",
       "25%         0.000000       0.000000  \n",
       "50%         7.000000       0.000000  \n",
       "75%        47.000000       0.000000  \n",
       "max        47.000000   16998.300000  "
      ]
     },
     "execution_count": 352,
     "metadata": {},
     "output_type": "execute_result"
    }
   ],
   "source": [
    "df1.describe()"
   ]
  },
  {
   "cell_type": "code",
   "execution_count": 354,
   "id": "033aa849",
   "metadata": {},
   "outputs": [
    {
     "name": "stdout",
     "output_type": "stream",
     "text": [
      "Count of zeros in column  year_of_poll  is :  0\n",
      "Count of zeros in column  own_self_emp  is :  95004\n",
      "Count of zeros in column  veteran benefits  is :  24826\n",
      "Count of zeros in column  age  is :  1502\n",
      "Count of zeros in column  gains  is :  101128\n",
      "Count of zeros in column  dividends  is :  93914\n",
      "Count of zeros in column  losses  is :  102994\n",
      "Count of zeros in column  employer_of  is :  50546\n",
      "Count of zeros in column  weeks_worked  is :  50546\n",
      "Count of zeros in column  hourly_wage  is :  99074\n"
     ]
    }
   ],
   "source": [
    "for column_name in df1[nums].columns:\n",
    "    column = df1[column_name]\n",
    "    # Get the count of Zeros in column \n",
    "    count = (column == 0).sum()\n",
    "    print('Count of zeros in column ', column_name, ' is : ', count)"
   ]
  },
  {
   "cell_type": "code",
   "execution_count": 359,
   "id": "1ebf4e60",
   "metadata": {},
   "outputs": [],
   "source": [
    "df1.to_csv('df1.csv')"
   ]
  },
  {
   "cell_type": "code",
   "execution_count": 369,
   "id": "215860c4",
   "metadata": {},
   "outputs": [
    {
     "data": {
      "text/plain": [
       "Pvt                 158\n",
       " Never worked        29\n",
       "Self_emp_not_inc     24\n",
       "Loc_Govt              7\n",
       "Self_emp_inc          5\n",
       " Without pay          5\n",
       "St_Govt               3\n",
       "Name: woker_type, dtype: int64"
      ]
     },
     "execution_count": 369,
     "metadata": {},
     "output_type": "execute_result"
    }
   ],
   "source": [
    "df_tr[(df_tr['age']>0)&(df_tr['age']<16)]['woker_type'].value_counts()"
   ]
  },
  {
   "cell_type": "code",
   "execution_count": 371,
   "id": "49a1ebf0",
   "metadata": {},
   "outputs": [],
   "source": [
    "df1[(df1['age']>0)&(df1['age']<16)]['woker_type']='Never worked'"
   ]
  },
  {
   "cell_type": "code",
   "execution_count": 374,
   "id": "0c6e2b8a",
   "metadata": {},
   "outputs": [
    {
     "data": {
      "text/plain": [
       "Int64Index([     1,      5,     10,     19,     28,     35,     37,     40,\n",
       "                42,     51,\n",
       "            ...\n",
       "            104949, 104951, 104954, 104956, 104959, 104963, 104967, 104988,\n",
       "            104996, 104999],\n",
       "           dtype='int64', length=23329)"
      ]
     },
     "execution_count": 374,
     "metadata": {},
     "output_type": "execute_result"
    }
   ],
   "source": [
    "ind_list = df1[(df1['age']>0)&(df1['age']<16)]['woker_type'].index\n",
    "ind_list"
   ]
  },
  {
   "cell_type": "code",
   "execution_count": 378,
   "id": "49eeee07",
   "metadata": {},
   "outputs": [],
   "source": [
    "df1['woker_type'].iloc[ind_list]='Never worked'"
   ]
  },
  {
   "cell_type": "code",
   "execution_count": 380,
   "id": "3a04d912",
   "metadata": {},
   "outputs": [
    {
     "data": {
      "text/plain": [
       "Never worked    23329\n",
       "Name: woker_type, dtype: int64"
      ]
     },
     "execution_count": 380,
     "metadata": {},
     "output_type": "execute_result"
    }
   ],
   "source": [
    "df1[(df1['age']>0)&(df1['age']<16)]['woker_type'].value_counts()"
   ]
  },
  {
   "cell_type": "code",
   "execution_count": 381,
   "id": "0f9378bd",
   "metadata": {},
   "outputs": [
    {
     "data": {
      "text/plain": [
       "0"
      ]
     },
     "execution_count": 381,
     "metadata": {},
     "output_type": "execute_result"
    }
   ],
   "source": [
    "df1['income_filled'].isnull().sum()"
   ]
  },
  {
   "cell_type": "code",
   "execution_count": 384,
   "id": "15ec369b",
   "metadata": {},
   "outputs": [],
   "source": [
    "ind_list=df1[(df1['marriage_status']=='Married')&(df1['age']<16)].index\n",
    "df1['marriage_status'].iloc[ind_list]='Unmarried'"
   ]
  },
  {
   "cell_type": "code",
   "execution_count": 385,
   "id": "ef2509ab",
   "metadata": {},
   "outputs": [
    {
     "data": {
      "text/html": [
       "<div>\n",
       "<style scoped>\n",
       "    .dataframe tbody tr th:only-of-type {\n",
       "        vertical-align: middle;\n",
       "    }\n",
       "\n",
       "    .dataframe tbody tr th {\n",
       "        vertical-align: top;\n",
       "    }\n",
       "\n",
       "    .dataframe thead th {\n",
       "        text-align: right;\n",
       "    }\n",
       "</style>\n",
       "<table border=\"1\" class=\"dataframe\">\n",
       "  <thead>\n",
       "    <tr style=\"text-align: right;\">\n",
       "      <th></th>\n",
       "      <th>year_of_poll</th>\n",
       "      <th>own_self_emp</th>\n",
       "      <th>veteran benefits</th>\n",
       "      <th>currently_enrolled</th>\n",
       "      <th>race</th>\n",
       "      <th>father_country</th>\n",
       "      <th>educ</th>\n",
       "      <th>house_stat</th>\n",
       "      <th>major_ind_code</th>\n",
       "      <th>labour_union</th>\n",
       "      <th>...</th>\n",
       "      <th>employer_of</th>\n",
       "      <th>house_1yr_ago</th>\n",
       "      <th>income_filled</th>\n",
       "      <th>weeks_worked</th>\n",
       "      <th>hourly_wage</th>\n",
       "      <th>citizenship</th>\n",
       "      <th>woker_type</th>\n",
       "      <th>fed_liability</th>\n",
       "      <th>full_partime_job</th>\n",
       "      <th>income</th>\n",
       "    </tr>\n",
       "  </thead>\n",
       "  <tbody>\n",
       "  </tbody>\n",
       "</table>\n",
       "<p>0 rows × 31 columns</p>\n",
       "</div>"
      ],
      "text/plain": [
       "Empty DataFrame\n",
       "Columns: [year_of_poll, own_self_emp, veteran benefits, currently_enrolled, race, father_country, educ, house_stat, major_ind_code, labour_union, self_country, major_occ_code, age, mother_country, house_summary, gender, hisp_origin, gains, dividends, marriage_status, losses, employer_of, house_1yr_ago, income_filled, weeks_worked, hourly_wage, citizenship, woker_type, fed_liability, full_partime_job, income]\n",
       "Index: []\n",
       "\n",
       "[0 rows x 31 columns]"
      ]
     },
     "execution_count": 385,
     "metadata": {},
     "output_type": "execute_result"
    }
   ],
   "source": [
    "df1[(df1['marriage_status']=='Married')&(df1['age']<16)]"
   ]
  },
  {
   "cell_type": "code",
   "execution_count": 388,
   "id": "c6880464",
   "metadata": {},
   "outputs": [],
   "source": [
    "ind_list=df1[(df1['age']==0)&(df1['house_summary']=='Child_U18_Unmarried')].index\n",
    "df1['age'].iloc[ind_list]=15.0"
   ]
  },
  {
   "cell_type": "code",
   "execution_count": 393,
   "id": "110ef654",
   "metadata": {},
   "outputs": [],
   "source": [
    "ind_list=df1[(df1['age']==0)].index\n",
    "df1['age'].iloc[ind_list]=16"
   ]
  },
  {
   "cell_type": "code",
   "execution_count": 395,
   "id": "1a5e413a",
   "metadata": {},
   "outputs": [
    {
     "data": {
      "text/plain": [
       "count    105000.000000\n",
       "mean         36.460629\n",
       "std          23.198678\n",
       "min           1.000000\n",
       "25%          16.000000\n",
       "50%          35.000000\n",
       "75%          52.000000\n",
       "max          94.000000\n",
       "Name: age, dtype: float64"
      ]
     },
     "execution_count": 395,
     "metadata": {},
     "output_type": "execute_result"
    }
   ],
   "source": [
    "df1['age'].describe()"
   ]
  },
  {
   "cell_type": "code",
   "execution_count": 397,
   "id": "737eebbd",
   "metadata": {},
   "outputs": [],
   "source": [
    "df1.to_csv('train_clean.csv',index=False)"
   ]
  },
  {
   "cell_type": "code",
   "execution_count": 398,
   "id": "48a2bfb3",
   "metadata": {},
   "outputs": [
    {
     "data": {
      "text/plain": [
       "Index(['currently_enrolled', 'race', 'father_country', 'educ', 'house_stat',\n",
       "       'major_ind_code', 'labour_union', 'self_country', 'major_occ_code',\n",
       "       'mother_country', 'house_summary', 'gender', 'hisp_origin',\n",
       "       'marriage_status', 'house_1yr_ago', 'income_filled', 'citizenship',\n",
       "       'woker_type', 'fed_liability', 'full_partime_job', 'income'],\n",
       "      dtype='object')"
      ]
     },
     "execution_count": 398,
     "metadata": {},
     "output_type": "execute_result"
    }
   ],
   "source": [
    "df1.select_dtypes(include='object').columns"
   ]
  }
 ],
 "metadata": {
  "kernelspec": {
   "display_name": "Python 3",
   "language": "python",
   "name": "python3"
  },
  "language_info": {
   "codemirror_mode": {
    "name": "ipython",
    "version": 3
   },
   "file_extension": ".py",
   "mimetype": "text/x-python",
   "name": "python",
   "nbconvert_exporter": "python",
   "pygments_lexer": "ipython3",
   "version": "3.8.8"
  }
 },
 "nbformat": 4,
 "nbformat_minor": 5
}
